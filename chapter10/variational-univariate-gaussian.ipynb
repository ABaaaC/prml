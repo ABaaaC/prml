{
 "cells": [
  {
   "cell_type": "markdown",
   "metadata": {},
   "source": [
    "# Variacional Univariate Gaussian"
   ]
  },
  {
   "cell_type": "code",
   "execution_count": 1,
   "metadata": {},
   "outputs": [],
   "source": [
    "import numpy as np\n",
    "import matplotlib.pyplot as plt\n",
    "from numpy.random import randn"
   ]
  },
  {
   "cell_type": "code",
   "execution_count": 2,
   "metadata": {},
   "outputs": [],
   "source": [
    "%config InlineBackend.figure_format = \"retina\""
   ]
  },
  {
   "cell_type": "markdown",
   "metadata": {},
   "source": [
    "In this notebook we look at a factorized variational approximation to a Gaussian Distribution.\n",
    "\n",
    "Let $\\mathcal D= \\{x_n\\}_{n=1}^N$ i.i.d. random variables such that $x_n\\sim \\mathcal N(\\mu, \\tau^{-1})$. Our goal is to find a posterior distribution \n",
    "\n",
    "$$\n",
    "    p(\\mu, \\tau | \\mathcal D) \\propto p(\\tau)p(\\mu|\\tau) p(\\mathcal D | \\mu, \\tau)\n",
    "$$\n",
    "\n",
    "With\n",
    "* $p(\\tau) = \\text{Gam}(\\tau|a_0, b_0)$\n",
    "* $p(\\mu|\\tau) = \\mathcal N(\\mu|\\mu_0, (\\lambda_0\\tau)^{-1})$\n",
    "* $p(\\mathcal D | \\mu, \\tau) = \\prod_{n=1}^N \\mathcal{N}(x_n | \\mu, \\tau^{-1})$\n",
    "\n",
    "To find such posterior, we assume a factorized variational approximation to $p$ given by\n",
    "\n",
    "$$\n",
    "    q(\\mu,\\tau) = q^*_\\mu(\\mu) q^*_\\tau(\\tau)\n",
    "$$\n",
    "\n",
    "\n",
    "Since the optimum factors of a factorized variational approximation follow the relation\n",
    "\n",
    "$$\n",
    "    \\log q^*_j({\\bf z}_j) = \\mathbb{E}_{m\\neq j}[\\log p({\\bf z})] + C,\n",
    "$$\n",
    "\n",
    "It follows that\n",
    "\n",
    "$$\n",
    "    q^*_\\mu(\\mu) = \\mathcal{N}\\left(\\mu \\ \\big | \\frac{N\\bar x + \\mu_0}{N + \\lambda_0}, [N + \\lambda_0]\\mathbb{E}[\\tau]\\right)\n",
    "$$\n",
    "\n",
    "\n",
    "$$\n",
    "    q^*_\\tau(\\tau) = \\text{Gam}\\left(\\tau \\ \\big | a_0 + \\frac{N}{2}, b_0 + \\frac{1}{2}\\mathbb{E}\\left[\\lambda_0\\tau(\\mu - \\mu_0)^2 + \\sum_{n=1}^N(x_n - \\mu)^2\\right] \\right)\n",
    "$$"
   ]
  }
 ],
 "metadata": {
  "kernelspec": {
   "display_name": "Python 3",
   "language": "python",
   "name": "python3"
  },
  "language_info": {
   "codemirror_mode": {
    "name": "ipython",
    "version": 3
   },
   "file_extension": ".py",
   "mimetype": "text/x-python",
   "name": "python",
   "nbconvert_exporter": "python",
   "pygments_lexer": "ipython3",
   "version": "3.7.6"
  }
 },
 "nbformat": 4,
 "nbformat_minor": 4
}
