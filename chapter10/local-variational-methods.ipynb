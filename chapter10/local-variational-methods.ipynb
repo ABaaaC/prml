{
 "cells": [
  {
   "cell_type": "markdown",
   "metadata": {},
   "source": [
    "# Local Variational Methods\n",
    "\n",
    "An alternative 'local' approach to a variational approximation which involves finding bounds on functions over individual variables or groups of variables within a model"
   ]
  },
  {
   "cell_type": "code",
   "execution_count": 1,
   "metadata": {},
   "outputs": [],
   "source": [
    "import numpy as np\n",
    "import matplotlib.pyplot as plt"
   ]
  },
  {
   "cell_type": "code",
   "execution_count": 2,
   "metadata": {},
   "outputs": [],
   "source": [
    "%config InlineBackend.figure_format = \"retina\"\n",
    "plt.rcParams[\"figure.figsize\"] = (8, 4)"
   ]
  },
  {
   "cell_type": "markdown",
   "metadata": {},
   "source": [
    "## A first example $f(x) = \\exp(-x)$\n",
    "\n",
    "$$\n",
    "    f(x) = \\max_{\\eta}\\left\\{\\eta x - \\eta + \\eta\\log(-\\eta)\\right\\}\n",
    "$$"
   ]
  },
  {
   "cell_type": "code",
   "execution_count": 3,
   "metadata": {},
   "outputs": [],
   "source": [
    "def f(x):\n",
    "    return np.exp(-x)\n",
    "\n",
    "\n",
    "def f_linear(x, η):\n",
    "    \"\"\"\n",
    "    First order linear approximation to exp(-x)\n",
    "    \n",
    "    Parameters\n",
    "    ----------\n",
    "    x: float\n",
    "        Evaluation point\n",
    "    η: float\n",
    "        η := -exp(-x)\n",
    "    \"\"\"\n",
    "    return η * x - η + η * np.log(-η)\n",
    "\n",
    "\n",
    "def f_prime(f, x, eps=1e-8):\n",
    "    return (f(x + eps) - f(x)) / eps\n",
    "\n",
    "\n",
    "def gradient_descent(f, xinit, eps=1e-5, alpha=0.01):\n",
    "    delta = np.inf\n",
    "    x_star = xinit\n",
    "    while delta > eps:\n",
    "        grad_eta = f_prime(f, x_star)\n",
    "        x_star_new = x_star - alpha * grad_eta\n",
    "        delta = abs(x_star_new / x_star - 1)\n",
    "        x_star = x_star_new\n",
    "    \n",
    "    return x_star"
   ]
  },
  {
   "cell_type": "code",
   "execution_count": null,
   "metadata": {},
   "outputs": [],
   "source": []
  },
  {
   "cell_type": "code",
   "execution_count": 4,
   "metadata": {},
   "outputs": [
    {
     "ename": "TypeError",
     "evalue": "cannot unpack non-iterable numpy.float64 object",
     "output_type": "error",
     "traceback": [
      "\u001b[0;31m---------------------------------------------------------------------------\u001b[0m",
      "\u001b[0;31mTypeError\u001b[0m                                 Traceback (most recent call last)",
      "\u001b[0;32m<ipython-input-4-80d7de615fb0>\u001b[0m in \u001b[0;36m<module>\u001b[0;34m\u001b[0m\n\u001b[1;32m      6\u001b[0m \u001b[0meta_collection\u001b[0m \u001b[0;34m=\u001b[0m \u001b[0;34m[\u001b[0m\u001b[0;34m]\u001b[0m\u001b[0;34m\u001b[0m\u001b[0;34m\u001b[0m\u001b[0m\n\u001b[1;32m      7\u001b[0m \u001b[0;32mfor\u001b[0m \u001b[0mx\u001b[0m \u001b[0;32min\u001b[0m \u001b[0mxrange\u001b[0m\u001b[0;34m[\u001b[0m\u001b[0;34m:\u001b[0m\u001b[0;34m:\u001b[0m\u001b[0;36m2\u001b[0m\u001b[0;34m]\u001b[0m\u001b[0;34m:\u001b[0m\u001b[0;34m\u001b[0m\u001b[0;34m\u001b[0m\u001b[0m\n\u001b[0;32m----> 8\u001b[0;31m     \u001b[0meta_hat\u001b[0m\u001b[0;34m,\u001b[0m \u001b[0m_\u001b[0m \u001b[0;34m=\u001b[0m \u001b[0mgradient_descent\u001b[0m\u001b[0;34m(\u001b[0m\u001b[0;32mlambda\u001b[0m \u001b[0meta\u001b[0m\u001b[0;34m:\u001b[0m \u001b[0;34m-\u001b[0m\u001b[0mf_linear\u001b[0m\u001b[0;34m(\u001b[0m\u001b[0mx\u001b[0m\u001b[0;34m,\u001b[0m \u001b[0meta\u001b[0m\u001b[0;34m)\u001b[0m\u001b[0;34m,\u001b[0m \u001b[0meta_init\u001b[0m\u001b[0;34m,\u001b[0m \u001b[0malpha\u001b[0m\u001b[0;34m=\u001b[0m\u001b[0malpha\u001b[0m\u001b[0;34m)\u001b[0m\u001b[0;34m\u001b[0m\u001b[0;34m\u001b[0m\u001b[0m\n\u001b[0m\u001b[1;32m      9\u001b[0m     \u001b[0mplt\u001b[0m\u001b[0;34m.\u001b[0m\u001b[0mscatter\u001b[0m\u001b[0;34m(\u001b[0m\u001b[0mx\u001b[0m\u001b[0;34m,\u001b[0m \u001b[0mf_linear\u001b[0m\u001b[0;34m(\u001b[0m\u001b[0mx\u001b[0m\u001b[0;34m,\u001b[0m \u001b[0meta_hat\u001b[0m\u001b[0;34m)\u001b[0m\u001b[0;34m,\u001b[0m \u001b[0mc\u001b[0m\u001b[0;34m=\u001b[0m\u001b[0;34m\"tab:red\"\u001b[0m\u001b[0;34m)\u001b[0m\u001b[0;34m\u001b[0m\u001b[0;34m\u001b[0m\u001b[0m\n\u001b[1;32m     10\u001b[0m     \u001b[0meta_collection\u001b[0m\u001b[0;34m.\u001b[0m\u001b[0mappend\u001b[0m\u001b[0;34m(\u001b[0m\u001b[0meta_hat\u001b[0m\u001b[0;34m)\u001b[0m\u001b[0;34m\u001b[0m\u001b[0;34m\u001b[0m\u001b[0m\n",
      "\u001b[0;31mTypeError\u001b[0m: cannot unpack non-iterable numpy.float64 object"
     ]
    }
   ],
   "source": [
    "xlower = np.linspace(-10, 10)\n",
    "etas = np.arange(-0.1, -10, -0.2)\n",
    "xrange = -4 + 10 ** np.linspace(0, 1)\n",
    "    \n",
    "eta_init, alpha = -0.1, 1e-3\n",
    "eta_collection = []\n",
    "for x in xrange[::2]:\n",
    "    eta_hat, _ = gradient_descent(lambda eta: -f_linear(x, eta), eta_init, alpha=alpha)\n",
    "    plt.scatter(x, f_linear(x, eta_hat), c=\"tab:red\")\n",
    "    eta_collection.append(eta_hat)\n",
    "    \n",
    "for eta in eta_collection:\n",
    "    plt.plot(xlower, f_linear(xlower, eta), alpha=0.5, c=\"tab:gray\")\n",
    "\n",
    "    \n",
    "plt.plot(xrange, f(xrange), linewidth=2)\n",
    "\n",
    "plt.ylim(-10, 20)\n",
    "eq = r\"$\\exp(-x) = \\max_{\\eta}\\left\\{\\eta x - \\eta + \\eta\\log(-\\eta)\\right\\}$\"\n",
    "plt.title(eq + \"\\nTangent Approximation\", fontsize=15)\n",
    "plt.grid()"
   ]
  }
 ],
 "metadata": {
  "kernelspec": {
   "display_name": "Python 3",
   "language": "python",
   "name": "python3"
  }
 },
 "nbformat": 4,
 "nbformat_minor": 4
}
