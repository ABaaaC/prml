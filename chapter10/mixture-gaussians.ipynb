{
 "cells": [
  {
   "cell_type": "markdown",
   "metadata": {},
   "source": [
    "# Variational Mixture of Gaussians"
   ]
  },
  {
   "cell_type": "code",
   "execution_count": 1,
   "metadata": {},
   "outputs": [],
   "source": [
    "import numpy as np\n",
    "import matplotlib.pyplot as plt\n",
    "import requests\n",
    "import pandas as pd"
   ]
  },
  {
   "cell_type": "code",
   "execution_count": 2,
   "metadata": {},
   "outputs": [],
   "source": [
    "%config InlineBackend.figure_format = \"retina\"\n",
    "plt.rcParams[\"figure.figsize\"] = (8, 4)"
   ]
  },
  {
   "cell_type": "code",
   "execution_count": 3,
   "metadata": {},
   "outputs": [],
   "source": [
    "url = (\"https://gist.githubusercontent.com/curran/\"\n",
    "       \"4b59d1046d9e66f2787780ad51a1cd87/raw/\"\n",
    "       \"9ec906b78a98cf300947a37b56cfe70d01183200/data.tsv\")"
   ]
  },
  {
   "cell_type": "markdown",
   "metadata": {},
   "source": [
    "Let ${\\bf X} = \\{x_n\\}_{n=1}^N$ a dataset of i.i.d. mixture of Gaussians with parameters $\\boldsymbol \\pi = \\{\\pi_k\\}_{k=1}^K$, $\\boldsymbol \\mu= \\{\\mu_k\\}_{k=1}^K$, $\\boldsymbol \\Lambda= \\{\\Lambda_k\\}_{k=1}^K$ and latent variables ${\\bf Z}=\\{z_n\\}_n$.\n",
    "\n",
    "The likelihood distribution is defined to be\n",
    "\n",
    "$$\n",
    "\\begin{aligned}\n",
    "    p({\\bf x} \\vert {\\bf z}, {\\boldsymbol \\pi}, {\\boldsymbol \\mu}, {\\boldsymbol \\lambda}) &= p({\\bf x} \\vert {\\bf z}, {\\boldsymbol \\mu}, {\\boldsymbol \\lambda}) p({\\bf z} \\vert {\\boldsymbol \\pi}) \\\\\n",
    "    &= \\prod_{n=1}^N\\prod_{k=1}^K \\mathcal{N}\\left(x_n \\vert \\mu_k, \\Lambda_k^{-1}\\right)^{z_{nk}} \\cdot \\prod_{n=1}^N\\prod_{k=1}^K \\pi_k^{z_{nk}}\n",
    "\\end{aligned}\n",
    "$$\n",
    "\n",
    "Thus, the full joint distribution factorizes as follows:\n",
    "\n",
    "$$\n",
    "\\begin{aligned}\n",
    "p({\\bf x} , {\\bf z}, {\\boldsymbol \\pi}, {\\boldsymbol \\mu}, {\\boldsymbol \\lambda}) &= p({\\bf x} \\vert {\\bf z}, {\\boldsymbol \\pi}, {\\boldsymbol \\mu}, {\\boldsymbol \\lambda}) p({\\bf z}, {\\boldsymbol \\pi}, {\\boldsymbol \\mu}, {\\boldsymbol \\lambda}) \\\\\n",
    "&= p({\\bf x} \\vert {\\bf z}, {\\boldsymbol \\pi}, {\\boldsymbol \\mu}, {\\boldsymbol \\lambda}) p(\\boldsymbol \\pi) p({\\bf z} \\vert \\boldsymbol \\pi) p(\\boldsymbol \\mu \\vert \\boldsymbol \\Lambda) p(\\boldsymbol \\Lambda)\n",
    "\\end{aligned} \n",
    "$$\n",
    "\n",
    "We now introduce conjugate priors of the form\n",
    "\n",
    "$$\n",
    "    p(\\boldsymbol\\pi) = \\text{Dir}(\\boldsymbol \\pi \\vert \\alpha_0)\n",
    "$$\n",
    "\n",
    "$$\n",
    "   p(\\boldsymbol\\mu\\vert\\boldsymbol\\Lambda) = \\prod_{k=1}^K \\mathcal{N}\\left(\\mu_k\\vert{\\bf m}_0, (\\beta_0\\Lambda_k)^{-1}\\right)\n",
    "$$\n",
    "\n",
    "$$\n",
    "   p(\\boldsymbol\\Lambda) = \\prod_{k=1}^K \\mathcal{W}(\\Lambda_k\\vert{\\bf W}_0, \\nu_0)\n",
    "$$"
   ]
  },
  {
   "cell_type": "markdown",
   "metadata": {},
   "source": [
    "Next, we consider a variational distribution that factorizes between latent variables ($\\bf z$) and parameters ($\\boldsymbol\\pi, \\boldsymbol\\mu, \\boldsymbol\\Lambda$):\n",
    "\n",
    "$$\n",
    "    q({\\bf z}, \\boldsymbol\\pi, \\boldsymbol\\mu, \\boldsymbol\\Lambda) = q({\\bf z})q(\\boldsymbol\\pi, \\boldsymbol\\mu, \\boldsymbol\\lambda)\n",
    "$$\n",
    "\n",
    "---\n",
    "\n",
    "In general, a factorized variational approximation to a full joint distribution of observed variables ($\\bf x$) and hidden variables ($\\bf z$) satisfies\n",
    "\n",
    "$$\n",
    "    \\log q_j^*(z_j) = \\mathbb{E}_{m\\neq j}\\left[\\log p({\\bf x}, {\\bf z})\\right] + C\n",
    "$$\n",
    "\n",
    "\n",
    "Which involves the following computation for our problem:\n",
    "\n",
    "$$\n",
    "    \\log q({\\bf z}) = \\mathbb{E}_{\\boldsymbol\\pi, \\boldsymbol\\mu, \\boldsymbol\\Lambda}\\left[\\log p({\\bf x} , {\\bf z}, {\\boldsymbol \\pi}, {\\boldsymbol \\mu}, {\\boldsymbol \\lambda})\\right] + C\n",
    "$$\n",
    "\n",
    "$$\n",
    "    \\log q(\\boldsymbol\\pi, \\boldsymbol\\mu, \\boldsymbol\\Lambda) = \\mathbb{E}_{\\bf z}\\left[\\log p({\\bf x} , {\\bf z}, {\\boldsymbol \\pi}, {\\boldsymbol \\mu}, {\\boldsymbol \\lambda})\\right] + C\n",
    "$$"
   ]
  },
  {
   "cell_type": "markdown",
   "metadata": {
    "slideshow": {
     "slide_type": "slide"
    }
   },
   "source": [
    "It turns out that \n",
    "\n",
    "$$\n",
    "    q^*({\\bf z}) = \\prod_{n=1}^N\\prod_{k=1}^K r_{nk}^{z_{nk}}\n",
    "$$\n",
    "\n",
    "With \n",
    "* $r_{nk} = \\frac{\\rho_{nk}}{\\sum_j\\rho_{nj}}$,\n",
    "* $\\log \\rho_{nk} = \\mathbb{E}_{\\pi}[\\log \\pi_k] + \\frac{1}{2}\\mathbb{E}_{\\boldsymbol \\Lambda}[\\log\\vert\\Lambda_k\\vert] - \\frac{M}{2}\\log 2\\pi - \\frac{1}{2}\\mathbb{E}_{\\boldsymbol \\mu, \\boldsymbol \\Lambda}\\left[(x_n - \\mu_k)^T\\Lambda_k(x_n - \\mu_k)\\right]$\n",
    "    * $\\mathbb{E}_{\\pi}[\\log \\pi_k] = \\psi(\\alpha_k) - \\psi(\\hat{\\boldsymbol\\alpha})$\n",
    "    * $\\mathbb{E}_{\\boldsymbol \\Lambda}\\left[\\log\\vert\\Lambda_k\\vert\\right] = \\sum_{m=1}^M\\psi\\left(\\frac{\\nu_k + 1 - M}{2}\\right) + M\\log2 + \\log\\vert{\\bf w}_k\\vert$\n",
    "    * $\\mathbb{E}_{\\boldsymbol \\mu, \\boldsymbol \\Lambda}\\left[(x_n - \\mu_k)^T\\Lambda_k(x_n - \\mu_k)\\right] = \\nu_k(x_n - {\\bf m}_k)^T {\\bf w}_k(x_n - {\\bf m}_k) + M\\beta^{-1}_k$\n",
    "\n",
    "\n",
    "* $\\psi(a) = \\frac{d}{da}\\Gamma(a)$\n",
    "* $\\hat{\\boldsymbol\\alpha} = \\sum_k\\alpha_k$\n",
    "\n",
    "---\n",
    "\n",
    "\n",
    "$$\n",
    "    q^*(\\boldsymbol\\pi) = \\text{Dir}(\\boldsymbol\\pi | \\boldsymbol\\alpha)\n",
    "$$\n",
    "\n",
    "With\n",
    "* $\\boldsymbol\\alpha_k = \\alpha_0 + N_k$\n",
    "\n",
    "---\n",
    "\n",
    "$$\n",
    "    q^{*}(\\mu_k |  \\Lambda_k) = \\mathcal{N}\\left(\\mu_k |  {\\bf m}_k, (\\beta_k \\Lambda_k)^{-1}\\right)\n",
    "$$\n",
    "\n",
    "With\n",
    "* $\\beta_k = \\beta_0 + N_k$\n",
    "* ${\\bf m}_k = \\frac{1}{\\beta_k}(\\beta_0{\\bf m}_0 + N_k\\bar{\\bf x}_k)$\n",
    "\n",
    "---\n",
    "\n",
    "$$\n",
    "    q^{*}(\\Lambda_k) = \\mathcal{W}(\\Lambda_k | {\\bf w}_k, \\nu_k)\n",
    "$$\n",
    "\n",
    "With\n",
    "* $\\nu_k$ = $\\nu_0 + N_k$\n",
    "* ${\\bf w}_k^{-1} = {\\bf w}_0 + N_kS_k + \\frac{\\beta_0N_k}{\\beta_0 + N_k}(\\bar{\\bf x}_k - {\\bf m}_0)(\\bar{\\bf x}_k - {\\bf m}_0)^T$\n",
    "\n",
    "\n",
    "Where we have defined\n",
    "\n",
    "$$\n",
    "    N_k = \\sum_{n=1}^N r_{nk}\n",
    "$$\n",
    "\n",
    "$$\n",
    "    \\bar{\\bf x}_k = \\frac{1}{N_k}\\sum_{n=1}^N r_{nk} {\\bf x}_n\n",
    "$$\n",
    "\n",
    "$$\n",
    "    S_k = \\frac{1}{N_k}\\sum_{n=1}^N r_{nk} \\big({\\bf x}_n - \\bar{\\bf x}_k\\big)\\big({\\bf x}_n - \\bar{\\bf x}_k\\big)^T\n",
    "$$"
   ]
  },
  {
   "cell_type": "code",
   "execution_count": 4,
   "metadata": {},
   "outputs": [],
   "source": [
    "old_faithful = pd.read_table(url)"
   ]
  },
  {
   "cell_type": "code",
   "execution_count": 5,
   "metadata": {},
   "outputs": [
    {
     "data": {
      "text/plain": [
       "<matplotlib.axes._subplots.AxesSubplot at 0x121089e10>"
      ]
     },
     "execution_count": 5,
     "metadata": {},
     "output_type": "execute_result"
    },
    {
     "data": {
      "image/png": "[encoded data removed]",
      "text/plain": [
       "<Figure size 576x288 with 1 Axes>"
      ]
     },
     "metadata": {
      "image/png": {
       "height": 261,
       "width": 494
      },
      "needs_background": "light"
     },
     "output_type": "display_data"
    }
   ],
   "source": [
    "old_faithful.plot.scatter(x=\"eruptions\", y=\"waiting\")"
   ]
  },
  {
   "cell_type": "markdown",
   "metadata": {},
   "source": [
    "# Variational E-step\n",
    "\n",
    "Our first step in estimating a mixture density over the `old_faithful` dataset is to compute the responsibilities $r_{nk}$"
   ]
  }
 ],
 "metadata": {
  "kernelspec": {
   "display_name": "Python 3",
   "language": "python",
   "name": "python3"
  },
  "language_info": {
   "codemirror_mode": {
    "name": "ipython",
    "version": 3
   },
   "file_extension": ".py",
   "mimetype": "text/x-python",
   "name": "python",
   "nbconvert_exporter": "python",
   "pygments_lexer": "ipython3",
   "version": "3.7.6"
  }
 },
 "nbformat": 4,
 "nbformat_minor": 4
}
