{
 "cells": [
  {
   "cell_type": "markdown",
   "metadata": {},
   "source": [
    "# Bayesian Neural Networks\n",
    "\n",
    "$$\n",
    "    p({\\bf w}| \\mathcal{D}, \\beta, \\alpha) = \\prod_{n=1}^N \\mathcal{N}(t_n | y(x_n, \\bf{w}), \\beta^{-1})\\cdot \\mathcal{N}({\\bf w} | {\\bf 0}, \\alpha^{-1}{\\bf I})\n",
    "$$\n",
    "\n",
    "Where $y(x_n, \\bf{w})$ is the output of a feedforward neural network.\n",
    "\n",
    "It can be shown that\n",
    "\n",
    "$$\n",
    "p({\\bf w}| \\mathcal{D}, \\beta, \\alpha) \\propto \\exp\\left(-\\frac{1}{2}\\left[\\beta \\sum_n \\left(t_n - y(x_n, {\\bf w})\\right)^2 + \\alpha ||{\\bf w}||^2\\right]\\right)\n",
    "$$"
   ]
  },
  {
   "cell_type": "code",
   "execution_count": 1,
   "metadata": {},
   "outputs": [],
   "source": [
    "import numpy as np\n",
    "import matplotlib.pyplot as plt"
   ]
  },
  {
   "cell_type": "code",
   "execution_count": null,
   "metadata": {},
   "outputs": [],
   "source": []
  }
 ],
 "metadata": {
  "kernelspec": {
   "display_name": "Python 3",
   "language": "python",
   "name": "python3"
  },
  "language_info": {
   "codemirror_mode": {
    "name": "ipython",
    "version": 3
   },
   "file_extension": ".py",
   "mimetype": "text/x-python",
   "name": "python",
   "nbconvert_exporter": "python",
   "pygments_lexer": "ipython3",
   "version": "3.7.3"
  }
 },
 "nbformat": 4,
 "nbformat_minor": 2
}
