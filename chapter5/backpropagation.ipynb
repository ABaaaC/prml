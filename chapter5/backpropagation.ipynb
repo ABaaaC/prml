{
 "cells": [
  {
   "cell_type": "markdown",
   "metadata": {},
   "source": [
    "# Error Backpropagation\n",
    "\n",
    "The required steps for backpropgation algorithm are:\n",
    "1. Forward propagate an input $x_n$\n",
    "2. Evaluate $\\forall k. \\delta_k^{L}$ at the output layer $L$\n",
    "3. Backpropagate $\\forall l\\neq L, k. \\delta_k^{l}$\n",
    "4. Evaluate $\\forall i,j. \\frac{\\partial E_n}{w_{i,j}}$"
   ]
  },
  {
   "cell_type": "code",
   "execution_count": 1,
   "metadata": {},
   "outputs": [],
   "source": [
    "import numpy as np\n",
    "import pandas as pd\n",
    "import requests\n",
    "import matplotlib.pyplot as plt\n",
    "from numpy.random import randn, seed"
   ]
  },
  {
   "cell_type": "code",
   "execution_count": 2,
   "metadata": {},
   "outputs": [],
   "source": [
    "%config InlineBackend.figure_format = \"retina\"\n",
    "np.set_printoptions(linewidth=150)"
   ]
  },
  {
   "cell_type": "markdown",
   "metadata": {},
   "source": [
    "We will consider the example in section 5.3.2 of prml:\n",
    "![Figure 5.1](./imgs/f51.png)\n",
    "\n",
    "A two-layered neural network with sum of squares error as the error function; with linear output activation units, i.e., $y_k = a_k$ and; tanh (hyperbolic tangent) activation functions."
   ]
  },
  {
   "cell_type": "code",
   "execution_count": 3,
   "metadata": {},
   "outputs": [],
   "source": [
    "url = \"https://www.itl.nist.gov/div898/strd/nls/data/LINKS/DATA/Gauss2.dat\"\n",
    "beacon = \"Data:\"\n",
    "r = requests.get(url)\n",
    "data = r.text\n",
    "data = data[data.rfind(beacon) + len(beacon):]\n",
    "data = np.array([v.split() for v in data.split(\"\\n\")][1:-1]).astype(\"float\")"
   ]
  },
  {
   "cell_type": "code",
   "execution_count": 4,
   "metadata": {},
   "outputs": [
    {
     "data": {
      "text/plain": [
       "<matplotlib.collections.PathCollection at 0x121f38550>"
      ]
     },
     "execution_count": 4,
     "metadata": {},
     "output_type": "execute_result"
    },
    {
     "data": {
      "image/png": "[encoded data removed]",
      "text/plain": [
       "<Figure size 432x288 with 1 Axes>"
      ]
     },
     "metadata": {
      "image/png": {
       "height": 251,
       "width": 377
      },
      "needs_background": "light"
     },
     "output_type": "display_data"
    }
   ],
   "source": [
    "plt.scatter(data[:, 1], data[:,0], s=0.4, c=\"tab:red\")"
   ]
  },
  {
   "cell_type": "markdown",
   "metadata": {},
   "source": [
    "Suppose we have a two-layered neural network with $H$ hidden units; an input unit and a single output unit. The explicit form for this neural network is of the form:\n",
    "\n",
    "$$\n",
    "    f(x_n, {\\bf w}^{1}, {\\bf w}^{2}) = \\sum_{k=1}^H w_{1k}^{(2)} h\\left(w_{k1}^{(1}x_n + w_{k0}^{(1)}\\right) + w_{10}^{(2)}\n",
    "$$\n",
    "\n",
    "Suppose further that this neural network has a tanh activation function."
   ]
  },
  {
   "cell_type": "code",
   "execution_count": 138,
   "metadata": {},
   "outputs": [],
   "source": [
    "seed(314)\n",
    "w0 = randn(4, 2) / 10\n",
    "w1 = randn(1, 5) / 10\n",
    "alpha = 0.01"
   ]
  },
  {
   "cell_type": "code",
   "execution_count": 65,
   "metadata": {},
   "outputs": [],
   "source": [
    "xn = np.array([[.5, 1]]).T"
   ]
  },
  {
   "cell_type": "code",
   "execution_count": 66,
   "metadata": {},
   "outputs": [
    {
     "data": {
      "text/plain": [
       "array([[ 1.        ],\n",
       "       [ 0.08628562],\n",
       "       [-0.02808545],\n",
       "       [ 0.0420584 ],\n",
       "       [ 0.02707626]])"
      ]
     },
     "execution_count": 66,
     "metadata": {},
     "output_type": "execute_result"
    }
   ],
   "source": [
    "z1 = np.r_[[[1]], np.tanh(w0 @ xn)]\n",
    "z1"
   ]
  },
  {
   "cell_type": "code",
   "execution_count": 67,
   "metadata": {},
   "outputs": [],
   "source": [
    "y = w1 @ z1"
   ]
  },
  {
   "cell_type": "code",
   "execution_count": 68,
   "metadata": {},
   "outputs": [],
   "source": [
    "def forward_prop(x, w1, w2):\n",
    "    a1 = w1 @ x\n",
    "    z1 = np.r_[[[1]], np.tanh(a1)]\n",
    "    a2 = w2 @ z1\n",
    "    return a1, a2"
   ]
  },
  {
   "cell_type": "code",
   "execution_count": 69,
   "metadata": {},
   "outputs": [
    {
     "data": {
      "text/plain": [
       "(array([[ 0.08650072],\n",
       "        [-0.02809284],\n",
       "        [ 0.04208323],\n",
       "        [ 0.02708287]]), array([[-0.07429066]]))"
      ]
     },
     "execution_count": 69,
     "metadata": {},
     "output_type": "execute_result"
    }
   ],
   "source": [
    "forward_prop(xn, w0, w1)"
   ]
  },
  {
   "cell_type": "code",
   "execution_count": 103,
   "metadata": {},
   "outputs": [],
   "source": [
    "x, t  = data[0]\n",
    "x = np.array([[x, 1]]).T\n",
    "a1, a2 = forward_prop(x, w0, w1)\n",
    "# changes in weight at the second layer \n",
    "z1 = np.r_[[[1]], np.tanh(a1)]"
   ]
  },
  {
   "cell_type": "code",
   "execution_count": 104,
   "metadata": {},
   "outputs": [],
   "source": [
    "d1 = a2.ravel()[0] - t\n",
    "d0 = (1 - z1.T ** 2) * w1 * d1"
   ]
  },
  {
   "cell_type": "code",
   "execution_count": 107,
   "metadata": {},
   "outputs": [
    {
     "data": {
      "text/plain": [
       "array([[-0.88302248],\n",
       "       [-0.82587532],\n",
       "       [-0.88302236],\n",
       "       [ 0.88302246],\n",
       "       [ 0.85824532]])"
      ]
     },
     "execution_count": 107,
     "metadata": {},
     "output_type": "execute_result"
    }
   ],
   "source": [
    "# Derivative at the second layer\n",
    "d1 * z1"
   ]
  },
  {
   "cell_type": "code",
   "execution_count": 141,
   "metadata": {},
   "outputs": [
    {
     "data": {
      "text/plain": [
       "array([[-9.31405337e-01,  6.66301529e-07,  4.86134130e-07,  2.37704994e-01],\n",
       "       [-9.54428442e-03,  6.82771619e-09,  4.98150721e-09,  2.43580746e-03]])"
      ]
     },
     "execution_count": 141,
     "metadata": {},
     "output_type": "execute_result"
    }
   ],
   "source": [
    "# Derivative at the first layer\n",
    "x @ d0[:, 1:]"
   ]
  },
  {
   "cell_type": "code",
   "execution_count": 145,
   "metadata": {},
   "outputs": [
    {
     "data": {
      "text/plain": [
       "array([[-0.06842732,  0.09455747, -0.01929578, -0.10202277, -0.05843618]])"
      ]
     },
     "execution_count": 145,
     "metadata": {},
     "output_type": "execute_result"
    }
   ],
   "source": [
    "# Value updates at the second layer\n",
    "w1 - alpha * (d1 * z1).T"
   ]
  },
  {
   "cell_type": "code",
   "execution_count": 148,
   "metadata": {},
   "outputs": [
    {
     "data": {
      "text/plain": [
       "array([[ 0.0259226 ,  0.07829189],\n",
       "       [ 0.0852285 , -0.0707071 ],\n",
       "       [-0.09316572,  0.08866609],\n",
       "       [-0.02455602,  0.038148  ]])"
      ]
     },
     "execution_count": 148,
     "metadata": {},
     "output_type": "execute_result"
    }
   ],
   "source": [
    "# Value update at the first layer\n",
    "w0 - alpha * (x @ d0[:, 1:]).T"
   ]
  },
  {
   "cell_type": "markdown",
   "metadata": {},
   "source": [
    "## SGD"
   ]
  },
  {
   "cell_type": "code",
   "execution_count": 405,
   "metadata": {},
   "outputs": [],
   "source": [
    "seed(314)\n",
    "nhidden = 5\n",
    "w0 = randn(nhidden, 2)\n",
    "w1 = randn(1, nhidden + 1)\n",
    "alpha = 0.005"
   ]
  },
  {
   "cell_type": "code",
   "execution_count": 400,
   "metadata": {},
   "outputs": [],
   "source": [
    "mu, std = data[:,1].mean(), data[:,1].std()"
   ]
  },
  {
   "cell_type": "code",
   "execution_count": 401,
   "metadata": {},
   "outputs": [],
   "source": [
    "epochs = 10\n",
    "for e in range(epochs):\n",
    "    for t, x in data:\n",
    "        x = (x - mu) / std\n",
    "        x = np.array([[x, 1]]).T\n",
    "        a1, a2 = forward_prop(x, w0, w1)\n",
    "        # changes in weight at the second layer \n",
    "        z1 = np.r_[[[1]], np.tanh(a1)]\n",
    "\n",
    "        d1 = a2.ravel()[0] - t\n",
    "        d0 = (1 - z1.T ** 2) * w1 * d1\n",
    "\n",
    "        w1 = w1 - alpha * (d1 * z1).T\n",
    "        w0 = w0 - alpha * (x @ d0[:, 1:]).T"
   ]
  },
  {
   "cell_type": "code",
   "execution_count": 402,
   "metadata": {},
   "outputs": [
    {
     "data": {
      "text/plain": [
       "array([[-0.00000000e+00,  3.61144838e+01,  2.84377746e+01, -2.82866259e+01, -1.38473603e-05, -1.40820492e-04]])"
      ]
     },
     "execution_count": 402,
     "metadata": {},
     "output_type": "execute_result"
    }
   ],
   "source": [
    "d0 "
   ]
  },
  {
   "cell_type": "code",
   "execution_count": 406,
   "metadata": {},
   "outputs": [],
   "source": [
    "that = np.array([forward_prop(np.array([[x, 1]]).T, w0, w1)[1].ravel()[0] for x in data[:, 1]])"
   ]
  },
  {
   "cell_type": "code",
   "execution_count": 411,
   "metadata": {},
   "outputs": [
    {
     "data": {
      "text/plain": [
       "[<matplotlib.lines.Line2D at 0x12855b0b8>]"
      ]
     },
     "execution_count": 411,
     "metadata": {},
     "output_type": "execute_result"
    },
    {
     "data": {
      "image/png": "[encoded data removed]",
      "text/plain": [
       "<Figure size 432x288 with 1 Axes>"
      ]
     },
     "metadata": {
      "image/png": {
       "height": 250,
       "width": 382
      },
      "needs_background": "light"
     },
     "output_type": "display_data"
    }
   ],
   "source": [
    "plt.plot(that)\n",
    "#plt.plot(data[:,0])"
   ]
  }
 ],
 "metadata": {
  "kernelspec": {
   "display_name": "Python 3",
   "language": "python",
   "name": "python3"
  },
  "language_info": {
   "codemirror_mode": {
    "name": "ipython",
    "version": 3
   },
   "file_extension": ".py",
   "mimetype": "text/x-python",
   "name": "python",
   "nbconvert_exporter": "python",
   "pygments_lexer": "ipython3",
   "version": "3.6.8"
  }
 },
 "nbformat": 4,
 "nbformat_minor": 2
}
