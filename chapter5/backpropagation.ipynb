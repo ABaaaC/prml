{
 "cells": [
  {
   "cell_type": "markdown",
   "metadata": {},
   "source": [
    "# Error Backpropagation\n",
    "\n",
    "The required steps for backpropgation algorithm are:\n",
    "1. Forward propagate an input $x_n$\n",
    "2. Evaluate $\\forall k. \\delta_k^{L}$ at the output layer $L$\n",
    "3. Backpropagate $\\forall l\\neq L, k. \\delta_k^{l}$\n",
    "4. Evaluate $\\forall i,j. \\frac{\\partial E_n}{w_{i,j}}$"
   ]
  },
  {
   "cell_type": "code",
   "execution_count": 1,
   "metadata": {},
   "outputs": [],
   "source": [
    "import numpy as np\n",
    "import pandas as pd\n",
    "import requests\n",
    "import matplotlib.pyplot as plt\n",
    "from numpy.random import randn, seed"
   ]
  },
  {
   "cell_type": "code",
   "execution_count": 2,
   "metadata": {},
   "outputs": [],
   "source": [
    "%config InlineBackend.figure_format = \"retina\""
   ]
  },
  {
   "cell_type": "markdown",
   "metadata": {},
   "source": [
    "We will consider the example in section 5.3.2 of prml:\n",
    "![Figure 5.1](./imgs/f51.png)\n",
    "\n",
    "A two-layered neural network with sum of squares error as the error function; with linear output activation units, i.e., $y_k = a_k$ and; tanh (hyperbolic tangent) activation functions."
   ]
  },
  {
   "cell_type": "code",
   "execution_count": 3,
   "metadata": {},
   "outputs": [],
   "source": [
    "url = \"https://www.itl.nist.gov/div898/strd/nls/data/LINKS/DATA/Gauss2.dat\"\n",
    "beacon = \"Data:\"\n",
    "r = requests.get(url)\n",
    "data = r.text\n",
    "data = data[data.rfind(beacon) + len(beacon):]\n",
    "data = np.array([v.split() for v in data.split(\"\\n\")][1:-1]).astype(\"float\")"
   ]
  },
  {
   "cell_type": "code",
   "execution_count": 4,
   "metadata": {},
   "outputs": [
    {
     "data": {
      "text/plain": [
       "<matplotlib.collections.PathCollection at 0x11b870940>"
      ]
     },
     "execution_count": 4,
     "metadata": {},
     "output_type": "execute_result"
    },
    {
     "data": {
      "image/png": "[encoded data removed]",
      "text/plain": [
       "<Figure size 432x288 with 1 Axes>"
      ]
     },
     "metadata": {
      "image/png": {
       "height": 251,
       "width": 377
      },
      "needs_background": "light"
     },
     "output_type": "display_data"
    }
   ],
   "source": [
    "plt.scatter(data[:, 1], data[:,0], s=0.4, c=\"tab:red\")"
   ]
  },
  {
   "cell_type": "markdown",
   "metadata": {},
   "source": [
    "Suppose we have a two-layered neural network with $H$ hidden units; an input unit and a single output unit. The explicit form for this neural network is of the form:\n",
    "\n",
    "$$\n",
    "    f(x_n, {\\bf w}^{1}, {\\bf w}^{2}) = \\sum_{k=1}^H w_{1k}^{(2)} h\\left(w_{k1}^{(1}x_n + w_{k0}^{(1)}\\right) + w_{10}^{(2)}\n",
    "$$\n",
    "\n",
    "Suppose further that this neural network has a tanh activation function."
   ]
  },
  {
   "cell_type": "code",
   "execution_count": 112,
   "metadata": {},
   "outputs": [],
   "source": [
    "seed(314)\n",
    "w0 = randn(4, 2)\n",
    "w1 = randn(1, 5)"
   ]
  },
  {
   "cell_type": "code",
   "execution_count": 113,
   "metadata": {},
   "outputs": [],
   "source": [
    "xn = np.array([[3.5, 1]]).T"
   ]
  },
  {
   "cell_type": "code",
   "execution_count": 114,
   "metadata": {},
   "outputs": [
    {
     "data": {
      "text/plain": [
       "array([[ 1.        ],\n",
       "       [ 0.87714783],\n",
       "       [ 0.97912492],\n",
       "       [-0.98281573],\n",
       "       [-0.3752677 ]])"
      ]
     },
     "execution_count": 114,
     "metadata": {},
     "output_type": "execute_result"
    }
   ],
   "source": [
    "z1 = np.r_[[[1]], np.tanh(w0 @ xn)]\n",
    "z1"
   ]
  },
  {
   "cell_type": "code",
   "execution_count": 115,
   "metadata": {},
   "outputs": [],
   "source": [
    "y = w1 @ z1"
   ]
  },
  {
   "cell_type": "code",
   "execution_count": 116,
   "metadata": {},
   "outputs": [],
   "source": [
    "def forward_prop(x, w1, w2):\n",
    "    a1 = w1 @ x\n",
    "    z1 = np.r_[[[1]], np.tanh(a1)]\n",
    "    a2 = w2 @ z1\n",
    "    return a1, a2"
   ]
  },
  {
   "cell_type": "code",
   "execution_count": 117,
   "metadata": {},
   "outputs": [
    {
     "data": {
      "text/plain": [
       "(array([[ 1.36326352],\n",
       "        [ 2.27592687],\n",
       "        [-2.37413929],\n",
       "        [-0.39454023]]), array([[0.81199909]]))"
      ]
     },
     "execution_count": 117,
     "metadata": {},
     "output_type": "execute_result"
    }
   ],
   "source": [
    "forward_prop(xn, w0, w1)"
   ]
  },
  {
   "cell_type": "code",
   "execution_count": 118,
   "metadata": {},
   "outputs": [
    {
     "data": {
      "text/plain": [
       "array([[0.00364088],\n",
       "       [0.41997434]])"
      ]
     },
     "execution_count": 118,
     "metadata": {},
     "output_type": "execute_result"
    }
   ],
   "source": [
    "# delta 1's\n",
    "(1 - np.tanh(xn) ** 2)"
   ]
  },
  {
   "cell_type": "code",
   "execution_count": 119,
   "metadata": {},
   "outputs": [],
   "source": [
    "x, t  = data[0]\n",
    "x = np.array([[x, 1]]).T\n",
    "a1, a2 = forward_prop(x, w0, w1)\n",
    "\n",
    "d2 = a2.ravel()[0] - t"
   ]
  },
  {
   "cell_type": "code",
   "execution_count": 126,
   "metadata": {},
   "outputs": [
    {
     "data": {
      "text/plain": [
       "(4, 1)"
      ]
     },
     "execution_count": 126,
     "metadata": {},
     "output_type": "execute_result"
    }
   ],
   "source": [
    "((1 - np.tanh(a1) ** 2) * d2).shape"
   ]
  },
  {
   "cell_type": "code",
   "execution_count": 127,
   "metadata": {},
   "outputs": [
    {
     "data": {
      "text/plain": [
       "(1, 5)"
      ]
     },
     "execution_count": 127,
     "metadata": {},
     "output_type": "execute_result"
    }
   ],
   "source": [
    "w1.shape"
   ]
  },
  {
   "cell_type": "code",
   "execution_count": 79,
   "metadata": {},
   "outputs": [
    {
     "data": {
      "text/plain": [
       "-1.0044959647533538"
      ]
     },
     "execution_count": 79,
     "metadata": {},
     "output_type": "execute_result"
    }
   ],
   "source": [
    "d1 = "
   ]
  },
  {
   "cell_type": "code",
   "execution_count": 104,
   "metadata": {},
   "outputs": [
    {
     "data": {
      "text/plain": [
       "array([[-175.92076461],\n",
       "       [ -21.01146624],\n",
       "       [-131.19686692],\n",
       "       [ 103.03221057]])"
      ]
     },
     "execution_count": 104,
     "metadata": {},
     "output_type": "execute_result"
    }
   ],
   "source": [
    "a1"
   ]
  }
 ],
 "metadata": {
  "kernelspec": {
   "display_name": "Python 3",
   "language": "python",
   "name": "python3"
  },
  "language_info": {
   "codemirror_mode": {
    "name": "ipython",
    "version": 3
   },
   "file_extension": ".py",
   "mimetype": "text/x-python",
   "name": "python",
   "nbconvert_exporter": "python",
   "pygments_lexer": "ipython3",
   "version": "3.6.8"
  }
 },
 "nbformat": 4,
 "nbformat_minor": 2
}
