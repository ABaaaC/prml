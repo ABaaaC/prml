{
 "cells": [
  {
   "cell_type": "markdown",
   "metadata": {},
   "source": [
    "# Error Backpropagation\n",
    "\n",
    "The required steps for backpropgation algorithm are:\n",
    "1. Forward propagate an input $x_n$\n",
    "2. Evaluate $\\forall k. \\delta_k^{L}$ at the output layer $L$\n",
    "3. Backpropagate $\\forall l\\neq L, k. \\delta_k^{l}$\n",
    "4. Evaluate $\\forall i,j. \\frac{\\partial E_n}{w_{i,j}}$"
   ]
  }
 ],
 "metadata": {
  "kernelspec": {
   "display_name": "Python 3",
   "language": "python",
   "name": "python3"
  },
  "language_info": {
   "codemirror_mode": {
    "name": "ipython",
    "version": 3
   },
   "file_extension": ".py",
   "mimetype": "text/x-python",
   "name": "python",
   "nbconvert_exporter": "python",
   "pygments_lexer": "ipython3",
   "version": "3.6.8"
  }
 },
 "nbformat": 4,
 "nbformat_minor": 2
}
