{
 "cells": [
  {
   "cell_type": "code",
   "execution_count": 1,
   "metadata": {},
   "outputs": [],
   "source": [
    "import sympy\n",
    "sympy.init_printing()"
   ]
  },
  {
   "cell_type": "markdown",
   "metadata": {},
   "source": [
    "The least squares for classification is defined ass $K$ linearr model of the form\n",
    "\n",
    "$$\n",
    "    y_k({\\bf x}) = {\\bf w}_k^T{\\bf x} + w_{k0}\n",
    "$$\n",
    "\n",
    "To group all these elements, we consider the matrices $T \\in \\mathcal{M}_{N, K}(\\{0, 1\\})$ and $X \\in \\mathcal{M}_{N, D + 1}(\\mathbb{R})$. The error function is then defined as\n",
    "    \n",
    "$$\n",
    "    E_D({\\bf W})\n",
    "$$"
   ]
  },
  {
   "cell_type": "code",
   "execution_count": 8,
   "metadata": {},
   "outputs": [],
   "source": [
    "D = 3\n",
    "N = 5"
   ]
  },
  {
   "cell_type": "code",
   "execution_count": 10,
   "metadata": {},
   "outputs": [
    {
     "data": {
      "image/png": "[encoded data removed]",
      "text/latex": [
       "$\\displaystyle \\left( x_{11}, \\  x_{12}, \\  x_{13}, \\  x_{14}, \\  x_{21}, \\  x_{22}, \\  x_{23}, \\  x_{24}, \\  x_{31}, \\  x_{32}, \\  x_{33}, \\  x_{34}\\right)$"
      ],
      "text/plain": [
       "(x₁₁, x₁₂, x₁₃, x₁₄, x₂₁, x₂₂, x₂₃, x₂₄, x₃₁, x₃₂, x₃₃, x₃₄)"
      ]
     },
     "execution_count": 10,
     "metadata": {},
     "output_type": "execute_result"
    }
   ],
   "source": [
    "sympy.symbols(f\"x1:{D + 1}(1:{N})\")"
   ]
  }
 ],
 "metadata": {
  "kernelspec": {
   "display_name": "Python 3",
   "language": "python",
   "name": "python3"
  },
  "language_info": {
   "codemirror_mode": {
    "name": "ipython",
    "version": 3
   },
   "file_extension": ".py",
   "mimetype": "text/x-python",
   "name": "python",
   "nbconvert_exporter": "python",
   "pygments_lexer": "ipython3",
   "version": "3.6.8"
  }
 },
 "nbformat": 4,
 "nbformat_minor": 2
}
