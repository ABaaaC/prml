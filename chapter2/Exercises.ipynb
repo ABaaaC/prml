{
 "cells": [
  {
   "cell_type": "markdown",
   "metadata": {},
   "source": [
    "# Exercises\n",
    "The aim of this notebook is to take interactive notes on some of the exercises from chapter 2."
   ]
  },
  {
   "cell_type": "code",
   "execution_count": 1,
   "metadata": {},
   "outputs": [],
   "source": [
    "import numpy as np\n",
    "import plotly.graph_objs as go\n",
    "from plotly.offline import iplot, plot"
   ]
  },
  {
   "cell_type": "markdown",
   "metadata": {},
   "source": [
    "----\n",
    "The equivalent form of the bernoulli distribution is of the form\n",
    "$$\n",
    "    p(x|\\mu) = \\left(\\frac{1-\\mu}{2}\\right)^{(1-x)/2}\\left(\\frac{1+\\mu}{2}\\right)^{(1+x)/2}\n",
    "$$"
   ]
  },
  {
   "cell_type": "code",
   "execution_count": 2,
   "metadata": {},
   "outputs": [],
   "source": [
    "def sbern(x, mu):\n",
    "    return ((1 - mu) / 2) ** ((1 - x) / 2) * ((1 + mu) / 2) ** ((1 + x) / 2)"
   ]
  },
  {
   "cell_type": "markdown",
   "metadata": {},
   "source": [
    "$\\mu$ takes values between $[-1,1]$."
   ]
  },
  {
   "cell_type": "markdown",
   "metadata": {},
   "source": [
    "**Probabilities for $-1$ and $1$**"
   ]
  },
  {
   "cell_type": "code",
   "execution_count": 3,
   "metadata": {},
   "outputs": [
    {
     "data": {
      "application/vnd.jupyter.widget-view+json": {
       "model_id": "9d92ec8a0cd945feb39c6ad57fc72f0a",
       "version_major": 2,
       "version_minor": 0
      },
      "text/plain": [
       "FigureWidget({\n",
       "    'data': [{'name': 'p(x=1|mu)',\n",
       "              'type': 'scatter',\n",
       "              'uid': '9816c…"
      ]
     },
     "metadata": {},
     "output_type": "display_data"
    }
   ],
   "source": [
    "x = 1\n",
    "mu = np.linspace(-1, 1, 100)\n",
    "\n",
    "data = [\n",
    "    {\"x\": mu,\n",
    "     \"y\": sbern(1, mu),\n",
    "     \"name\": \"p(x=1|mu)\"},\n",
    "    \n",
    "    {\"x\": mu,\n",
    "     \"y\": sbern(-1, mu),\n",
    "     \"name\": \"p(x=-1|mu)\"}\n",
    "]\n",
    "\n",
    "layout = {\"title\": \"Probability for bernoulli distribution\",\n",
    "          \"xaxis\": {\n",
    "              \"title\": \"mu\"\n",
    "          }}\n",
    "\n",
    "fig = go.FigureWidget(data=data, layout=layout)\n",
    "fig"
   ]
  },
  {
   "cell_type": "markdown",
   "metadata": {},
   "source": [
    "**Entropy for the symmetrical form of the Bernoulli distribution**"
   ]
  },
  {
   "cell_type": "code",
   "execution_count": 5,
   "metadata": {},
   "outputs": [
    {
     "data": {
      "application/vnd.jupyter.widget-view+json": {
       "model_id": "fce197fa42d74d7c901e435807cfeaa1",
       "version_major": 2,
       "version_minor": 0
      },
      "text/plain": [
       "FigureWidget({\n",
       "    'data': [{'name': 'H[x]',\n",
       "              'type': 'scatter',\n",
       "              'uid': '7ebf5b18-7…"
      ]
     },
     "metadata": {},
     "output_type": "display_data"
    }
   ],
   "source": [
    "mu = np.linspace(-0.9, 0.9, 101)\n",
    "def bern_entropy(mu): return -(np.log((1 - mu ** 2) / 4) + mu * np.log((1 + mu) / (1 - mu))) / 2\n",
    "\n",
    "data = [\n",
    "    {\"x\": mu,\n",
    "     \"y\": bern_entropy(mu),\n",
    "     \"name\": \"H[x]\"}\n",
    "]\n",
    "\n",
    "fig = go.FigureWidget(data=data)\n",
    "fig"
   ]
  },
  {
   "cell_type": "markdown",
   "metadata": {},
   "source": [
    "----------"
   ]
  }
 ],
 "metadata": {
  "kernelspec": {
   "display_name": "Python 3",
   "language": "python",
   "name": "python3"
  },
  "language_info": {
   "codemirror_mode": {
    "name": "ipython",
    "version": 3
   },
   "file_extension": ".py",
   "mimetype": "text/x-python",
   "name": "python",
   "nbconvert_exporter": "python",
   "pygments_lexer": "ipython3",
   "version": "3.6.8"
  }
 },
 "nbformat": 4,
 "nbformat_minor": 2
}
