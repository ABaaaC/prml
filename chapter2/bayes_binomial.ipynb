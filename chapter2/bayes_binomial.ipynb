{
 "cells": [
  {
   "cell_type": "markdown",
   "metadata": {},
   "source": [
    "# Bayesian Treatment of Density Estimation\n",
    "## the binomial distribution case\n",
    "\n",
    "The goal of density estimation is to find a probability distribution $p(x)$ given some data $D$. Under a Bayesian treatment we consider bayes theorem\n",
    "\n",
    "$$\n",
    "    p(x|\\mathcal D) = \\frac{p(x) p(\\mathcal D | x)}{p(\\mathcal D)}\n",
    "$$\n",
    "\n",
    "With assumed prior $p(x)$ and likelyhood function $p(\\mathcal D | x)$ (both chosen by the scientist performing the experiment).\n",
    "\n",
    "---\n",
    "\n",
    "\n",
    "The goal of this notebook is to understand density estimation as a *sequential* learning model, i.e., under a Bayeisan POV. For this, we consider the pmf of a binomial distribution given by:\n",
    "\n",
    "$$\n",
    "    p(m|N, \\mu) = {N\\choose m}\\mu^m(1 - \\mu)^{N - m} \n",
    "$$\n",
    "\n",
    "For a binomial distribution, the pmf is the likelyhood function.\n",
    "\n",
    "As a prior distribution of the parameter $\\mu$, we consider the _beta_ distribution, which is given by:\n",
    "$$\n",
    "    \\text{Beta}(\\mu|a,b) = \\frac{\\Gamma(a + b)}{\\Gamma(a) \\Gamma(b)} \\mu^{a-1}(1 - \\mu)^{b-1}\n",
    "$$"
   ]
  },
  {
   "cell_type": "code",
   "execution_count": 1,
   "metadata": {},
   "outputs": [],
   "source": [
    "import matplotlib.pyplot as plt\n",
    "import numpy as np\n",
    "from scipy.special import gamma, comb\n",
    "from ipywidgets import interact, FloatSlider\n",
    "\n",
    "import plotly.graph_objs as go\n",
    "plt.style.use(\"default\")"
   ]
  },
  {
   "cell_type": "code",
   "execution_count": 2,
   "metadata": {},
   "outputs": [],
   "source": [
    "def beta_pmf(mu, a, b): return gamma(a + b) / (gamma(a) * gamma(b)) * mu ** (a - 1) * (1 - mu) ** (b - 1)"
   ]
  },
  {
   "cell_type": "code",
   "execution_count": 3,
   "metadata": {},
   "outputs": [
    {
     "data": {
      "application/vnd.jupyter.widget-view+json": {
       "model_id": "73243b213fed4e33a3b4594d591796f9",
       "version_major": 2,
       "version_minor": 0
      },
      "text/plain": [
       "interactive(children=(FloatSlider(value=2.5000000000000004, description='a', max=5.0, min=0.1), FloatSlider(va…"
      ]
     },
     "metadata": {},
     "output_type": "display_data"
    }
   ],
   "source": [
    "@interact(a=(0.1, 5., 0.1), b=(0.1, 5., 0.1))\n",
    "def plot_beta_pmf(a, b):\n",
    "    xvals = np.linspace(0, 1, 200)[1:-1]\n",
    "    yvals = beta_pmf(xvals, a, b )\n",
    "    fig = go.FigureWidget(\n",
    "        data=[\n",
    "            {\"x\": xvals, \"y\": yvals}\n",
    "        ],\n",
    "        layout = {\"yaxis\":\n",
    "                  {\"range\": [0, 2]},\n",
    "                 \"title\": f\"Beta function with a={a:0.2f}, b={b:0.2f}\"}\n",
    "    )\n",
    "    return fig"
   ]
  }
 ],
 "metadata": {
  "kernelspec": {
   "display_name": "Python 3",
   "language": "python",
   "name": "python3"
  },
  "language_info": {
   "codemirror_mode": {
    "name": "ipython",
    "version": 3
   },
   "file_extension": ".py",
   "mimetype": "text/x-python",
   "name": "python",
   "nbconvert_exporter": "python",
   "pygments_lexer": "ipython3",
   "version": "3.6.6"
  },
  "widgets": {
   "application/vnd.jupyter.widget-state+json": {
    "state": {
     "04e50821f5974935b455942ea7feee44": {
      "buffers": [
       {
        "data": "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",
        "encoding": "base64",
        "path": [
         "_data",
         0,
         "x",
         "value"
        ]
       },
       {
        "data": "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",
        "encoding": "base64",
        "path": [
         "_data",
         0,
         "y",
         "value"
        ]
       }
      ],
      "model_module": "plotlywidget",
      "model_module_version": "^0.5.1",
      "model_name": "FigureModel",
      "state": {
       "_data": [
        {
         "type": "scatter",
         "uid": "15309de4-c455-47c4-b456-ca85c97817ee",
         "x": {
          "dtype": "float64",
          "shape": [
           198
          ]
         },
         "y": {
          "dtype": "float64",
          "shape": [
           198
          ]
         }
        }
       ],
       "_js2py_pointsCallback": {},
       "_js2py_relayout": {},
       "_js2py_restyle": {},
       "_js2py_update": {},
       "_layout": {
        "template": {},
        "title": "Beta function with a=2.50, b=3.50",
        "yaxis": {
         "range": [
          0,
          2
         ]
        }
       },
       "_py2js_addTraces": {},
       "_py2js_animate": {},
       "_py2js_deleteTraces": {},
       "_py2js_moveTraces": {},
       "_py2js_removeLayoutProps": {},
       "_py2js_removeTraceProps": {},
       "_py2js_restyle": {},
       "_py2js_update": {},
       "_view_count": 0
      }
     },
     "08116fd70dad4f989ac1ca84ed05fa6e": {
      "buffers": [
       {
        "data": "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",
        "encoding": "base64",
        "path": [
         "_data",
         0,
         "x",
         "value"
        ]
       },
       {
        "data": "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",
        "encoding": "base64",
        "path": [
         "_data",
         0,
         "y",
         "value"
        ]
       }
      ],
      "model_module": "plotlywidget",
      "model_module_version": "^0.5.1",
      "model_name": "FigureModel",
      "state": {
       "_data": [
        {
         "type": "scatter",
         "uid": "b95335cc-b8b9-48e6-a038-17365d75779c",
         "x": {
          "dtype": "float64",
          "shape": [
           198
          ]
         },
         "y": {
          "dtype": "float64",
          "shape": [
           198
          ]
         }
        }
       ],
       "_js2py_pointsCallback": {},
       "_js2py_relayout": {},
       "_js2py_restyle": {},
       "_js2py_update": {},
       "_layout": {
        "template": {},
        "title": "Beta function with a=1.70, b=1.50",
        "yaxis": {
         "range": [
          0,
          2
         ]
        }
       },
       "_py2js_addTraces": {},
       "_py2js_animate": {},
       "_py2js_deleteTraces": {},
       "_py2js_moveTraces": {},
       "_py2js_removeLayoutProps": {},
       "_py2js_removeTraceProps": {},
       "_py2js_restyle": {},
       "_py2js_update": {},
       "_view_count": 0
      }
     },
     "0c43670646f04287a1c0863ca65f40c8": {
      "buffers": [
       {
        "data": "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",
        "encoding": "base64",
        "path": [
         "_data",
         0,
         "x",
         "value"
        ]
       },
       {
        "data": "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",
        "encoding": "base64",
        "path": [
         "_data",
         0,
         "y",
         "value"
        ]
       }
      ],
      "model_module": "plotlywidget",
      "model_module_version": "^0.5.1",
      "model_name": "FigureModel",
      "state": {
       "_data": [
        {
         "type": "scatter",
         "uid": "a5266251-103f-484b-8da6-52902951c513",
         "x": {
          "dtype": "float64",
          "shape": [
           198
          ]
         },
         "y": {
          "dtype": "float64",
          "shape": [
           198
          ]
         }
        }
       ],
       "_js2py_pointsCallback": {},
       "_js2py_relayout": {},
       "_js2py_restyle": {},
       "_js2py_update": {},
       "_layout": {
        "template": {},
        "title": "Beta function with a=2.40, b=1.50",
        "yaxis": {
         "range": [
          0,
          2
         ]
        }
       },
       "_py2js_addTraces": {},
       "_py2js_animate": {},
       "_py2js_deleteTraces": {},
       "_py2js_moveTraces": {},
       "_py2js_removeLayoutProps": {},
       "_py2js_removeTraceProps": {},
       "_py2js_restyle": {},
       "_py2js_update": {},
       "_view_count": 0
      }
     },
     "0e3103e33b9c438f9cf26e7634256f24": {
      "buffers": [
       {
        "data": "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",
        "encoding": "base64",
        "path": [
         "_data",
         0,
         "x",
         "value"
        ]
       },
       {
        "data": "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",
        "encoding": "base64",
        "path": [
         "_data",
         0,
         "y",
         "value"
        ]
       }
      ],
      "model_module": "plotlywidget",
      "model_module_version": "^0.5.1",
      "model_name": "FigureModel",
      "state": {
       "_data": [
        {
         "type": "scatter",
         "uid": "b91ef7ba-d64b-498e-ac3a-f2a3081a21c0",
         "x": {
          "dtype": "float64",
          "shape": [
           198
          ]
         },
         "y": {
          "dtype": "float64",
          "shape": [
           198
          ]
         }
        }
       ],
       "_js2py_pointsCallback": {},
       "_js2py_relayout": {},
       "_js2py_restyle": {},
       "_js2py_update": {},
       "_layout": {
        "template": {},
        "title": "Beta function with a=2.80, b=1.50",
        "yaxis": {
         "range": [
          0,
          2
         ]
        }
       },
       "_py2js_addTraces": {},
       "_py2js_animate": {},
       "_py2js_deleteTraces": {},
       "_py2js_moveTraces": {},
       "_py2js_removeLayoutProps": {},
       "_py2js_removeTraceProps": {},
       "_py2js_restyle": {},
       "_py2js_update": {},
       "_view_count": 0
      }
     },
     "0e43140a886743ddb24e552565402dd3": {
      "buffers": [
       {
        "data": "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",
        "encoding": "base64",
        "path": [
         "_data",
         0,
         "x",
         "value"
        ]
       },
       {
        "data": "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",
        "encoding": "base64",
        "path": [
         "_data",
         0,
         "y",
         "value"
        ]
       }
      ],
      "model_module": "plotlywidget",
      "model_module_version": "^0.5.1",
      "model_name": "FigureModel",
      "state": {
       "_data": [
        {
         "type": "scatter",
         "uid": "9626ec5a-4b24-4482-8172-d43b353e9b02",
         "x": {
          "dtype": "float64",
          "shape": [
           198
          ]
         },
         "y": {
          "dtype": "float64",
          "shape": [
           198
          ]
         }
        }
       ],
       "_js2py_pointsCallback": {},
       "_js2py_relayout": {},
       "_js2py_restyle": {},
       "_js2py_update": {},
       "_layout": {
        "template": {},
        "title": "Beta function with a=2.50, b=1.50",
        "yaxis": {
         "range": [
          0,
          2
         ]
        }
       },
       "_py2js_addTraces": {},
       "_py2js_animate": {},
       "_py2js_deleteTraces": {},
       "_py2js_moveTraces": {},
       "_py2js_removeLayoutProps": {},
       "_py2js_removeTraceProps": {},
       "_py2js_restyle": {},
       "_py2js_update": {},
       "_view_count": 0
      }
     },
     "1186de512e364600b8ab694063ac7167": {
      "buffers": [
       {
        "data": "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",
        "encoding": "base64",
        "path": [
         "_data",
         0,
         "x",
         "value"
        ]
       },
       {
        "data": "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",
        "encoding": "base64",
        "path": [
         "_data",
         0,
         "y",
         "value"
        ]
       }
      ],
      "model_module": "plotlywidget",
      "model_module_version": "^0.5.1",
      "model_name": "FigureModel",
      "state": {
       "_data": [
        {
         "type": "scatter",
         "uid": "510246fa-6aa0-4fe8-bb99-8504835e32d3",
         "x": {
          "dtype": "float64",
          "shape": [
           198
          ]
         },
         "y": {
          "dtype": "float64",
          "shape": [
           198
          ]
         }
        }
       ],
       "_js2py_pointsCallback": {},
       "_js2py_relayout": {},
       "_js2py_restyle": {},
       "_js2py_update": {},
       "_layout": {
        "template": {},
        "title": "Beta function with a=2.70, b=1.50",
        "yaxis": {
         "range": [
          0,
          2
         ]
        }
       },
       "_py2js_addTraces": {},
       "_py2js_animate": {},
       "_py2js_deleteTraces": {},
       "_py2js_moveTraces": {},
       "_py2js_removeLayoutProps": {},
       "_py2js_removeTraceProps": {},
       "_py2js_restyle": {},
       "_py2js_update": {},
       "_view_count": 0
      }
     },
     "1351053c0fd2456bb27e05f7dcca058a": {
      "buffers": [
       {
        "data": "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",
        "encoding": "base64",
        "path": [
         "_data",
         0,
         "x",
         "value"
        ]
       },
       {
        "data": "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",
        "encoding": "base64",
        "path": [
         "_data",
         0,
         "y",
         "value"
        ]
       }
      ],
      "model_module": "plotlywidget",
      "model_module_version": "^0.5.1",
      "model_name": "FigureModel",
      "state": {
       "_data": [
        {
         "type": "scatter",
         "uid": "f5b2e042-24a7-4a4d-984a-1195eea1f0fb",
         "x": {
          "dtype": "float64",
          "shape": [
           198
          ]
         },
         "y": {
          "dtype": "float64",
          "shape": [
           198
          ]
         }
        }
       ],
       "_js2py_pointsCallback": {},
       "_js2py_relayout": {},
       "_js2py_restyle": {},
       "_js2py_update": {},
       "_layout": {
        "template": {},
        "title": "Beta function with a=2.50, b=1.90",
        "yaxis": {
         "range": [
          0,
          2
         ]
        }
       },
       "_py2js_addTraces": {},
       "_py2js_animate": {},
       "_py2js_deleteTraces": {},
       "_py2js_moveTraces": {},
       "_py2js_removeLayoutProps": {},
       "_py2js_removeTraceProps": {},
       "_py2js_restyle": {},
       "_py2js_update": {},
       "_view_count": 0
      }
     },
     "164a41b29ab94269987ec9628be25891": {
      "buffers": [
       {
        "data": "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",
        "encoding": "base64",
        "path": [
         "_data",
         0,
         "x",
         "value"
        ]
       },
       {
        "data": "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",
        "encoding": "base64",
        "path": [
         "_data",
         0,
         "y",
         "value"
        ]
       }
      ],
      "model_module": "plotlywidget",
      "model_module_version": "^0.5.1",
      "model_name": "FigureModel",
      "state": {
       "_data": [
        {
         "type": "scatter",
         "uid": "37c838bd-9b1a-444b-9b87-80486f161e3d",
         "x": {
          "dtype": "float64",
          "shape": [
           198
          ]
         },
         "y": {
          "dtype": "float64",
          "shape": [
           198
          ]
         }
        }
       ],
       "_js2py_pointsCallback": {},
       "_js2py_relayout": {},
       "_js2py_restyle": {},
       "_js2py_update": {},
       "_layout": {
        "template": {},
        "title": "Beta function with a=2.50, b=2.10",
        "yaxis": {
         "range": [
          0,
          2
         ]
        }
       },
       "_py2js_addTraces": {},
       "_py2js_animate": {},
       "_py2js_deleteTraces": {},
       "_py2js_moveTraces": {},
       "_py2js_removeLayoutProps": {},
       "_py2js_removeTraceProps": {},
       "_py2js_restyle": {},
       "_py2js_update": {},
       "_view_count": 0
      }
     },
     "172e66824d0d4a08a87c0ad16b7afafa": {
      "buffers": [
       {
        "data": "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",
        "encoding": "base64",
        "path": [
         "_data",
         0,
         "x",
         "value"
        ]
       },
       {
        "data": "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",
        "encoding": "base64",
        "path": [
         "_data",
         0,
         "y",
         "value"
        ]
       }
      ],
      "model_module": "plotlywidget",
      "model_module_version": "^0.5.1",
      "model_name": "FigureModel",
      "state": {
       "_data": [
        {
         "type": "scatter",
         "uid": "5f4b68a4-ad04-4ff9-991a-0ec3310bc51d",
         "x": {
          "dtype": "float64",
          "shape": [
           198
          ]
         },
         "y": {
          "dtype": "float64",
          "shape": [
           198
          ]
         }
        }
       ],
       "_js2py_pointsCallback": {},
       "_js2py_relayout": {},
       "_js2py_restyle": {},
       "_js2py_update": {},
       "_layout": {
        "template": {},
        "title": "Beta function with a=2.00, b=1.50",
        "yaxis": {
         "range": [
          0,
          2
         ]
        }
       },
       "_py2js_addTraces": {},
       "_py2js_animate": {},
       "_py2js_deleteTraces": {},
       "_py2js_moveTraces": {},
       "_py2js_removeLayoutProps": {},
       "_py2js_removeTraceProps": {},
       "_py2js_restyle": {},
       "_py2js_update": {},
       "_view_count": 0
      }
     },
     "18a3bad3c9194258944311b66c7cce90": {
      "buffers": [
       {
        "data": "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",
        "encoding": "base64",
        "path": [
         "_data",
         0,
         "x",
         "value"
        ]
       },
       {
        "data": "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",
        "encoding": "base64",
        "path": [
         "_data",
         0,
         "y",
         "value"
        ]
       }
      ],
      "model_module": "plotlywidget",
      "model_module_version": "^0.5.1",
      "model_name": "FigureModel",
      "state": {
       "_data": [
        {
         "type": "scatter",
         "uid": "3b114ea4-2f1d-4027-8202-2d2f72826fa6",
         "x": {
          "dtype": "float64",
          "shape": [
           198
          ]
         },
         "y": {
          "dtype": "float64",
          "shape": [
           198
          ]
         }
        }
       ],
       "_js2py_pointsCallback": {},
       "_js2py_relayout": {},
       "_js2py_restyle": {},
       "_js2py_update": {},
       "_layout": {
        "template": {},
        "title": "Beta function with a=2.80, b=1.50",
        "yaxis": {
         "range": [
          0,
          2
         ]
        }
       },
       "_py2js_addTraces": {},
       "_py2js_animate": {},
       "_py2js_deleteTraces": {},
       "_py2js_moveTraces": {},
       "_py2js_removeLayoutProps": {},
       "_py2js_removeTraceProps": {},
       "_py2js_restyle": {},
       "_py2js_update": {},
       "_view_count": 1
      }
     },
     "1c8ff21bdb2b461d91bc8815b72cdad2": {
      "buffers": [
       {
        "data": "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",
        "encoding": "base64",
        "path": [
         "_data",
         0,
         "x",
         "value"
        ]
       },
       {
        "data": "HAapf/OWvT8WnAJtOV7GPyet6IbOdMw/UWjo4ZTd0D/pvBzndDvTPzOV7tFvZtU/HPuuKblp1z91GgwHw0zZP9GyGWvQFNs/QpILHsXF3D+bhmUxm2LeP1InuxWq7d8/EVFp+Wm04D87Yc7r0WrhP/2krEWxGuI/jXlUq5LE4j//DzBk7GjjP1sUtlwkCOQ/oHmTMJOi5D8zZMWChjjlP6dePdNCyuU/KqxH8wRY5j8wi1YwA+LmP7yYT0ZuaOc/j+TxJXLr5z8iGLmYNmvoP/kQV8nf5+g/0gYyto5h6T+dKxqSYdjpPzxifhZ0TOo/f/q1yd+96j/7z207vCzrP9e53jgfmes/1gsi+hwD7D98RrlJyGrsP4nOK6cy0Ow/b4F1ZWwz7T9B7ODFhJTtP84Nzg+K8+0/8Y/RpYlQ7j+7QYcYkKvuP/CMZDepBO8/PAfMH+Bb7z9goZlKP7HvP9R5K0xoAvA/ezkgrk4r8D/nWx8zV1PwPx0g+QWGevA/uQd2GN+g8D8nERUnZsbwPy3idbwe6/A/Hal3NAwP8T9xaBS/MTLxPwJ0/2KSVPE/zxoNADF28T8ex2hREJfxPyVFnu8yt/E/C1p6UpvW8T9LYMbSS/XxP+w34qtGE/I/434//Y0w8j8Kt8DLI03yP+y4/gIKafI/aJV2dkKE8j8Y0aHizp7yPy+0+u2wuPI/QT7uKerR8j8PJ70TfOryPwYzTRVoAvM/egPsha8Z8z8hbwSrUzDzP69Wx7hVRvM//9LI0rZb8z9shpIMeHDzP9PIK2qahPM/JlWY4B6Y8z/xEE5WBqvzP214oqNRvfM/uy0wkwHP8z9XHjXiFuDzPwao6UCS8PM/wxzRUnQA9D/L/AOvvQ/0P+41dOBuHvQ/868rZogs9D8pZ4WzCjr0P/BPYTD2RvQ/HDhTOUtT9D/N1cwfCl/0P/otQyozavQ/Q3hPlMZ09D8MocuOxH70P3OG6j8tiPQ/yAhMwwCR9D/cAg0qP5n0Pxs703rooPQ/WFrVsfyn9D+28d7Ae670P5eVUI9ltPQ/8A8c+rm59D/NqLzTeL70P6GAK+ShwvQ/KvTP6DTG9D9O/muUMcn0P9yIBI+Xy/Q/LpnFdWbN9D8GQuLanc70Pw1AcEU9z/Q/MSI/MUTP9D/q2qoOss70P+KSaUKGzfQ/tpBUJcDL9D+SBCwEX8n0P++AVR9ixvQ/FuSUqsjC9D/ob7/Mkb70P8jGaJ+8ufQ/Zn2JLki09D+z6R54M670P5fOw2t9p/Q/XHtB6iSg9D+66xjFKJj0P+BqA76Hj/Q/6i9qhkCG9D/NXdS+UXz0P07CSva5cfQ/g6CwqXdm9D9FwhBDiVr0Pzn53RjtTfQ/jCMmbaFA9D+esbZspDL0P3aQMS70I/Q/ykARsY4U9D8xw5rccQT0PxXfu36b8/M/UCPUSgni8z/j02bYuM/zP1/Hs6GnvPM/KAA1AtOo8z9nkP40OJTzP+kR/lLUfvM/tK0WUaRo8z8nVhb+pFHzP85ygADTOfM/Fcsp1Coh8z+d+6DHqAfzPwIuXvlI7fI/9CG0VAfS8j9A1HuO37XyP4sxcyHNmPI/M0FGSst68j8rCzkD1VvyP/0iZ//kO/I/rDCMpfUa8j/m+0YKAfnxPwdaxukA1vE/WNvMoO6x8T+8HPUkw4zxP8IgHfx2ZvE/s+faMgI/8T/xhNdRXBbxPxz751F87PA/a/yzjljB8D+nAbK35pTwPwShNb8bZ/A/Wi9Ax+s38D8y57MLSgfwP3OQ7JJRqu8/dzDsQ/JC7z/2Edb0VdjuP3pu/atZau4/siS8U9f47T/C8udTpYPtPwL8ehmWCu0/zht/iHeN7D+AHzhTEgzsP0bkGjAphus/Vw8z5nf76j/d9voksmvqP2nADBmC1uk/zkMFqoY76T+BjL9GUZroPzGzpBpj8uc/mtNodylD5z+ULlQn+YvmP+tpSjgIzOU/28CglmUC5T+QPxRx7S3kP43Xr784TeM/1JlpLIVe4j/IboOMkF/hP7DcmAVfTeA/k0rdl7RH3j8Uw0ReSLrbP6ifxDqD4Ng/TX1RGT+c1T9SyCS+37LRPwbV5okeG8k/",
        "encoding": "base64",
        "path": [
         "_data",
         0,
         "y",
         "value"
        ]
       }
      ],
      "model_module": "plotlywidget",
      "model_module_version": "^0.5.1",
      "model_name": "FigureModel",
      "state": {
       "_data": [
        {
         "type": "scatter",
         "uid": "1b843a49-6496-44d5-bd6e-c0d121a4cf55",
         "x": {
          "dtype": "float64",
          "shape": [
           198
          ]
         },
         "y": {
          "dtype": "float64",
          "shape": [
           198
          ]
         }
        }
       ],
       "_js2py_pointsCallback": {},
       "_js2py_relayout": {},
       "_js2py_restyle": {},
       "_js2py_update": {},
       "_layout": {
        "template": {},
        "title": "Beta function with a=1.60, b=1.50",
        "yaxis": {
         "range": [
          0,
          2
         ]
        }
       },
       "_py2js_addTraces": {},
       "_py2js_animate": {},
       "_py2js_deleteTraces": {},
       "_py2js_moveTraces": {},
       "_py2js_removeLayoutProps": {},
       "_py2js_removeTraceProps": {},
       "_py2js_restyle": {},
       "_py2js_update": {},
       "_view_count": 0
      }
     },
     "1e92aebe026d4de3a530d5362ee320a5": {
      "buffers": [
       {
        "data": "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",
        "encoding": "base64",
        "path": [
         "_data",
         0,
         "x",
         "value"
        ]
       },
       {
        "data": "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",
        "encoding": "base64",
        "path": [
         "_data",
         0,
         "y",
         "value"
        ]
       }
      ],
      "model_module": "plotlywidget",
      "model_module_version": "^0.5.1",
      "model_name": "FigureModel",
      "state": {
       "_data": [
        {
         "type": "scatter",
         "uid": "36d29264-f1b9-49e0-ba52-4e31ce073616",
         "x": {
          "dtype": "float64",
          "shape": [
           198
          ]
         },
         "y": {
          "dtype": "float64",
          "shape": [
           198
          ]
         }
        }
       ],
       "_js2py_pointsCallback": {},
       "_js2py_relayout": {},
       "_js2py_restyle": {},
       "_js2py_update": {},
       "_layout": {
        "template": {},
        "title": "Beta function with a=2.50, b=3.70",
        "yaxis": {
         "range": [
          0,
          2
         ]
        }
       },
       "_py2js_addTraces": {},
       "_py2js_animate": {},
       "_py2js_deleteTraces": {},
       "_py2js_moveTraces": {},
       "_py2js_removeLayoutProps": {},
       "_py2js_removeTraceProps": {},
       "_py2js_restyle": {},
       "_py2js_update": {},
       "_view_count": 0
      }
     },
     "1e9cba116c824407a4a51032e286751f": {
      "buffers": [
       {
        "data": "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",
        "encoding": "base64",
        "path": [
         "_data",
         0,
         "x",
         "value"
        ]
       },
       {
        "data": "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",
        "encoding": "base64",
        "path": [
         "_data",
         0,
         "y",
         "value"
        ]
       }
      ],
      "model_module": "plotlywidget",
      "model_module_version": "^0.5.1",
      "model_name": "FigureModel",
      "state": {
       "_data": [
        {
         "type": "scatter",
         "uid": "1bf0ef35-0df3-4535-b21d-77bb2b0bb1a2",
         "x": {
          "dtype": "float64",
          "shape": [
           198
          ]
         },
         "y": {
          "dtype": "float64",
          "shape": [
           198
          ]
         }
        }
       ],
       "_js2py_pointsCallback": {},
       "_js2py_relayout": {},
       "_js2py_restyle": {},
       "_js2py_update": {},
       "_layout": {
        "template": {},
        "title": "Beta function with a=2.50, b=2.20",
        "yaxis": {
         "range": [
          0,
          2
         ]
        }
       },
       "_py2js_addTraces": {},
       "_py2js_animate": {},
       "_py2js_deleteTraces": {},
       "_py2js_moveTraces": {},
       "_py2js_removeLayoutProps": {},
       "_py2js_removeTraceProps": {},
       "_py2js_restyle": {},
       "_py2js_update": {},
       "_view_count": 0
      }
     },
     "25a9f8a6acd6468788314fc673812c0d": {
      "buffers": [
       {
        "data": "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",
        "encoding": "base64",
        "path": [
         "_data",
         0,
         "x",
         "value"
        ]
       },
       {
        "data": "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",
        "encoding": "base64",
        "path": [
         "_data",
         0,
         "y",
         "value"
        ]
       }
      ],
      "model_module": "plotlywidget",
      "model_module_version": "^0.5.1",
      "model_name": "FigureModel",
      "state": {
       "_data": [
        {
         "type": "scatter",
         "uid": "eb16489c-118f-4c37-b08d-d621e5297627",
         "x": {
          "dtype": "float64",
          "shape": [
           198
          ]
         },
         "y": {
          "dtype": "float64",
          "shape": [
           198
          ]
         }
        }
       ],
       "_js2py_pointsCallback": {},
       "_js2py_relayout": {},
       "_js2py_restyle": {},
       "_js2py_update": {},
       "_layout": {
        "template": {},
        "title": "Beta function with a=3.00, b=1.50",
        "yaxis": {
         "range": [
          0,
          2
         ]
        }
       },
       "_py2js_addTraces": {},
       "_py2js_animate": {},
       "_py2js_deleteTraces": {},
       "_py2js_moveTraces": {},
       "_py2js_removeLayoutProps": {},
       "_py2js_removeTraceProps": {},
       "_py2js_restyle": {},
       "_py2js_update": {},
       "_view_count": 0
      }
     },
     "2cf1da3350e546e8b2c9c8abedfbb517": {
      "buffers": [
       {
        "data": "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",
        "encoding": "base64",
        "path": [
         "_data",
         0,
         "x",
         "value"
        ]
       },
       {
        "data": "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",
        "encoding": "base64",
        "path": [
         "_data",
         0,
         "y",
         "value"
        ]
       }
      ],
      "model_module": "plotlywidget",
      "model_module_version": "^0.5.1",
      "model_name": "FigureModel",
      "state": {
       "_data": [
        {
         "type": "scatter",
         "uid": "a373cca8-3a1b-4256-9c67-1ad58fddc16f",
         "x": {
          "dtype": "float64",
          "shape": [
           198
          ]
         },
         "y": {
          "dtype": "float64",
          "shape": [
           198
          ]
         }
        }
       ],
       "_js2py_pointsCallback": {},
       "_js2py_relayout": {},
       "_js2py_restyle": {},
       "_js2py_update": {},
       "_layout": {
        "template": {},
        "title": "Beta function with a=3.10, b=1.50",
        "yaxis": {
         "range": [
          0,
          2
         ]
        }
       },
       "_py2js_addTraces": {},
       "_py2js_animate": {},
       "_py2js_deleteTraces": {},
       "_py2js_moveTraces": {},
       "_py2js_removeLayoutProps": {},
       "_py2js_removeTraceProps": {},
       "_py2js_restyle": {},
       "_py2js_update": {},
       "_view_count": 0
      }
     },
     "2fce1fcf3a8d42a4abd83e15fcb083c2": {
      "buffers": [
       {
        "data": "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",
        "encoding": "base64",
        "path": [
         "_data",
         0,
         "x",
         "value"
        ]
       },
       {
        "data": "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",
        "encoding": "base64",
        "path": [
         "_data",
         0,
         "y",
         "value"
        ]
       }
      ],
      "model_module": "plotlywidget",
      "model_module_version": "^0.5.1",
      "model_name": "FigureModel",
      "state": {
       "_data": [
        {
         "type": "scatter",
         "uid": "3797d214-2218-4a27-9286-a40ee9c55a41",
         "x": {
          "dtype": "float64",
          "shape": [
           198
          ]
         },
         "y": {
          "dtype": "float64",
          "shape": [
           198
          ]
         }
        }
       ],
       "_js2py_pointsCallback": {},
       "_js2py_relayout": {},
       "_js2py_restyle": {},
       "_js2py_update": {},
       "_layout": {
        "template": {},
        "title": "Beta function with a=2.50, b=3.50",
        "yaxis": {
         "range": [
          0,
          2
         ]
        }
       },
       "_py2js_addTraces": {},
       "_py2js_animate": {},
       "_py2js_deleteTraces": {},
       "_py2js_moveTraces": {},
       "_py2js_removeLayoutProps": {},
       "_py2js_removeTraceProps": {},
       "_py2js_restyle": {},
       "_py2js_update": {},
       "_view_count": 0
      }
     },
     "38c4ad74613a4e85aa5218245d82cf2f": {
      "model_module": "@jupyter-widgets/base",
      "model_module_version": "1.1.0",
      "model_name": "LayoutModel",
      "state": {}
     },
     "3a4183908d32446fb6beaca048bb6cf1": {
      "buffers": [
       {
        "data": "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",
        "encoding": "base64",
        "path": [
         "_data",
         0,
         "x",
         "value"
        ]
       },
       {
        "data": "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",
        "encoding": "base64",
        "path": [
         "_data",
         0,
         "y",
         "value"
        ]
       }
      ],
      "model_module": "plotlywidget",
      "model_module_version": "^0.5.1",
      "model_name": "FigureModel",
      "state": {
       "_data": [
        {
         "type": "scatter",
         "uid": "f684a1e3-753b-450c-bf8d-81f14433dbc6",
         "x": {
          "dtype": "float64",
          "shape": [
           198
          ]
         },
         "y": {
          "dtype": "float64",
          "shape": [
           198
          ]
         }
        }
       ],
       "_js2py_pointsCallback": {},
       "_js2py_relayout": {},
       "_js2py_restyle": {},
       "_js2py_update": {},
       "_layout": {
        "template": {},
        "title": "Beta function with a=2.50, b=4.10",
        "yaxis": {
         "range": [
          0,
          2
         ]
        }
       },
       "_py2js_addTraces": {},
       "_py2js_animate": {},
       "_py2js_deleteTraces": {},
       "_py2js_moveTraces": {},
       "_py2js_removeLayoutProps": {},
       "_py2js_removeTraceProps": {},
       "_py2js_restyle": {},
       "_py2js_update": {},
       "_view_count": 0
      }
     },
     "3c37d9e88c1e4c81a848dc691ca98839": {
      "buffers": [
       {
        "data": "Z9Cy4zmVdD9n0LLjOZWEP5o4jNXW344/Z9Cy4zmVlD+BhJ9ciLqZP5o4jNXW354/WnY8p5ICoj9n0LLjOZWkP3QqKSDhJ6c/gYSfXIi6qT+O3hWZL02sP5o4jNXW364/VEkBCT+5sD9adjynkgKyP2Gjd0XmS7M/Z9Cy4zmVtD9t/e2Bjd61P3QqKSDhJ7c/eldkvjRxuD+BhJ9ciLq5P4ex2vrbA7s/jt4VmS9NvD+UC1E3g5a9P5o4jNXW374/0LLjOZUUwD9USQEJP7nAP9ffHtjoXcE/WnY8p5ICwj/dDFp2PKfCP2Gjd0XmS8M/5DmVFJDwwz9n0LLjOZXEP+pm0LLjOcU/bf3tgY3exT/xkwtRN4PGP3QqKSDhJ8c/98BG74rMxz96V2S+NHHIP/7tgY3eFck/gYSfXIi6yT8EG70rMl/KP4ex2vrbA8s/Ckj4yYWoyz+O3hWZL03MPxF1M2jZ8cw/lAtRN4OWzT8Xom4GLTvOP5o4jNXW384/Hs+ppICEzz/QsuM5lRTQPxJ+ciHqZtA/VEkBCT+50D+VFJDwkwvRP9ffHtjoXdE/Gautvz2w0T9adjynkgLSP5xBy47nVNI/3Qxadjyn0j8f2OhdkfnSP2Gjd0XmS9M/om4GLTue0z/kOZUUkPDTPyUFJPzkQtQ/Z9Cy4zmV1D+pm0HLjufUP+pm0LLjOdU/LDJfmjiM1T9t/e2Bjd7VP6/IfGniMNY/8ZMLUTeD1j8yX5o4jNXWP3QqKSDhJ9c/tfW3BzZ61z/3wEbviszXPzmM1dbfHtg/eldkvjRx2D+8IvOlicPYP/7tgY3eFdk/P7kQdTNo2T+BhJ9ciLrZP8JPLkTdDNo/BBu9KzJf2j9G5ksTh7HaP4ex2vrbA9s/yXxp4jBW2z8KSPjJhajbP0wTh7Ha+ts/jt4VmS9N3D/PqaSAhJ/cPxF1M2jZ8dw/UkDCTy5E3T+UC1E3g5bdP9bW3x7Y6N0/F6JuBi073j9Zbf3tgY3eP5o4jNXW394/3AMbvSsy3z8ez6mkgITfP1+aOIzV1t8/0LLjOZUU4D9xGKutvz3gPxJ+ciHqZuA/s+M5lRSQ4D9USQEJP7ngP/SuyHxp4uA/lRSQ8JML4T82eldkvjThP9ffHtjoXeE/eEXmSxOH4T8Zq62/PbDhP7kQdTNo2eE/WnY8p5IC4j/72wMbvSviP5xBy47nVOI/PaeSAhJ+4j/dDFp2PKfiP35yIepm0OI/H9joXZH54j/APbDRuyLjP2Gjd0XmS+M/AQk/uRB14z+ibgYtO57jP0PUzaBlx+M/5DmVFJDw4z+Fn1yIuhnkPyUFJPzkQuQ/xmrrbw9s5D9n0LLjOZXkPwg2eldkvuQ/qZtBy47n5D9JAQk/uRDlP+pm0LLjOeU/i8yXJg5j5T8sMl+aOIzlP82XJg5jteU/bf3tgY3e5T8OY7X1twfmP6/IfGniMOY/UC5E3Qxa5j/xkwtRN4PmP5H50sRhrOY/Ml+aOIzV5j/TxGGstv7mP3QqKSDhJ+c/FZDwkwtR5z+19bcHNnrnP1Zbf3tgo+c/98BG74rM5z+YJg5jtfXnPzmM1dbfHug/2vGcSgpI6D96V2S+NHHoPxu9KzJfmug/vCLzpYnD6D9diLoZtOzoP/7tgY3eFek/nlNJAQk/6T8/uRB1M2jpP+Ae2Ohdkek/gYSfXIi66T8i6mbQsuPpP8JPLkTdDOo/Y7X1twc26j8EG70rMl/qP6WAhJ9ciOo/RuZLE4ex6j/mSxOHsdrqP4ex2vrbA+s/KBeibgYt6z/JfGniMFbrP2riMFZbf+s/Ckj4yYWo6z+rrb89sNHrP0wTh7Ha+us/7XhOJQUk7D+O3hWZL03sPy5E3Qxaduw/z6mkgISf7D9wD2z0rsjsPxF1M2jZ8ew/str62wMb7T9SQMJPLkTtP/OlicNYbe0/lAtRN4OW7T81cRirrb/tP9bW3x7Y6O0/djynkgIS7j8Xom4GLTvuP7gHNnpXZO4/WW397YGN7j/60sRhrLbuP5o4jNXW3+4/O55TSQEJ7z/cAxu9KzLvP31p4jBWW+8/Hs+ppICE7z+/NHEYq63vP1+aOIzV1u8/",
        "encoding": "base64",
        "path": [
         "_data",
         0,
         "x",
         "value"
        ]
       },
       {
        "data": "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",
        "encoding": "base64",
        "path": [
         "_data",
         0,
         "y",
         "value"
        ]
       }
      ],
      "model_module": "plotlywidget",
      "model_module_version": "^0.5.1",
      "model_name": "FigureModel",
      "state": {
       "_data": [
        {
         "type": "scatter",
         "uid": "23d3560f-db90-4880-a005-a42afcdd3bae",
         "x": {
          "dtype": "float64",
          "shape": [
           198
          ]
         },
         "y": {
          "dtype": "float64",
          "shape": [
           198
          ]
         }
        }
       ],
       "_js2py_pointsCallback": {},
       "_js2py_relayout": {},
       "_js2py_restyle": {},
       "_js2py_update": {},
       "_layout": {
        "template": {},
        "title": "Beta function with a=3.10, b=1.50",
        "yaxis": {
         "range": [
          0,
          2
         ]
        }
       },
       "_py2js_addTraces": {},
       "_py2js_animate": {},
       "_py2js_deleteTraces": {},
       "_py2js_moveTraces": {},
       "_py2js_removeLayoutProps": {},
       "_py2js_removeTraceProps": {},
       "_py2js_restyle": {},
       "_py2js_update": {},
       "_view_count": 0
      }
     },
     "3d0027ab223d4fc78d5840bd13d9b1df": {
      "buffers": [
       {
        "data": "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",
        "encoding": "base64",
        "path": [
         "_data",
         0,
         "x",
         "value"
        ]
       },
       {
        "data": "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",
        "encoding": "base64",
        "path": [
         "_data",
         0,
         "y",
         "value"
        ]
       }
      ],
      "model_module": "plotlywidget",
      "model_module_version": "^0.5.1",
      "model_name": "FigureModel",
      "state": {
       "_data": [
        {
         "type": "scatter",
         "uid": "664a0f8d-4019-43cd-be9d-7e0f13e606dd",
         "x": {
          "dtype": "float64",
          "shape": [
           198
          ]
         },
         "y": {
          "dtype": "float64",
          "shape": [
           198
          ]
         }
        }
       ],
       "_js2py_pointsCallback": {},
       "_js2py_relayout": {},
       "_js2py_restyle": {},
       "_js2py_update": {},
       "_layout": {
        "template": {},
        "title": "Beta function with a=2.50, b=3.40",
        "yaxis": {
         "range": [
          0,
          2
         ]
        }
       },
       "_py2js_addTraces": {},
       "_py2js_animate": {},
       "_py2js_deleteTraces": {},
       "_py2js_moveTraces": {},
       "_py2js_removeLayoutProps": {},
       "_py2js_removeTraceProps": {},
       "_py2js_restyle": {},
       "_py2js_update": {},
       "_view_count": 0
      }
     },
     "404b92d861a848218ec39398d5f68a43": {
      "model_module": "@jupyter-widgets/controls",
      "model_module_version": "1.4.0",
      "model_name": "FloatSliderModel",
      "state": {
       "description": "a",
       "layout": "IPY_MODEL_38c4ad74613a4e85aa5218245d82cf2f",
       "max": 5,
       "min": 0.1,
       "step": 0.1,
       "style": "IPY_MODEL_e4f6738761f64bd493295980bb8a7daf",
       "value": 2.8
      }
     },
     "40abfe1936984d7c8f2e878822fc57c6": {
      "buffers": [
       {
        "data": "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",
        "encoding": "base64",
        "path": [
         "_data",
         0,
         "x",
         "value"
        ]
       },
       {
        "data": "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",
        "encoding": "base64",
        "path": [
         "_data",
         0,
         "y",
         "value"
        ]
       }
      ],
      "model_module": "plotlywidget",
      "model_module_version": "^0.5.1",
      "model_name": "FigureModel",
      "state": {
       "_data": [
        {
         "type": "scatter",
         "uid": "7613c256-00fd-4709-9239-36519a261800",
         "x": {
          "dtype": "float64",
          "shape": [
           198
          ]
         },
         "y": {
          "dtype": "float64",
          "shape": [
           198
          ]
         }
        }
       ],
       "_js2py_pointsCallback": {},
       "_js2py_relayout": {},
       "_js2py_restyle": {},
       "_js2py_update": {},
       "_layout": {
        "template": {},
        "title": "Beta function with a=3.00, b=1.50",
        "yaxis": {
         "range": [
          0,
          2
         ]
        }
       },
       "_py2js_addTraces": {},
       "_py2js_animate": {},
       "_py2js_deleteTraces": {},
       "_py2js_moveTraces": {},
       "_py2js_removeLayoutProps": {},
       "_py2js_removeTraceProps": {},
       "_py2js_restyle": {},
       "_py2js_update": {},
       "_view_count": 0
      }
     },
     "4a1f825491db4b6484ce480992df60e6": {
      "model_module": "@jupyter-widgets/base",
      "model_module_version": "1.1.0",
      "model_name": "LayoutModel",
      "state": {}
     },
     "53189e36501d4754a31770cb013aa8cc": {
      "buffers": [
       {
        "data": "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",
        "encoding": "base64",
        "path": [
         "_data",
         0,
         "x",
         "value"
        ]
       },
       {
        "data": "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",
        "encoding": "base64",
        "path": [
         "_data",
         0,
         "y",
         "value"
        ]
       }
      ],
      "model_module": "plotlywidget",
      "model_module_version": "^0.5.1",
      "model_name": "FigureModel",
      "state": {
       "_data": [
        {
         "type": "scatter",
         "uid": "3b819065-4ee8-4fb5-b539-3829f968207e",
         "x": {
          "dtype": "float64",
          "shape": [
           198
          ]
         },
         "y": {
          "dtype": "float64",
          "shape": [
           198
          ]
         }
        }
       ],
       "_js2py_pointsCallback": {},
       "_js2py_relayout": {},
       "_js2py_restyle": {},
       "_js2py_update": {},
       "_layout": {
        "template": {},
        "title": "Beta function with a=1.90, b=1.50",
        "yaxis": {
         "range": [
          0,
          2
         ]
        }
       },
       "_py2js_addTraces": {},
       "_py2js_animate": {},
       "_py2js_deleteTraces": {},
       "_py2js_moveTraces": {},
       "_py2js_removeLayoutProps": {},
       "_py2js_removeTraceProps": {},
       "_py2js_restyle": {},
       "_py2js_update": {},
       "_view_count": 0
      }
     },
     "5455ed65e2ff4bd39d44b05a85f3548d": {
      "buffers": [
       {
        "data": "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",
        "encoding": "base64",
        "path": [
         "_data",
         0,
         "x",
         "value"
        ]
       },
       {
        "data": "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",
        "encoding": "base64",
        "path": [
         "_data",
         0,
         "y",
         "value"
        ]
       }
      ],
      "model_module": "plotlywidget",
      "model_module_version": "^0.5.1",
      "model_name": "FigureModel",
      "state": {
       "_data": [
        {
         "type": "scatter",
         "uid": "6e385dba-c5ba-4c15-a896-8f1244231242",
         "x": {
          "dtype": "float64",
          "shape": [
           198
          ]
         },
         "y": {
          "dtype": "float64",
          "shape": [
           198
          ]
         }
        }
       ],
       "_js2py_pointsCallback": {},
       "_js2py_relayout": {},
       "_js2py_restyle": {},
       "_js2py_update": {},
       "_layout": {
        "template": {},
        "title": "Beta function with a=1.80, b=1.50",
        "yaxis": {
         "range": [
          0,
          2
         ]
        }
       },
       "_py2js_addTraces": {},
       "_py2js_animate": {},
       "_py2js_deleteTraces": {},
       "_py2js_moveTraces": {},
       "_py2js_removeLayoutProps": {},
       "_py2js_removeTraceProps": {},
       "_py2js_restyle": {},
       "_py2js_update": {},
       "_view_count": 0
      }
     },
     "599d1e7a276545e1b54a8acc05a31df1": {
      "buffers": [
       {
        "data": "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",
        "encoding": "base64",
        "path": [
         "_data",
         0,
         "x",
         "value"
        ]
       },
       {
        "data": "Yquz9A9wfD/jGnY66ueTP/4aht9+GaI/ELCjKiCVqz8Q8qeRohOzP+mktGmx0bg/f8ptSdDzvj87IGogO7bCP0DCt1s2GMY/ckbI1RWbyT/aLZwwuDrNP/VH1X29edA/MmrPuhBh0j8N2PEL4VHUP5oswFvcStY/Gb557M1K2D/8RP8nmlDaP0fz4kc7W9w//PPDn75p3j/1398xoT3gP+u5ped5R+E/I7IDzAZS4j+vJJxO61zjP2RBHGTQZ+Q/LLVuCmRy5T9xdWLdWHzmPzfx/Lhlhec/dKY+Z0WN6D82lY9XtpPpP2PgXl56mOo/g0TEe1ab6z/dXyeoEpzsPyNbG6Z5mu0/fca/2FiW7j/CRhMegI/vP0GuXdbgQvA/QZhr+ni88D/6W8HBczTxP0woXnS9qvE/JtS0T0Mf8j8m4KB785HyP765NAC9AvM/qCpLvI9x8z/FnMhcXN7zP2gye1QUSfQ/HbWK1Kmx9D9ZGWvFDxj1PwXURcA5fPU/TIzPCBze9T8d1YCHqz32P+2WKcTdmvY/bq/X4Kj19j+oDwqVA073P5pLKinlo/c/QCZHckX39z/cKQvOHEj4PwjU6h5klvg/hEWGyBTi+D/IxDqsKCv5P5e14CWacfk/dvOyCGS1+T9jwFycgfb5Pzy1K5ruNPo/hFhjKqdw+j/yMLDhp6n6P6FVuL7t3/o/dKbHJ3YT+z8D+5XoPkT7PwW4JTBGcvs/Olm5joqd+z/DmN7zCsb7P832jazG6/s/FnpdYb0O/D/Tl8UU7y78P+NDdyFcTPw/6jvCOAVn/D98sAph6378P3J9TfQPlPw/BDGynnSm/D8vLSpdG7b8P8c6HHwGw/w/UvAbljjN/D9NWKyStNT8Py1MDaV92fw/egETS5fb/D8fTgdMBdv8PygxlLfL1/w/lDK35O7R/D+LNL1wc8n8PxtVRj5evvw/sIVRdLSw/D9Kgk99e6D8P0PXPAa5jfw/5qjC/XJ4/D9H9F2Tr2D8P4UEjTZ1Rvw/i9sClsop/D9bUOCetgr8P4+o8ntA6fs/bXX3lG/F+z/Af+WNS5/7P4SQOkbcdvs/n+ZN2ClM+z9OLKeYPB/7P13BWRUd8Po/0DBkFdS++j8hqxOYaov6P6Rfa9TpVfo/mJGPOFse+j/nRjRpyOT5PzxwD0E7qfk/mGtO0L1r+T+1ww5cWiz5PxQQ2l0b6/g/tdokgwuo+D+gcdCsNWP4P2mLr+6kHPg/QacNj2TU9z+0ETkGgIr3P1t4D/4CP/c/yPeMUfnx9j+fj10Mb6P2P7HpcGpwU/Y/vWGQ1wkC9j8VPPfuR6/1P2X67Ho3W/U/871hdOUF9T8rqIwCX6/0P98pjHqxV/Q/LTMIX+r+8z/bNdZfF6XzP8XsnllGSvM/ntuFVYXu8j9NetKI4pHyPyUAm1RsNPI/T8NwRTHW8T9FIQ4TQHfxP63lBaCnF/E/LCV0+Xa38D9BgrBWvVbwP9SkAzIU6+8/vjSmltkn7z/PsNND6mPuP+0nO/Rln+0/p1QhtGza7D8/oNTgHhXsP6R/IyidT+s/lxvVhwiK6j/cNCRNgsTpP4U2PBQs/+g/lmi4xyc66D/LNSWgl3XnP1t3gyOeseY/uLrNJF7u5T/NdH/D+ivlPzYXHmuXauQ/SfzD0leq4z+HHq38X+viP16RxTXULeI/brA5Fdlx4T+J+wd8k7fgP4ArKSlR/t8/wbt8pHuR3j8BL+vh8SjdP+I2qOn/xNs/Vw5uU/Jl2j+RxbNFFgzZP5Bq5nS5t9c/F/+kIipp1j/hK/8ctyDVP9Oitr2v3tM/VSGD6WOj0j+zBFkPJG/RPzBjsidBQtA/yTe1Zxk6zj+uoXh6sf/LPyt9Y6nv1ck/vsmuI3q9xz+P6cEk+LbFP3jw4PIRw8M/w0/f3XDiwT93yNY9vxXAP6AcxeNQu7w/eg69vbF1uT8cJFXc+1u2Py6C4xiMb7M/a+rqUMGxsD/OGHHH+EesPyqaEmBAj6c/CcBsIyM8oz+0QKR93aKeP5pXVqHpo5c/4WHzxxWBkT+o26evKYCIP8F0ifuFmn8/euzHp/jpcT9rYH7hpwtgP7c2lNX4KkA/",
        "encoding": "base64",
        "path": [
         "_data",
         0,
         "y",
         "value"
        ]
       }
      ],
      "model_module": "plotlywidget",
      "model_module_version": "^0.5.1",
      "model_name": "FigureModel",
      "state": {
       "_data": [
        {
         "type": "scatter",
         "uid": "f1423f11-e47c-4031-ac5f-57f67bacae7e",
         "x": {
          "dtype": "float64",
          "shape": [
           198
          ]
         },
         "y": {
          "dtype": "float64",
          "shape": [
           198
          ]
         }
        }
       ],
       "_js2py_pointsCallback": {},
       "_js2py_relayout": {},
       "_js2py_restyle": {},
       "_js2py_update": {},
       "_layout": {
        "template": {},
        "title": "Beta function with a=2.50, b=3.00",
        "yaxis": {
         "range": [
          0,
          2
         ]
        }
       },
       "_py2js_addTraces": {},
       "_py2js_animate": {},
       "_py2js_deleteTraces": {},
       "_py2js_moveTraces": {},
       "_py2js_removeLayoutProps": {},
       "_py2js_removeTraceProps": {},
       "_py2js_restyle": {},
       "_py2js_update": {},
       "_view_count": 0
      }
     },
     "5aa74ad03d8740dd91de0f004321556e": {
      "buffers": [
       {
        "data": "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",
        "encoding": "base64",
        "path": [
         "_data",
         0,
         "x",
         "value"
        ]
       },
       {
        "data": "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",
        "encoding": "base64",
        "path": [
         "_data",
         0,
         "y",
         "value"
        ]
       }
      ],
      "model_module": "plotlywidget",
      "model_module_version": "^0.5.1",
      "model_name": "FigureModel",
      "state": {
       "_data": [
        {
         "type": "scatter",
         "uid": "a2b23723-30b3-428a-b2bb-a7c9c161b7d8",
         "x": {
          "dtype": "float64",
          "shape": [
           198
          ]
         },
         "y": {
          "dtype": "float64",
          "shape": [
           198
          ]
         }
        }
       ],
       "_js2py_pointsCallback": {},
       "_js2py_relayout": {},
       "_js2py_restyle": {},
       "_js2py_update": {},
       "_layout": {
        "template": {},
        "title": "Beta function with a=2.50, b=3.20",
        "yaxis": {
         "range": [
          0,
          2
         ]
        }
       },
       "_py2js_addTraces": {},
       "_py2js_animate": {},
       "_py2js_deleteTraces": {},
       "_py2js_moveTraces": {},
       "_py2js_removeLayoutProps": {},
       "_py2js_removeTraceProps": {},
       "_py2js_restyle": {},
       "_py2js_update": {},
       "_view_count": 0
      }
     },
     "60487d61db174a6c9268310a7562b33f": {
      "buffers": [
       {
        "data": "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",
        "encoding": "base64",
        "path": [
         "_data",
         0,
         "x",
         "value"
        ]
       },
       {
        "data": "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",
        "encoding": "base64",
        "path": [
         "_data",
         0,
         "y",
         "value"
        ]
       }
      ],
      "model_module": "plotlywidget",
      "model_module_version": "^0.5.1",
      "model_name": "FigureModel",
      "state": {
       "_data": [
        {
         "type": "scatter",
         "uid": "a5bfd39f-c58d-48fe-8d5a-fa0c49d3c622",
         "x": {
          "dtype": "float64",
          "shape": [
           198
          ]
         },
         "y": {
          "dtype": "float64",
          "shape": [
           198
          ]
         }
        }
       ],
       "_js2py_pointsCallback": {},
       "_js2py_relayout": {},
       "_js2py_restyle": {},
       "_js2py_update": {},
       "_layout": {
        "template": {},
        "title": "Beta function with a=2.50, b=1.50",
        "yaxis": {
         "range": [
          0,
          2
         ]
        }
       },
       "_py2js_addTraces": {},
       "_py2js_animate": {},
       "_py2js_deleteTraces": {},
       "_py2js_moveTraces": {},
       "_py2js_removeLayoutProps": {},
       "_py2js_removeTraceProps": {},
       "_py2js_restyle": {},
       "_py2js_update": {},
       "_view_count": 0
      }
     },
     "615a232c5ad446d48eb4d3e69f03d71d": {
      "buffers": [
       {
        "data": "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",
        "encoding": "base64",
        "path": [
         "_data",
         0,
         "x",
         "value"
        ]
       },
       {
        "data": "SxCnZSFPgT9jy/acAjKYP0Fn4rha96U/RGVmEju2sD9KWHX4uBS3PwPgcbdw+70/rCiiXqSqwj+8GiK3rYjGP0kznnPTkMo/DZDhfSG9zj/csuTDN4TRPxQX8Goat9M/b9kPeDT11T8XipRZtjzYPxaji4X8i9o/uB2u0Yjh3D+NPl03/TvfP5iU0tELzeA/L85bSFf94T9xz88cVy7jP9Ap9iKLX+Q/AjkC6nuQ5T9DGZDnucDmPwvNNcHc7+c/MhQPr4Id6T8lneLyT0nqPzuXaWDucus/ROP08wya7D/INTR1X77tPzAUTiSe3+4/DUbLb4X97z/AUQ3Z6ovwPxCT03opF/E/oGdSX2Kg8T8yy+3seifyP7Pt6RdarPI/EI3vTegu8z/ObEVjD6/zP0bpjYG6LPQ/nlXeF9an9D/KcwvMTyD1P/8WC20WlvU/0whP5hkJ9j91uQA0S3n2Py40CFic5vY/01fLTwBR9z/RgJQKa7j3P8e0kWDRHPg/aAJfCil++D/CNRCZaNz4PyE/r26HN/k/1sIlt32P+T8vPYlhROT5P2z+wRnVNfo/ywGGQiqE+j9vS6HvPs/6PysQhuAOF/s/224fe5Zb+z8F++HG0pz7P8XCFWjB2vs/StlVm2AV/D9yxUExr0z8Py6AXYqsgPw/ovQck1ix/D/vMRjAs978Pz23ZQq/CP0/XnYY7Hsv/T/eVt9c7FL9P3YuxM4Sc/0/zUkIK/KP/T8VwxzPjan9P8EEtYnpv/0/1vLxlwnT/T+LUKSi8uL9PyQQpbup7/0/81BCWzT5/T/V5L9dmP/9Pw5I6gDcAv4/9Ai74QUD/j8NrA36HAD+Pw4oZJ4o+v0/NiO6ezDx/T8NJ2aVPOX9PzAMCENV1v0/vOmDLoPE/T/U3QhSz6/9P64OI/ZCmP0/i0rYr+d9/T+Dts5ex2D9P9UBfSvsQP0/IptjhWAe/T++ak4hL/n8PwCbnvdi0fw/Af2bQgen/D8gnc18J3r8P+keWV/PSvw/2Hxo4AoZ/D+Vy5Ux5uT7P2KkXL5trvs/u92QKq51+z/ZO9pQtDr7PzHGNEGN/fo/zHB1P0a++j95y9LB7Hz6P0tqcW+OOfo/Hb3zHjn0+T+FDQ3V+qz5P8dbF8PhY/k/MNWrRfwY+T/knj3jWMz4P4mxtkoGfvg/oYIWUhMu+D9hORL1jtz3P9gstlOIifc/7GkIsQ419z96/6txMd/2P9jOhBoAiPY/CJ9bT4ov9j8LMILR39X1P1oLd34Qe/U/+c2ITiwf9T8Ep3hTQ8L0PyHFG7dlZPQ/G2v7uaMF9D/VYvOxDabzP7aDzgi0RfM/W//gOqfk8j95JaDV94LyP6ZMN3a2IPI/LIsZyPO98T+Z54+DwFrxPxKlQ2wt9/A/tkvET0uT8D9zCAkEKy/wP6r22cu6le8/iAtMr+bM7j9uSGt++wPuP1OxpgkbO+0/skegImdy7D83B+WYAarrP1XIlDYM4uo/UNH4vKga6j8nygfh+FPpP0iw1Ucejug/ik7ugjrJ5z/hoZgMbwXnP210AUTdQuY/TldLaaaB5T8i/YGZ68HkPyjObsrNA+Q/WGBMxm1H4z/8SVYn7IziP8CLMlNp1OE/5o4xdgUe4T+Aa2F+4GngP02z4Sw0cN8/Uqq7QKMR3j/HJtdfTLjcPwfttQltZNs/sUfACUIW2j/ml55qB87YP0AM9Gj4i9c/ebRrZU9Q1j8yYAfWRRvVPwGnnTYU7dM/uhVy+PHF0j/XtM9wFabRP/LbisazjdA/XeqWvAH6zj/+oPiKXujMP9GbbTfg5so/i4T39OX1yD9JngW2yxXHP21EwPPpRsU/yZJqcJWJwz+I7Sf0Ht7BPwT2UAPTRMA/JdCxGvN7vT9Onx0mq5O6P4v0g4VJ0bc/nTnzED41tT/86Psf7L+yP9+otmupcbA/yKr8jnmVrD+gO/pNuZaoP0pxcspa56Q/551FeH6HoT/eA3JYL+6cP7BI/mfNa5c/IDFmEeOGkj85TslV6nuMP8QWkQvTHYU/DWqWxZvbfT80LoizoshzPzfhRcnn3Wc/LJW87NvRWD8klsXPVK9DP58utj1qHCA/",
        "encoding": "base64",
        "path": [
         "_data",
         0,
         "y",
         "value"
        ]
       }
      ],
      "model_module": "plotlywidget",
      "model_module_version": "^0.5.1",
      "model_name": "FigureModel",
      "state": {
       "_data": [
        {
         "type": "scatter",
         "uid": "a8bf91c4-22c6-4556-a287-7e0dfa1a6a48",
         "x": {
          "dtype": "float64",
          "shape": [
           198
          ]
         },
         "y": {
          "dtype": "float64",
          "shape": [
           198
          ]
         }
        }
       ],
       "_js2py_pointsCallback": {},
       "_js2py_relayout": {},
       "_js2py_restyle": {},
       "_js2py_update": {},
       "_layout": {
        "template": {},
        "title": "Beta function with a=2.50, b=3.30",
        "yaxis": {
         "range": [
          0,
          2
         ]
        }
       },
       "_py2js_addTraces": {},
       "_py2js_animate": {},
       "_py2js_deleteTraces": {},
       "_py2js_moveTraces": {},
       "_py2js_removeLayoutProps": {},
       "_py2js_removeTraceProps": {},
       "_py2js_restyle": {},
       "_py2js_update": {},
       "_view_count": 0
      }
     },
     "628d97c61d7f43728348123a4c1f8f8b": {
      "model_module": "@jupyter-widgets/base",
      "model_module_version": "1.1.0",
      "model_name": "LayoutModel",
      "state": {}
     },
     "64556c6b96a44077ad8cd7d61f8efe97": {
      "buffers": [
       {
        "data": "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",
        "encoding": "base64",
        "path": [
         "_data",
         0,
         "x",
         "value"
        ]
       },
       {
        "data": "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",
        "encoding": "base64",
        "path": [
         "_data",
         0,
         "y",
         "value"
        ]
       }
      ],
      "model_module": "plotlywidget",
      "model_module_version": "^0.5.1",
      "model_name": "FigureModel",
      "state": {
       "_data": [
        {
         "type": "scatter",
         "uid": "663a8569-5916-4268-b8e0-17c9c1d696c9",
         "x": {
          "dtype": "float64",
          "shape": [
           198
          ]
         },
         "y": {
          "dtype": "float64",
          "shape": [
           198
          ]
         }
        }
       ],
       "_js2py_pointsCallback": {},
       "_js2py_relayout": {},
       "_js2py_restyle": {},
       "_js2py_update": {},
       "_layout": {
        "template": {},
        "title": "Beta function with a=2.50, b=4.00",
        "yaxis": {
         "range": [
          0,
          2
         ]
        }
       },
       "_py2js_addTraces": {},
       "_py2js_animate": {},
       "_py2js_deleteTraces": {},
       "_py2js_moveTraces": {},
       "_py2js_removeLayoutProps": {},
       "_py2js_removeTraceProps": {},
       "_py2js_restyle": {},
       "_py2js_update": {},
       "_view_count": 0
      }
     },
     "6866a254643d4582a61d20ac31390705": {
      "buffers": [
       {
        "data": "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",
        "encoding": "base64",
        "path": [
         "_data",
         0,
         "x",
         "value"
        ]
       },
       {
        "data": "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",
        "encoding": "base64",
        "path": [
         "_data",
         0,
         "y",
         "value"
        ]
       }
      ],
      "model_module": "plotlywidget",
      "model_module_version": "^0.5.1",
      "model_name": "FigureModel",
      "state": {
       "_data": [
        {
         "type": "scatter",
         "uid": "4741050a-7304-4dd6-8ff4-73c83357326e",
         "x": {
          "dtype": "float64",
          "shape": [
           198
          ]
         },
         "y": {
          "dtype": "float64",
          "shape": [
           198
          ]
         }
        }
       ],
       "_js2py_pointsCallback": {},
       "_js2py_relayout": {},
       "_js2py_restyle": {},
       "_js2py_update": {},
       "_layout": {
        "template": {},
        "title": "Beta function with a=2.50, b=4.10",
        "yaxis": {
         "range": [
          0,
          2
         ]
        }
       },
       "_py2js_addTraces": {},
       "_py2js_animate": {},
       "_py2js_deleteTraces": {},
       "_py2js_moveTraces": {},
       "_py2js_removeLayoutProps": {},
       "_py2js_removeTraceProps": {},
       "_py2js_restyle": {},
       "_py2js_update": {},
       "_view_count": 0
      }
     },
     "69a036602b064e0fb26a4b639a8aad4c": {
      "buffers": [
       {
        "data": "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",
        "encoding": "base64",
        "path": [
         "_data",
         0,
         "x",
         "value"
        ]
       },
       {
        "data": "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",
        "encoding": "base64",
        "path": [
         "_data",
         0,
         "y",
         "value"
        ]
       }
      ],
      "model_module": "plotlywidget",
      "model_module_version": "^0.5.1",
      "model_name": "FigureModel",
      "state": {
       "_data": [
        {
         "type": "scatter",
         "uid": "0b112af6-f1a8-4f37-9e34-f7de6b55518b",
         "x": {
          "dtype": "float64",
          "shape": [
           198
          ]
         },
         "y": {
          "dtype": "float64",
          "shape": [
           198
          ]
         }
        }
       ],
       "_js2py_pointsCallback": {},
       "_js2py_relayout": {},
       "_js2py_restyle": {},
       "_js2py_update": {},
       "_layout": {
        "template": {},
        "title": "Beta function with a=2.50, b=1.80",
        "yaxis": {
         "range": [
          0,
          2
         ]
        }
       },
       "_py2js_addTraces": {},
       "_py2js_animate": {},
       "_py2js_deleteTraces": {},
       "_py2js_moveTraces": {},
       "_py2js_removeLayoutProps": {},
       "_py2js_removeTraceProps": {},
       "_py2js_restyle": {},
       "_py2js_update": {},
       "_view_count": 0
      }
     },
     "6a7838c1f8754be9bae7f9c014fd9db1": {
      "buffers": [
       {
        "data": "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",
        "encoding": "base64",
        "path": [
         "_data",
         0,
         "x",
         "value"
        ]
       },
       {
        "data": "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",
        "encoding": "base64",
        "path": [
         "_data",
         0,
         "y",
         "value"
        ]
       }
      ],
      "model_module": "plotlywidget",
      "model_module_version": "^0.5.1",
      "model_name": "FigureModel",
      "state": {
       "_data": [
        {
         "type": "scatter",
         "uid": "1eec3a21-fb52-4df3-87f0-9ae2c8dedf39",
         "x": {
          "dtype": "float64",
          "shape": [
           198
          ]
         },
         "y": {
          "dtype": "float64",
          "shape": [
           198
          ]
         }
        }
       ],
       "_js2py_pointsCallback": {},
       "_js2py_relayout": {},
       "_js2py_restyle": {},
       "_js2py_update": {},
       "_layout": {
        "template": {},
        "title": "Beta function with a=2.50, b=3.90",
        "yaxis": {
         "range": [
          0,
          2
         ]
        }
       },
       "_py2js_addTraces": {},
       "_py2js_animate": {},
       "_py2js_deleteTraces": {},
       "_py2js_moveTraces": {},
       "_py2js_removeLayoutProps": {},
       "_py2js_removeTraceProps": {},
       "_py2js_restyle": {},
       "_py2js_update": {},
       "_view_count": 0
      }
     },
     "7002bad8e7fc49e49de5261a269d0512": {
      "buffers": [
       {
        "data": "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",
        "encoding": "base64",
        "path": [
         "_data",
         0,
         "x",
         "value"
        ]
       },
       {
        "data": "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",
        "encoding": "base64",
        "path": [
         "_data",
         0,
         "y",
         "value"
        ]
       }
      ],
      "model_module": "plotlywidget",
      "model_module_version": "^0.5.1",
      "model_name": "FigureModel",
      "state": {
       "_data": [
        {
         "type": "scatter",
         "uid": "84ed8c55-bb50-45bb-9653-0c11492dec29",
         "x": {
          "dtype": "float64",
          "shape": [
           198
          ]
         },
         "y": {
          "dtype": "float64",
          "shape": [
           198
          ]
         }
        }
       ],
       "_js2py_pointsCallback": {},
       "_js2py_relayout": {},
       "_js2py_restyle": {},
       "_js2py_update": {},
       "_layout": {
        "template": {},
        "title": "Beta function with a=2.50, b=1.70",
        "yaxis": {
         "range": [
          0,
          2
         ]
        }
       },
       "_py2js_addTraces": {},
       "_py2js_animate": {},
       "_py2js_deleteTraces": {},
       "_py2js_moveTraces": {},
       "_py2js_removeLayoutProps": {},
       "_py2js_removeTraceProps": {},
       "_py2js_restyle": {},
       "_py2js_update": {},
       "_view_count": 0
      }
     },
     "73104087b4ec4b3b84e290884906c13e": {
      "buffers": [
       {
        "data": "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",
        "encoding": "base64",
        "path": [
         "_data",
         0,
         "x",
         "value"
        ]
       },
       {
        "data": "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",
        "encoding": "base64",
        "path": [
         "_data",
         0,
         "y",
         "value"
        ]
       }
      ],
      "model_module": "plotlywidget",
      "model_module_version": "^0.5.1",
      "model_name": "FigureModel",
      "state": {
       "_data": [
        {
         "type": "scatter",
         "uid": "cfdb80ce-a7ee-4a4f-9029-8496788149fe",
         "x": {
          "dtype": "float64",
          "shape": [
           198
          ]
         },
         "y": {
          "dtype": "float64",
          "shape": [
           198
          ]
         }
        }
       ],
       "_js2py_pointsCallback": {},
       "_js2py_relayout": {},
       "_js2py_restyle": {},
       "_js2py_update": {},
       "_layout": {
        "template": {},
        "title": "Beta function with a=2.50, b=2.30",
        "yaxis": {
         "range": [
          0,
          2
         ]
        }
       },
       "_py2js_addTraces": {},
       "_py2js_animate": {},
       "_py2js_deleteTraces": {},
       "_py2js_moveTraces": {},
       "_py2js_removeLayoutProps": {},
       "_py2js_removeTraceProps": {},
       "_py2js_restyle": {},
       "_py2js_update": {},
       "_view_count": 0
      }
     },
     "73243b213fed4e33a3b4594d591796f9": {
      "model_module": "@jupyter-widgets/controls",
      "model_module_version": "1.4.0",
      "model_name": "VBoxModel",
      "state": {
       "_dom_classes": [
        "widget-interact"
       ],
       "children": [
        "IPY_MODEL_404b92d861a848218ec39398d5f68a43",
        "IPY_MODEL_9fbc8fc719c0479da009d531f09417c5",
        "IPY_MODEL_9af81bfe6ec3432f86f210cfe833dfdd"
       ],
       "layout": "IPY_MODEL_9be626451bdf45cf94e4737927a9ff47"
      }
     },
     "7796d98054f0456ba03e989975c5ae01": {
      "model_module": "@jupyter-widgets/controls",
      "model_module_version": "1.4.0",
      "model_name": "SliderStyleModel",
      "state": {
       "description_width": ""
      }
     },
     "7bfee11a3b6044b1b76d215526397b8e": {
      "buffers": [
       {
        "data": "Z9Cy4zmVdD9n0LLjOZWEP5o4jNXW344/Z9Cy4zmVlD+BhJ9ciLqZP5o4jNXW354/WnY8p5ICoj9n0LLjOZWkP3QqKSDhJ6c/gYSfXIi6qT+O3hWZL02sP5o4jNXW364/VEkBCT+5sD9adjynkgKyP2Gjd0XmS7M/Z9Cy4zmVtD9t/e2Bjd61P3QqKSDhJ7c/eldkvjRxuD+BhJ9ciLq5P4ex2vrbA7s/jt4VmS9NvD+UC1E3g5a9P5o4jNXW374/0LLjOZUUwD9USQEJP7nAP9ffHtjoXcE/WnY8p5ICwj/dDFp2PKfCP2Gjd0XmS8M/5DmVFJDwwz9n0LLjOZXEP+pm0LLjOcU/bf3tgY3exT/xkwtRN4PGP3QqKSDhJ8c/98BG74rMxz96V2S+NHHIP/7tgY3eFck/gYSfXIi6yT8EG70rMl/KP4ex2vrbA8s/Ckj4yYWoyz+O3hWZL03MPxF1M2jZ8cw/lAtRN4OWzT8Xom4GLTvOP5o4jNXW384/Hs+ppICEzz/QsuM5lRTQPxJ+ciHqZtA/VEkBCT+50D+VFJDwkwvRP9ffHtjoXdE/Gautvz2w0T9adjynkgLSP5xBy47nVNI/3Qxadjyn0j8f2OhdkfnSP2Gjd0XmS9M/om4GLTue0z/kOZUUkPDTPyUFJPzkQtQ/Z9Cy4zmV1D+pm0HLjufUP+pm0LLjOdU/LDJfmjiM1T9t/e2Bjd7VP6/IfGniMNY/8ZMLUTeD1j8yX5o4jNXWP3QqKSDhJ9c/tfW3BzZ61z/3wEbviszXPzmM1dbfHtg/eldkvjRx2D+8IvOlicPYP/7tgY3eFdk/P7kQdTNo2T+BhJ9ciLrZP8JPLkTdDNo/BBu9KzJf2j9G5ksTh7HaP4ex2vrbA9s/yXxp4jBW2z8KSPjJhajbP0wTh7Ha+ts/jt4VmS9N3D/PqaSAhJ/cPxF1M2jZ8dw/UkDCTy5E3T+UC1E3g5bdP9bW3x7Y6N0/F6JuBi073j9Zbf3tgY3eP5o4jNXW394/3AMbvSsy3z8ez6mkgITfP1+aOIzV1t8/0LLjOZUU4D9xGKutvz3gPxJ+ciHqZuA/s+M5lRSQ4D9USQEJP7ngP/SuyHxp4uA/lRSQ8JML4T82eldkvjThP9ffHtjoXeE/eEXmSxOH4T8Zq62/PbDhP7kQdTNo2eE/WnY8p5IC4j/72wMbvSviP5xBy47nVOI/PaeSAhJ+4j/dDFp2PKfiP35yIepm0OI/H9joXZH54j/APbDRuyLjP2Gjd0XmS+M/AQk/uRB14z+ibgYtO57jP0PUzaBlx+M/5DmVFJDw4z+Fn1yIuhnkPyUFJPzkQuQ/xmrrbw9s5D9n0LLjOZXkPwg2eldkvuQ/qZtBy47n5D9JAQk/uRDlP+pm0LLjOeU/i8yXJg5j5T8sMl+aOIzlP82XJg5jteU/bf3tgY3e5T8OY7X1twfmP6/IfGniMOY/UC5E3Qxa5j/xkwtRN4PmP5H50sRhrOY/Ml+aOIzV5j/TxGGstv7mP3QqKSDhJ+c/FZDwkwtR5z+19bcHNnrnP1Zbf3tgo+c/98BG74rM5z+YJg5jtfXnPzmM1dbfHug/2vGcSgpI6D96V2S+NHHoPxu9KzJfmug/vCLzpYnD6D9diLoZtOzoP/7tgY3eFek/nlNJAQk/6T8/uRB1M2jpP+Ae2Ohdkek/gYSfXIi66T8i6mbQsuPpP8JPLkTdDOo/Y7X1twc26j8EG70rMl/qP6WAhJ9ciOo/RuZLE4ex6j/mSxOHsdrqP4ex2vrbA+s/KBeibgYt6z/JfGniMFbrP2riMFZbf+s/Ckj4yYWo6z+rrb89sNHrP0wTh7Ha+us/7XhOJQUk7D+O3hWZL03sPy5E3Qxaduw/z6mkgISf7D9wD2z0rsjsPxF1M2jZ8ew/str62wMb7T9SQMJPLkTtP/OlicNYbe0/lAtRN4OW7T81cRirrb/tP9bW3x7Y6O0/djynkgIS7j8Xom4GLTvuP7gHNnpXZO4/WW397YGN7j/60sRhrLbuP5o4jNXW3+4/O55TSQEJ7z/cAxu9KzLvP31p4jBWW+8/Hs+ppICE7z+/NHEYq63vP1+aOIzV1u8/",
        "encoding": "base64",
        "path": [
         "_data",
         0,
         "x",
         "value"
        ]
       },
       {
        "data": "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",
        "encoding": "base64",
        "path": [
         "_data",
         0,
         "y",
         "value"
        ]
       }
      ],
      "model_module": "plotlywidget",
      "model_module_version": "^0.5.1",
      "model_name": "FigureModel",
      "state": {
       "_data": [
        {
         "type": "scatter",
         "uid": "7956539a-9e8e-44bc-8d5f-cbaaeae17235",
         "x": {
          "dtype": "float64",
          "shape": [
           198
          ]
         },
         "y": {
          "dtype": "float64",
          "shape": [
           198
          ]
         }
        }
       ],
       "_js2py_pointsCallback": {},
       "_js2py_relayout": {},
       "_js2py_restyle": {},
       "_js2py_update": {},
       "_layout": {
        "template": {},
        "title": "Beta function with a=1.70, b=1.50",
        "yaxis": {
         "range": [
          0,
          2
         ]
        }
       },
       "_py2js_addTraces": {},
       "_py2js_animate": {},
       "_py2js_deleteTraces": {},
       "_py2js_moveTraces": {},
       "_py2js_removeLayoutProps": {},
       "_py2js_removeTraceProps": {},
       "_py2js_restyle": {},
       "_py2js_update": {},
       "_view_count": 0
      }
     },
     "839ffb27e5044a3db1a170ad89867468": {
      "buffers": [
       {
        "data": "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",
        "encoding": "base64",
        "path": [
         "_data",
         0,
         "x",
         "value"
        ]
       },
       {
        "data": "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",
        "encoding": "base64",
        "path": [
         "_data",
         0,
         "y",
         "value"
        ]
       }
      ],
      "model_module": "plotlywidget",
      "model_module_version": "^0.5.1",
      "model_name": "FigureModel",
      "state": {
       "_data": [
        {
         "type": "scatter",
         "uid": "62e1a92b-2a49-4f1f-9d44-ccd6d0dcad94",
         "x": {
          "dtype": "float64",
          "shape": [
           198
          ]
         },
         "y": {
          "dtype": "float64",
          "shape": [
           198
          ]
         }
        }
       ],
       "_js2py_pointsCallback": {},
       "_js2py_relayout": {},
       "_js2py_restyle": {},
       "_js2py_update": {},
       "_layout": {
        "template": {},
        "title": "Beta function with a=2.90, b=1.50",
        "yaxis": {
         "range": [
          0,
          2
         ]
        }
       },
       "_py2js_addTraces": {},
       "_py2js_animate": {},
       "_py2js_deleteTraces": {},
       "_py2js_moveTraces": {},
       "_py2js_removeLayoutProps": {},
       "_py2js_removeTraceProps": {},
       "_py2js_restyle": {},
       "_py2js_update": {},
       "_view_count": 0
      }
     },
     "8753327a12c54931ad3a4f7e5cd531bc": {
      "buffers": [
       {
        "data": "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",
        "encoding": "base64",
        "path": [
         "_data",
         0,
         "x",
         "value"
        ]
       },
       {
        "data": "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",
        "encoding": "base64",
        "path": [
         "_data",
         0,
         "y",
         "value"
        ]
       }
      ],
      "model_module": "plotlywidget",
      "model_module_version": "^0.5.1",
      "model_name": "FigureModel",
      "state": {
       "_data": [
        {
         "type": "scatter",
         "uid": "4a7a37e9-98f3-4259-8666-848072aff771",
         "x": {
          "dtype": "float64",
          "shape": [
           198
          ]
         },
         "y": {
          "dtype": "float64",
          "shape": [
           198
          ]
         }
        }
       ],
       "_js2py_pointsCallback": {},
       "_js2py_relayout": {},
       "_js2py_restyle": {},
       "_js2py_update": {},
       "_layout": {
        "template": {},
        "title": "Beta function with a=2.20, b=1.50",
        "yaxis": {
         "range": [
          0,
          2
         ]
        }
       },
       "_py2js_addTraces": {},
       "_py2js_animate": {},
       "_py2js_deleteTraces": {},
       "_py2js_moveTraces": {},
       "_py2js_removeLayoutProps": {},
       "_py2js_removeTraceProps": {},
       "_py2js_restyle": {},
       "_py2js_update": {},
       "_view_count": 0
      }
     },
     "8ba386d7e40e4362ae0fc6745fb09749": {
      "buffers": [
       {
        "data": "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",
        "encoding": "base64",
        "path": [
         "_data",
         0,
         "x",
         "value"
        ]
       },
       {
        "data": "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",
        "encoding": "base64",
        "path": [
         "_data",
         0,
         "y",
         "value"
        ]
       }
      ],
      "model_module": "plotlywidget",
      "model_module_version": "^0.5.1",
      "model_name": "FigureModel",
      "state": {
       "_data": [
        {
         "type": "scatter",
         "uid": "068e0682-aae8-499a-bb3e-b51b8fe52402",
         "x": {
          "dtype": "float64",
          "shape": [
           198
          ]
         },
         "y": {
          "dtype": "float64",
          "shape": [
           198
          ]
         }
        }
       ],
       "_js2py_pointsCallback": {},
       "_js2py_relayout": {},
       "_js2py_restyle": {},
       "_js2py_update": {},
       "_layout": {
        "template": {},
        "title": "Beta function with a=2.30, b=1.50",
        "yaxis": {
         "range": [
          0,
          2
         ]
        }
       },
       "_py2js_addTraces": {},
       "_py2js_animate": {},
       "_py2js_deleteTraces": {},
       "_py2js_moveTraces": {},
       "_py2js_removeLayoutProps": {},
       "_py2js_removeTraceProps": {},
       "_py2js_restyle": {},
       "_py2js_update": {},
       "_view_count": 0
      }
     },
     "8cb9749c08204a56987c601cf19efb0c": {
      "buffers": [
       {
        "data": "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",
        "encoding": "base64",
        "path": [
         "_data",
         0,
         "x",
         "value"
        ]
       },
       {
        "data": "cXhtX8ZFdT83BiFMWdeNP1oT8M5IMJs//Stif1vCpD8Qjaa7McasP2Z6JTewwbI/dyZJE7xwtz/yc9rNfWa8PwP1M1NzzcA/TnDzro+Dwz+0OlV7nVLGP7hgNTgBOMk/XSqq9WcxzD+7GmbiuTzPP9hQcBsILNE/cLczvNbA0j+GHBi1+1vUP477Dx25/NU/ZDgeTV6i1z+rb2RHRkzZP7mkRGTW+do/LRynNn2q3D9ZrjKcsV3eP2iiefh4CeA/lprur+Hk4D8Dhoal2MDhP/7s22MmneI/6PtIFZZ54z/zsglR9VXkP40DP+4TMuU/vAP228MN5j9BKX392OjmP+tucAopw+c/Uif+cYuc6D/nZvpA2XTpP5BdZwrtS+o/4nUm0qIh6z/3MpH51/XrP5wGwi1ryOw/xBJdVzyZ7T/GRK+LLGjuP6aw//4dNe8/rbPz9/P/7z9LK/VhSWTwP6BiG9Zvx/A/FUoSdmAp8T+LhNnTDorxP1pge/Fu6fE/EnQJPXVH8j+Vb96MFqTyP6JAHxxI//I/30d2h/9Y8z9g5gPKMrHzP2MlgDrYB/Q/6aWJiOZc9D+fZB66VLD0P5AzOykaAvU/YhWfgS5S9T8n6a++iaD1P10Rfikk7fU/wfXkVvY39j/xb8Yl+YD2PyhdX70lyPY/j7azi3UN9z9DtBBE4lD3P2Geo91lkvc/nQwkkvrR9z/XbZDcmg/4P1nJ+3dBS/g/Q8BrXumE+D9H6cXHjbz4P72yyygq8vg/1AYkMrol+T8r/XHPOVf5Pyvydyalhvk/NWlGlviz+T+EKna2MN/5P4sXbVZKCPo/VjutfEIv+j+upC1mFlT6P5SgvIXDdvo/q/Nqg0eX+j+Xt/87oLX6PziJdMDL0fo/BLp5Vcjr+j8UPQJzlAP7PzsO18MuGfs/A9YxJZYs+z8fk16myT37P9MVZIjITPs/ph6zPZJZ+z+69dtpJmT7P+NTSuGEbPs/unoHqa1y+z9XXIL2oHb7P6i2XS9fePs/PQpE6eh3+z/9VsHpPnX7P+OMIiZicPs/qaFaw1Np+z9lP+0VFWD7PzgD36GnVPs/zkWrGg1H+z+Yaj9jRzf7P4+1+41YJfs//am53EIR+z8L+NfACPv6P3gBTNus4vo/DQG5/DHI+j9q44wlm6v6P8LiIobrjPo/kvrrfiZs+j9/S52gT0n6P/mKZKxqJPo/9J0ilHv9+T+hgax6htT5P+eoErSPqfk/xPnuxZt8+T+rmblnr035P6O8JIPPHPk/ALB/NAHq+D8vXiHLSbX4PxaP2smufvg/xy1w5zVG+D8I4x0P5Qv4P4JaIWHCz/c/xI9OM9SR9z8MiK0RIVL3P+nlIb+vEPc/Ic0cNofN9j/Rllmproj2P0rgpYQtQvY/J4u1bQv69T/pUANFULD1P+eaviYEZfU/xF3Hay8Y9T8ryLiq2sn0P9WmA7kOevQ/GnMZrNQo9D97F6naNdbzP1aN7t07gvM/kpEWk/As8z9Gy7ccXtbyP/DfYuSOfvI/AhVLnI0l8j+pRglBZcvxP5coexshcPE/D/jAwswT8T8o/lsedLbwP9iAcGgjWPA/rBBcYM7x7z/2XMK4mDHvP1gRZVzAb+4/oUctiGCs7T+4/eY5lefsPwbsADd7Iew/JVPMEzBa6z/4NEk70pHqP0sBjfeAyOk/nY/Telz+6D+IXEzphTPoP+50uGMfaOc/H1fwEkyc5j+Pbmw0MNDlPxHD7ifxA+U//iJxfrU35D8Vn4AKpWvjPwHTNfLon+I/2W4Bw6vU4T81Fo6HGQrhPwdbBOBfQOA/XsoXOlzv3j9X3Oy7amDdPywLLmVR1Ns/gJzGgnpL2j+OYz3lVMbYP6tB9kJURdc/2dGlqPHI1T/kbc/6q1HUP94R5IsI4NI//HGVy5N00T9n9UQV4g/QP3EBj0ohZc0/rvx6fo26yj9Gn6MmbiHIP9w+uupCm8U/mzsgAaopwz8KQcmbZc7APzFIHdfFFr0/SyHKy4bFuD9g3Z+50q20P6+QM1UT1bA/TpEeChaDqj/Qi1ePSPWjP/nM0mzRJZw/i7Lby53mkT/9ekfIZNuCP9WOAbdYEmk/",
        "encoding": "base64",
        "path": [
         "_data",
         0,
         "y",
         "value"
        ]
       }
      ],
      "model_module": "plotlywidget",
      "model_module_version": "^0.5.1",
      "model_name": "FigureModel",
      "state": {
       "_data": [
        {
         "type": "scatter",
         "uid": "f10d3231-3be5-4c85-81ad-485cb14ea7db",
         "x": {
          "dtype": "float64",
          "shape": [
           198
          ]
         },
         "y": {
          "dtype": "float64",
          "shape": [
           198
          ]
         }
        }
       ],
       "_js2py_pointsCallback": {},
       "_js2py_relayout": {},
       "_js2py_restyle": {},
       "_js2py_update": {},
       "_layout": {
        "template": {},
        "title": "Beta function with a=2.50, b=2.60",
        "yaxis": {
         "range": [
          0,
          2
         ]
        }
       },
       "_py2js_addTraces": {},
       "_py2js_animate": {},
       "_py2js_deleteTraces": {},
       "_py2js_moveTraces": {},
       "_py2js_removeLayoutProps": {},
       "_py2js_removeTraceProps": {},
       "_py2js_restyle": {},
       "_py2js_update": {},
       "_view_count": 0
      }
     },
     "8e0972633a7744cabb7988b374cda306": {
      "buffers": [
       {
        "data": "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",
        "encoding": "base64",
        "path": [
         "_data",
         0,
         "x",
         "value"
        ]
       },
       {
        "data": "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",
        "encoding": "base64",
        "path": [
         "_data",
         0,
         "y",
         "value"
        ]
       }
      ],
      "model_module": "plotlywidget",
      "model_module_version": "^0.5.1",
      "model_name": "FigureModel",
      "state": {
       "_data": [
        {
         "type": "scatter",
         "uid": "1f537545-dfad-46d9-b3de-a285b950cb5d",
         "x": {
          "dtype": "float64",
          "shape": [
           198
          ]
         },
         "y": {
          "dtype": "float64",
          "shape": [
           198
          ]
         }
        }
       ],
       "_js2py_pointsCallback": {},
       "_js2py_relayout": {},
       "_js2py_restyle": {},
       "_js2py_update": {},
       "_layout": {
        "template": {},
        "title": "Beta function with a=2.50, b=2.80",
        "yaxis": {
         "range": [
          0,
          2
         ]
        }
       },
       "_py2js_addTraces": {},
       "_py2js_animate": {},
       "_py2js_deleteTraces": {},
       "_py2js_moveTraces": {},
       "_py2js_removeLayoutProps": {},
       "_py2js_removeTraceProps": {},
       "_py2js_restyle": {},
       "_py2js_update": {},
       "_view_count": 0
      }
     },
     "9374bbf78f60402da371d2eaeafeacae": {
      "buffers": [
       {
        "data": "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",
        "encoding": "base64",
        "path": [
         "_data",
         0,
         "x",
         "value"
        ]
       },
       {
        "data": "sxTvgTXChD/5Sh0rI/mcP9X7lJCFQ6o/B/HEJ2Tzsz/A3aECBIO7P2pWtZdb18E/GBsqZlAuxj9LIPeVA7zKP+8FyOvdd88/faUOgEkt0j9FoEn/6K7UPzMcX9oHPtc/4PygJTDY2T8WcC6XLXvcP4GTle0CJd8/gabr3/Dp4D/4ztkEEkPiP1YFun8jneM/2FUYbHP35D+ckX+qXVHmPyw+om1Kquc/M/KiAa0B6T+IXt/BAlfqP8RmYTTSqes/644bRKr57D9s0ZKUIUbuPwgTturVju8/l5K+07Vp8D+ncsioxgnxP0454JV1p/E/Hfc2a51C8j9gPjd9G9vyP+IdDX7PcPM/SZ++WpsD9D92lmIbY5P0P2HxFMYMIPU/IwZWRICp9T8wNI5Kpy/2P6kJeUFtsvY/Y15DMb8x9z8qxy6ui633P9WiksbCJfg/7P0X8lWa+D9CyhECOAv5P7aL1hJdePk/6rsDfrrh+T/d2pXNRkf6PzR4wq/5qPo/kImD68sG+z/IJ8VVt2D7P/BYKMe2tvs/RelOEsYI/D+chqX64Vb8P5dfoisIofw/n3ZvMDfn/D9pq/hrbin9P2o6VhGuZ/0/7BeNHPeh/T94Ip9LS9j9P2mt5RetCv4/I1yxrx85/j9hsirwpmP+P8gdb19Hiv4/QpXmJgat/j+cOM4N6cv+P/Wh9HP25v4/QNykTDX+/j/4Kr0ZrRH/P9oF7+ZlIf8/R9slRWgt/z/lVxJGvTX/P10b2HduOv8/peXb4IU7/z87a7D7DTn/PwEdILMRM/8/l0xSXpwp/z8kMQq9uRz/Pwhn/vN1DP8/XpxHid34/j+lL+Vg/eH+P+6YVrnix/4/o4dIKJuq/j8WrlSXNIr+P8ND00C9Zv4/VlS9rENA/j8p/p6t1hb+P0jPmF2F6v0/43lvG1+7/T9QJKmHc4n9P0qht4HSVP0/I+YuJYwd/T/WHAfHsOP8P/C26fJQp/w/se2IaH1o/D8xIgEZRyf8P8WVQyS/4/s/dvmJ1vad+z+KV9Kl/1X7P2DfYi/rC/s/eSBVNcu/+j8MRSicsXH6PxThWWiwIfo/cO0EvNnP+T+MiobUP3z5P6soKAj1Jvk/frbOwwvQ+D+fea6Ilnf4Pww2A+qnHfg/bUzMilLC9z8ieIwbqWX3PxbYDFi+B/c/Ye4iBaWo9j8mRHnub0j2P9lfWuQx5/U/EL19uf2E9T+IddZA5iH1P0JLY0v+vfQ/QMT/pVhZ9D/EBzYXCPTzP3UtEV0fjvM/563vKrEn8z/Co1Un0MDyP9eLvumOWfI/eTFu+P/x8T86c0DGNYrxP8yKd7BCIvE/8oCI/Di68D+7dOXVKlLwP361ipdU1O8/1a3RnZIE7z/poLdeMzXuP+y4ZjRaZu0/8TCPLiqY7D8NFNINxsrrP0IpIj9Q/uo//SQa1+oy6j8JL0eNt2jpPwDBZrfXn+g/VdSWRGzY5z9nSne4lRLnP7NpOyZ0TuY/ejuqKyeM5T9jgwzszcvkP8P2BguHDeQ/X0Rfp3BR4z+iZapVqJfiPz2Y4hpL4OE/OUPjZnUr4T8X6sgOQ3ngP4xdZo6ek98/XHjNPGk63j9okZnsGefcP1thm/zimds/wOgHWvVS2j9nVIlzgBLZP3Rp9Cuy2Nc/qYWbzLal1j/Rmzf3uHnVP+PcXpfhVNQ/eux/01c30z+QlVf9QCHSP6Po1YHAEtE/9nxm2PcL0D91aRzjDBrOP6CsnkkTLMw/EwuGOzlOyj+BMqqQsIDIPyLPGXimw8Y/0LuVTEMXxT909r5mqnvDP6/ouOz58ME/M5P4nkp3wD9R8dxDXx2+P1u6WIhsbrs/qRoxgcvhuD/9fVv4fXe2P9e/X314L7Q/6VJEy6EJsj9cJlAh0gWwP1zFPBmlR6w/y5UjQLjGqD/7d1AvLoilP9XY7sYzi6I/cWarVqCdnz8wG2K2xKOaP4shMOE8JpY/lH0f8hQikj/1UQAn6yeNP8f6Y6028IY/NHf2qZiUgT9u66EWLhd6Py7MFbEjlXI/3zfbJ2oWaT+Jsig473lfP8a6IfHDwVE/lKpNPGTwQD9L8MZvsMonP5NKl8H7of8+",
        "encoding": "base64",
        "path": [
         "_data",
         0,
         "y",
         "value"
        ]
       }
      ],
      "model_module": "plotlywidget",
      "model_module_version": "^0.5.1",
      "model_name": "FigureModel",
      "state": {
       "_data": [
        {
         "type": "scatter",
         "uid": "1cc428ef-d9cb-40ef-8b84-831e24ee42ee",
         "x": {
          "dtype": "float64",
          "shape": [
           198
          ]
         },
         "y": {
          "dtype": "float64",
          "shape": [
           198
          ]
         }
        }
       ],
       "_js2py_pointsCallback": {},
       "_js2py_relayout": {},
       "_js2py_restyle": {},
       "_js2py_update": {},
       "_layout": {
        "template": {},
        "title": "Beta function with a=2.50, b=3.60",
        "yaxis": {
         "range": [
          0,
          2
         ]
        }
       },
       "_py2js_addTraces": {},
       "_py2js_animate": {},
       "_py2js_deleteTraces": {},
       "_py2js_moveTraces": {},
       "_py2js_removeLayoutProps": {},
       "_py2js_removeTraceProps": {},
       "_py2js_restyle": {},
       "_py2js_update": {},
       "_view_count": 0
      }
     },
     "9af81bfe6ec3432f86f210cfe833dfdd": {
      "model_module": "@jupyter-widgets/output",
      "model_module_version": "1.0.0",
      "model_name": "OutputModel",
      "state": {
       "layout": "IPY_MODEL_628d97c61d7f43728348123a4c1f8f8b",
       "outputs": [
        {
         "data": {
          "application/vnd.jupyter.widget-view+json": {
           "model_id": "18a3bad3c9194258944311b66c7cce90",
           "version_major": 2,
           "version_minor": 0
          },
          "text/plain": "FigureWidget({\n    'data': [{'type': 'scatter',\n              'uid': '3b114ea4-2f1d-4027-8202-2d2f72826fa6',\n …"
         },
         "metadata": {},
         "output_type": "display_data"
        }
       ]
      }
     },
     "9be626451bdf45cf94e4737927a9ff47": {
      "model_module": "@jupyter-widgets/base",
      "model_module_version": "1.1.0",
      "model_name": "LayoutModel",
      "state": {}
     },
     "9cc69f58e3354deea3fe1ba89b6beb18": {
      "buffers": [
       {
        "data": "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",
        "encoding": "base64",
        "path": [
         "_data",
         0,
         "x",
         "value"
        ]
       },
       {
        "data": "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",
        "encoding": "base64",
        "path": [
         "_data",
         0,
         "y",
         "value"
        ]
       }
      ],
      "model_module": "plotlywidget",
      "model_module_version": "^0.5.1",
      "model_name": "FigureModel",
      "state": {
       "_data": [
        {
         "type": "scatter",
         "uid": "8fe13c9b-2f14-4a75-9bb5-d6f66df3a87b",
         "x": {
          "dtype": "float64",
          "shape": [
           198
          ]
         },
         "y": {
          "dtype": "float64",
          "shape": [
           198
          ]
         }
        }
       ],
       "_js2py_pointsCallback": {},
       "_js2py_relayout": {},
       "_js2py_restyle": {},
       "_js2py_update": {},
       "_layout": {
        "template": {},
        "title": "Beta function with a=2.50, b=2.40",
        "yaxis": {
         "range": [
          0,
          2
         ]
        }
       },
       "_py2js_addTraces": {},
       "_py2js_animate": {},
       "_py2js_deleteTraces": {},
       "_py2js_moveTraces": {},
       "_py2js_removeLayoutProps": {},
       "_py2js_removeTraceProps": {},
       "_py2js_restyle": {},
       "_py2js_update": {},
       "_view_count": 0
      }
     },
     "9e5823273dca4b28aaab4f0453f1168c": {
      "buffers": [
       {
        "data": "Z9Cy4zmVdD9n0LLjOZWEP5o4jNXW344/Z9Cy4zmVlD+BhJ9ciLqZP5o4jNXW354/WnY8p5ICoj9n0LLjOZWkP3QqKSDhJ6c/gYSfXIi6qT+O3hWZL02sP5o4jNXW364/VEkBCT+5sD9adjynkgKyP2Gjd0XmS7M/Z9Cy4zmVtD9t/e2Bjd61P3QqKSDhJ7c/eldkvjRxuD+BhJ9ciLq5P4ex2vrbA7s/jt4VmS9NvD+UC1E3g5a9P5o4jNXW374/0LLjOZUUwD9USQEJP7nAP9ffHtjoXcE/WnY8p5ICwj/dDFp2PKfCP2Gjd0XmS8M/5DmVFJDwwz9n0LLjOZXEP+pm0LLjOcU/bf3tgY3exT/xkwtRN4PGP3QqKSDhJ8c/98BG74rMxz96V2S+NHHIP/7tgY3eFck/gYSfXIi6yT8EG70rMl/KP4ex2vrbA8s/Ckj4yYWoyz+O3hWZL03MPxF1M2jZ8cw/lAtRN4OWzT8Xom4GLTvOP5o4jNXW384/Hs+ppICEzz/QsuM5lRTQPxJ+ciHqZtA/VEkBCT+50D+VFJDwkwvRP9ffHtjoXdE/Gautvz2w0T9adjynkgLSP5xBy47nVNI/3Qxadjyn0j8f2OhdkfnSP2Gjd0XmS9M/om4GLTue0z/kOZUUkPDTPyUFJPzkQtQ/Z9Cy4zmV1D+pm0HLjufUP+pm0LLjOdU/LDJfmjiM1T9t/e2Bjd7VP6/IfGniMNY/8ZMLUTeD1j8yX5o4jNXWP3QqKSDhJ9c/tfW3BzZ61z/3wEbviszXPzmM1dbfHtg/eldkvjRx2D+8IvOlicPYP/7tgY3eFdk/P7kQdTNo2T+BhJ9ciLrZP8JPLkTdDNo/BBu9KzJf2j9G5ksTh7HaP4ex2vrbA9s/yXxp4jBW2z8KSPjJhajbP0wTh7Ha+ts/jt4VmS9N3D/PqaSAhJ/cPxF1M2jZ8dw/UkDCTy5E3T+UC1E3g5bdP9bW3x7Y6N0/F6JuBi073j9Zbf3tgY3eP5o4jNXW394/3AMbvSsy3z8ez6mkgITfP1+aOIzV1t8/0LLjOZUU4D9xGKutvz3gPxJ+ciHqZuA/s+M5lRSQ4D9USQEJP7ngP/SuyHxp4uA/lRSQ8JML4T82eldkvjThP9ffHtjoXeE/eEXmSxOH4T8Zq62/PbDhP7kQdTNo2eE/WnY8p5IC4j/72wMbvSviP5xBy47nVOI/PaeSAhJ+4j/dDFp2PKfiP35yIepm0OI/H9joXZH54j/APbDRuyLjP2Gjd0XmS+M/AQk/uRB14z+ibgYtO57jP0PUzaBlx+M/5DmVFJDw4z+Fn1yIuhnkPyUFJPzkQuQ/xmrrbw9s5D9n0LLjOZXkPwg2eldkvuQ/qZtBy47n5D9JAQk/uRDlP+pm0LLjOeU/i8yXJg5j5T8sMl+aOIzlP82XJg5jteU/bf3tgY3e5T8OY7X1twfmP6/IfGniMOY/UC5E3Qxa5j/xkwtRN4PmP5H50sRhrOY/Ml+aOIzV5j/TxGGstv7mP3QqKSDhJ+c/FZDwkwtR5z+19bcHNnrnP1Zbf3tgo+c/98BG74rM5z+YJg5jtfXnPzmM1dbfHug/2vGcSgpI6D96V2S+NHHoPxu9KzJfmug/vCLzpYnD6D9diLoZtOzoP/7tgY3eFek/nlNJAQk/6T8/uRB1M2jpP+Ae2Ohdkek/gYSfXIi66T8i6mbQsuPpP8JPLkTdDOo/Y7X1twc26j8EG70rMl/qP6WAhJ9ciOo/RuZLE4ex6j/mSxOHsdrqP4ex2vrbA+s/KBeibgYt6z/JfGniMFbrP2riMFZbf+s/Ckj4yYWo6z+rrb89sNHrP0wTh7Ha+us/7XhOJQUk7D+O3hWZL03sPy5E3Qxaduw/z6mkgISf7D9wD2z0rsjsPxF1M2jZ8ew/str62wMb7T9SQMJPLkTtP/OlicNYbe0/lAtRN4OW7T81cRirrb/tP9bW3x7Y6O0/djynkgIS7j8Xom4GLTvuP7gHNnpXZO4/WW397YGN7j/60sRhrLbuP5o4jNXW3+4/O55TSQEJ7z/cAxu9KzLvP31p4jBWW+8/Hs+ppICE7z+/NHEYq63vP1+aOIzV1u8/",
        "encoding": "base64",
        "path": [
         "_data",
         0,
         "x",
         "value"
        ]
       },
       {
        "data": "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",
        "encoding": "base64",
        "path": [
         "_data",
         0,
         "y",
         "value"
        ]
       }
      ],
      "model_module": "plotlywidget",
      "model_module_version": "^0.5.1",
      "model_name": "FigureModel",
      "state": {
       "_data": [
        {
         "type": "scatter",
         "uid": "c1e281e0-d2c0-4b18-83cf-f5673b087825",
         "x": {
          "dtype": "float64",
          "shape": [
           198
          ]
         },
         "y": {
          "dtype": "float64",
          "shape": [
           198
          ]
         }
        }
       ],
       "_js2py_pointsCallback": {},
       "_js2py_relayout": {},
       "_js2py_restyle": {},
       "_js2py_update": {},
       "_layout": {
        "template": {},
        "title": "Beta function with a=2.90, b=1.50",
        "yaxis": {
         "range": [
          0,
          2
         ]
        }
       },
       "_py2js_addTraces": {},
       "_py2js_animate": {},
       "_py2js_deleteTraces": {},
       "_py2js_moveTraces": {},
       "_py2js_removeLayoutProps": {},
       "_py2js_removeTraceProps": {},
       "_py2js_restyle": {},
       "_py2js_update": {},
       "_view_count": 0
      }
     },
     "9f2d63a289344feaaafb07d0edd71872": {
      "buffers": [
       {
        "data": "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",
        "encoding": "base64",
        "path": [
         "_data",
         0,
         "x",
         "value"
        ]
       },
       {
        "data": "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",
        "encoding": "base64",
        "path": [
         "_data",
         0,
         "y",
         "value"
        ]
       }
      ],
      "model_module": "plotlywidget",
      "model_module_version": "^0.5.1",
      "model_name": "FigureModel",
      "state": {
       "_data": [
        {
         "type": "scatter",
         "uid": "f48b6f1e-7a62-478a-9535-34030f6cd92f",
         "x": {
          "dtype": "float64",
          "shape": [
           198
          ]
         },
         "y": {
          "dtype": "float64",
          "shape": [
           198
          ]
         }
        }
       ],
       "_js2py_pointsCallback": {},
       "_js2py_relayout": {},
       "_js2py_restyle": {},
       "_js2py_update": {},
       "_layout": {
        "template": {},
        "title": "Beta function with a=2.50, b=2.90",
        "yaxis": {
         "range": [
          0,
          2
         ]
        }
       },
       "_py2js_addTraces": {},
       "_py2js_animate": {},
       "_py2js_deleteTraces": {},
       "_py2js_moveTraces": {},
       "_py2js_removeLayoutProps": {},
       "_py2js_removeTraceProps": {},
       "_py2js_restyle": {},
       "_py2js_update": {},
       "_view_count": 0
      }
     },
     "9fbc8fc719c0479da009d531f09417c5": {
      "model_module": "@jupyter-widgets/controls",
      "model_module_version": "1.4.0",
      "model_name": "FloatSliderModel",
      "state": {
       "description": "b",
       "layout": "IPY_MODEL_4a1f825491db4b6484ce480992df60e6",
       "max": 5,
       "min": 0.1,
       "step": 0.1,
       "style": "IPY_MODEL_7796d98054f0456ba03e989975c5ae01",
       "value": 1.5
      }
     },
     "a060807faffd404d9e4299cdbaa64077": {
      "buffers": [
       {
        "data": "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",
        "encoding": "base64",
        "path": [
         "_data",
         0,
         "x",
         "value"
        ]
       },
       {
        "data": "cXhtX8ZFdT83BiFMWdeNP1oT8M5IMJs//Stif1vCpD8Qjaa7McasP2Z6JTewwbI/dyZJE7xwtz/yc9rNfWa8PwP1M1NzzcA/TnDzro+Dwz+0OlV7nVLGP7hgNTgBOMk/XSqq9WcxzD+7GmbiuTzPP9hQcBsILNE/cLczvNbA0j+GHBi1+1vUP477Dx25/NU/ZDgeTV6i1z+rb2RHRkzZP7mkRGTW+do/LRynNn2q3D9ZrjKcsV3eP2iiefh4CeA/lprur+Hk4D8Dhoal2MDhP/7s22MmneI/6PtIFZZ54z/zsglR9VXkP40DP+4TMuU/vAP228MN5j9BKX392OjmP+tucAopw+c/Uif+cYuc6D/nZvpA2XTpP5BdZwrtS+o/4nUm0qIh6z/3MpH51/XrP5wGwi1ryOw/xBJdVzyZ7T/GRK+LLGjuP6aw//4dNe8/rbPz9/P/7z9LK/VhSWTwP6BiG9Zvx/A/FUoSdmAp8T+LhNnTDorxP1pge/Fu6fE/EnQJPXVH8j+Vb96MFqTyP6JAHxxI//I/30d2h/9Y8z9g5gPKMrHzP2MlgDrYB/Q/6aWJiOZc9D+fZB66VLD0P5AzOykaAvU/YhWfgS5S9T8n6a++iaD1P10Rfikk7fU/wfXkVvY39j/xb8Yl+YD2PyhdX70lyPY/j7azi3UN9z9DtBBE4lD3P2Geo91lkvc/nQwkkvrR9z/XbZDcmg/4P1nJ+3dBS/g/Q8BrXumE+D9H6cXHjbz4P72yyygq8vg/1AYkMrol+T8r/XHPOVf5Pyvydyalhvk/NWlGlviz+T+EKna2MN/5P4sXbVZKCPo/VjutfEIv+j+upC1mFlT6P5SgvIXDdvo/q/Nqg0eX+j+Xt/87oLX6PziJdMDL0fo/BLp5Vcjr+j8UPQJzlAP7PzsO18MuGfs/A9YxJZYs+z8fk16myT37P9MVZIjITPs/ph6zPZJZ+z+69dtpJmT7P+NTSuGEbPs/unoHqa1y+z9XXIL2oHb7P6i2XS9fePs/PQpE6eh3+z/9VsHpPnX7P+OMIiZicPs/qaFaw1Np+z9lP+0VFWD7PzgD36GnVPs/zkWrGg1H+z+Yaj9jRzf7P4+1+41YJfs//am53EIR+z8L+NfACPv6P3gBTNus4vo/DQG5/DHI+j9q44wlm6v6P8LiIobrjPo/kvrrfiZs+j9/S52gT0n6P/mKZKxqJPo/9J0ilHv9+T+hgax6htT5P+eoErSPqfk/xPnuxZt8+T+rmblnr035P6O8JIPPHPk/ALB/NAHq+D8vXiHLSbX4PxaP2smufvg/xy1w5zVG+D8I4x0P5Qv4P4JaIWHCz/c/xI9OM9SR9z8MiK0RIVL3P+nlIb+vEPc/Ic0cNofN9j/Rllmproj2P0rgpYQtQvY/J4u1bQv69T/pUANFULD1P+eaviYEZfU/xF3Hay8Y9T8ryLiq2sn0P9WmA7kOevQ/GnMZrNQo9D97F6naNdbzP1aN7t07gvM/kpEWk/As8z9Gy7ccXtbyP/DfYuSOfvI/AhVLnI0l8j+pRglBZcvxP5coexshcPE/D/jAwswT8T8o/lsedLbwP9iAcGgjWPA/rBBcYM7x7z/2XMK4mDHvP1gRZVzAb+4/oUctiGCs7T+4/eY5lefsPwbsADd7Iew/JVPMEzBa6z/4NEk70pHqP0sBjfeAyOk/nY/Telz+6D+IXEzphTPoP+50uGMfaOc/H1fwEkyc5j+Pbmw0MNDlPxHD7ifxA+U//iJxfrU35D8Vn4AKpWvjPwHTNfLon+I/2W4Bw6vU4T81Fo6HGQrhPwdbBOBfQOA/XsoXOlzv3j9X3Oy7amDdPywLLmVR1Ns/gJzGgnpL2j+OYz3lVMbYP6tB9kJURdc/2dGlqPHI1T/kbc/6q1HUP94R5IsI4NI//HGVy5N00T9n9UQV4g/QP3EBj0ohZc0/rvx6fo26yj9Gn6MmbiHIP9w+uupCm8U/mzsgAaopwz8KQcmbZc7APzFIHdfFFr0/SyHKy4bFuD9g3Z+50q20P6+QM1UT1bA/TpEeChaDqj/Qi1ePSPWjP/nM0mzRJZw/i7Lby53mkT/9ekfIZNuCP9WOAbdYEmk/",
        "encoding": "base64",
        "path": [
         "_data",
         0,
         "y",
         "value"
        ]
       }
      ],
      "model_module": "plotlywidget",
      "model_module_version": "^0.5.1",
      "model_name": "FigureModel",
      "state": {
       "_data": [
        {
         "type": "scatter",
         "uid": "043eb55d-0390-4597-9f9a-51dfe2fab8a9",
         "x": {
          "dtype": "float64",
          "shape": [
           198
          ]
         },
         "y": {
          "dtype": "float64",
          "shape": [
           198
          ]
         }
        }
       ],
       "_js2py_pointsCallback": {},
       "_js2py_relayout": {},
       "_js2py_restyle": {},
       "_js2py_update": {},
       "_layout": {
        "template": {},
        "title": "Beta function with a=2.50, b=2.60",
        "yaxis": {
         "range": [
          0,
          2
         ]
        }
       },
       "_py2js_addTraces": {},
       "_py2js_animate": {},
       "_py2js_deleteTraces": {},
       "_py2js_moveTraces": {},
       "_py2js_removeLayoutProps": {},
       "_py2js_removeTraceProps": {},
       "_py2js_restyle": {},
       "_py2js_update": {},
       "_view_count": 0
      }
     },
     "a424797b77d248d98543e8017d790cd4": {
      "buffers": [
       {
        "data": "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",
        "encoding": "base64",
        "path": [
         "_data",
         0,
         "x",
         "value"
        ]
       },
       {
        "data": "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",
        "encoding": "base64",
        "path": [
         "_data",
         0,
         "y",
         "value"
        ]
       }
      ],
      "model_module": "plotlywidget",
      "model_module_version": "^0.5.1",
      "model_name": "FigureModel",
      "state": {
       "_data": [
        {
         "type": "scatter",
         "uid": "8e36396d-2897-4092-8e92-14eab43b2e09",
         "x": {
          "dtype": "float64",
          "shape": [
           198
          ]
         },
         "y": {
          "dtype": "float64",
          "shape": [
           198
          ]
         }
        }
       ],
       "_js2py_pointsCallback": {},
       "_js2py_relayout": {},
       "_js2py_restyle": {},
       "_js2py_update": {},
       "_layout": {
        "template": {},
        "title": "Beta function with a=2.50, b=1.60",
        "yaxis": {
         "range": [
          0,
          2
         ]
        }
       },
       "_py2js_addTraces": {},
       "_py2js_animate": {},
       "_py2js_deleteTraces": {},
       "_py2js_moveTraces": {},
       "_py2js_removeLayoutProps": {},
       "_py2js_removeTraceProps": {},
       "_py2js_restyle": {},
       "_py2js_update": {},
       "_view_count": 0
      }
     },
     "a680532b0a1745a6b6537fbd3387ac77": {
      "buffers": [
       {
        "data": "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",
        "encoding": "base64",
        "path": [
         "_data",
         0,
         "x",
         "value"
        ]
       },
       {
        "data": "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",
        "encoding": "base64",
        "path": [
         "_data",
         0,
         "y",
         "value"
        ]
       }
      ],
      "model_module": "plotlywidget",
      "model_module_version": "^0.5.1",
      "model_name": "FigureModel",
      "state": {
       "_data": [
        {
         "type": "scatter",
         "uid": "18f3dfd4-5e9d-4587-9e09-c407e2a6199c",
         "x": {
          "dtype": "float64",
          "shape": [
           198
          ]
         },
         "y": {
          "dtype": "float64",
          "shape": [
           198
          ]
         }
        }
       ],
       "_js2py_pointsCallback": {},
       "_js2py_relayout": {},
       "_js2py_restyle": {},
       "_js2py_update": {},
       "_layout": {
        "template": {},
        "title": "Beta function with a=2.50, b=4.30",
        "yaxis": {
         "range": [
          0,
          2
         ]
        }
       },
       "_py2js_addTraces": {},
       "_py2js_animate": {},
       "_py2js_deleteTraces": {},
       "_py2js_moveTraces": {},
       "_py2js_removeLayoutProps": {},
       "_py2js_removeTraceProps": {},
       "_py2js_restyle": {},
       "_py2js_update": {},
       "_view_count": 0
      }
     },
     "a7f028f3c6714697b7de071c565d18bc": {
      "buffers": [
       {
        "data": "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",
        "encoding": "base64",
        "path": [
         "_data",
         0,
         "x",
         "value"
        ]
       },
       {
        "data": "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",
        "encoding": "base64",
        "path": [
         "_data",
         0,
         "y",
         "value"
        ]
       }
      ],
      "model_module": "plotlywidget",
      "model_module_version": "^0.5.1",
      "model_name": "FigureModel",
      "state": {
       "_data": [
        {
         "type": "scatter",
         "uid": "f4c6e07a-f016-483f-bf9d-49ec5c6eaf44",
         "x": {
          "dtype": "float64",
          "shape": [
           198
          ]
         },
         "y": {
          "dtype": "float64",
          "shape": [
           198
          ]
         }
        }
       ],
       "_js2py_pointsCallback": {},
       "_js2py_relayout": {},
       "_js2py_restyle": {},
       "_js2py_update": {},
       "_layout": {
        "template": {},
        "title": "Beta function with a=2.50, b=2.70",
        "yaxis": {
         "range": [
          0,
          2
         ]
        }
       },
       "_py2js_addTraces": {},
       "_py2js_animate": {},
       "_py2js_deleteTraces": {},
       "_py2js_moveTraces": {},
       "_py2js_removeLayoutProps": {},
       "_py2js_removeTraceProps": {},
       "_py2js_restyle": {},
       "_py2js_update": {},
       "_view_count": 0
      }
     },
     "aaefc20e71a24c878e1292a83b9ef720": {
      "buffers": [
       {
        "data": "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",
        "encoding": "base64",
        "path": [
         "_data",
         0,
         "x",
         "value"
        ]
       },
       {
        "data": "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",
        "encoding": "base64",
        "path": [
         "_data",
         0,
         "y",
         "value"
        ]
       }
      ],
      "model_module": "plotlywidget",
      "model_module_version": "^0.5.1",
      "model_name": "FigureModel",
      "state": {
       "_data": [
        {
         "type": "scatter",
         "uid": "ae15f588-be5a-4689-a57f-1338950cbb32",
         "x": {
          "dtype": "float64",
          "shape": [
           198
          ]
         },
         "y": {
          "dtype": "float64",
          "shape": [
           198
          ]
         }
        }
       ],
       "_js2py_pointsCallback": {},
       "_js2py_relayout": {},
       "_js2py_restyle": {},
       "_js2py_update": {},
       "_layout": {
        "template": {},
        "title": "Beta function with a=2.50, b=3.10",
        "yaxis": {
         "range": [
          0,
          2
         ]
        }
       },
       "_py2js_addTraces": {},
       "_py2js_animate": {},
       "_py2js_deleteTraces": {},
       "_py2js_moveTraces": {},
       "_py2js_removeLayoutProps": {},
       "_py2js_removeTraceProps": {},
       "_py2js_restyle": {},
       "_py2js_update": {},
       "_view_count": 0
      }
     },
     "b0def3eb33eb4e0caa019027758055ea": {
      "buffers": [
       {
        "data": "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",
        "encoding": "base64",
        "path": [
         "_data",
         0,
         "x",
         "value"
        ]
       },
       {
        "data": "vAZAOUbKZz+91uKZ2E9/P6mAlLJ7jIs/1zWElJKNlD8GLgTvigScP71cR0woCaI/e/MXfGtSpj+jauVSHNeqP+grbgepka8/PIU1Cbw+sj9O1nclU8u0PyBTsIvtbLc/NOkFAxUiuj/dbIV6fum8Pzw5BfYBwr8/V8RnOEpVwT+pXuKRIdHCP64ByuYXVMQ/muou3cbdxT+V6vutz23HPxHBoyjaA8k/Er8Y4pOfyj/uIfOFr0DMP0y95kLk5s0/NPdFTe2Rzz/avb+5xKDQP3vtsmC9etE/qD/dF8NW0j/GofuuuTTTP4EKWyqGFNQ/MgWypw721D8tVBVGOtnVP8pUlRDxvdY/Fj0l6xuk1z8W8HyBpIvYPxnUsjd1dNk/vHFVHHle2j/EIdXbm0nbP3cWFbXJNdw/geEAb+8i3T/3dQhP+hDePzW7aBDY/94/cTYq3Hbv3z8kHeGg4m/gP6bCIhhZ6OA/l6oOeBZh4T+c4ZiOEtrhP0fmvlBFU+I/GWAB2KbM4j+q+ghgL0bjPyJXckTXv+M/Una9/pY55D+XX10kZ7PkP00e5WRALeU/rHpPiBun5T8XFV9t8SDmPyLFFAi7muY/rVA6YHEU5z+Hvf+PDY7nP96nqcKIB+g/3ytPM9yA6D/hEKYrAfroP4EA3ALxcuk/+a17HKXr6T8M6FznFmTqP5+kntw/3Oo//CaqfhlU6z/GcT5YncvrP7dEg/vEQuw/i/IiAYq57D/lZ2oH5i/tP83FbrHSpe0/DPw3pkkb7j8F2O+PRJDuP9gDFRu9BO8/f3ix9ax47z9T65PODezvPyjiRapsL/A/rZfTmoRo8D89bzmPS6HwPxqLnVy+2fA/LNCm1tkR8T/NIR7PmknxP0uwjxX+gPE/7yrsdgC48T8Bpym9nu7xP5cN5K7VJPI/8uH8DqJa8j8zMjqcAJDyP/yD5BDuxPI/zY1jImf58j+9jdmAaC3zP8QMvdbuYPM/Td1wyPaT8z8CItrzfMbzP7so9O99+PM/g+NhTPYp9D/Xx/yQ4lr0PyXaYD0/i/Q/OKl1yAi79D9h+vOfO+r0P5Hk5yfUGPU/KRUvus5G9T+69fKlJ3T1Pz9mHi/boPU/3rrOjeXM9T/Gp7/tQvj1P67AsW3vIvY/4SvLHudM9j/KIvIDJnb2P2HTIBGonvY/wi6yKmnG9j85KackZe32P+Hn48GXE/c/R05ks/w49z+rVGeXj133P2CEkPhLgfc/aOv+TC2k9z+xy1j1Lsb3P2I7yztM5/c/Gdz8UoAH+D98vfJUxib4P21s5kEZRfg/MhsM/3Ni+D8BuEdV0X74P8itz+8rmvg/LO+7Wn60+D/tzH8Bw834P6r2TC305fg/XN9dAwz9+D/wlCWDBBP5P1jsYoTXJ/k/ea8UtX47+T+BQUyX8035P/vt234vX/k/2M/djitv+T/37Q+34H35P0nRAbFHi/k/2nQP/ViX+T8a/yTfDKL5P3g1Rltbq/k/+QvUMTyz+T85EYrbprn5P9u/LIWSvvk/ne7gCvbB+T/+qyPzx8P5PxHEWGn+w/k/S/vkN4/C+T8qp8fBb7/5P7e3pfuUuvk/1HA2ZPOz+T+Z9f/7fqv5P9xVTzwrofk/sPVUDeuU+T/61Uq7sIb5P5Zkhuptdvk/De1SihNk+T+DZmzGkU/5P80E7PbXOPk/VGxwjtQf+T9VcUIGdQT5P0OPLMil5vg/sF2uFVLG+D+7sSXsY6P4P+0tdOXDffg/PemQFFlV+D9afVndCCr4P1PN0sa2+/c/Kl7eRkTK9z/8vzKGkJX3P3wWIRt4Xfc/Qf1audQh9z86AH3UfOL2P4G1kjJDn/Y/tzMPa/ZX9j9jw79NYAz2P6l0+StFvPU/u2WN/GJn9T/oYb1QcA31PyKJNw0brvQ/3ySm1QZJ9D9GgAQTy93zP964tXPwa/M/nnXGtu3y8j99c0h/I3LyP97hEc3W6PE/oK3khSlW8T8GfJYnELnwP7aRuS9DEPA/S8zXmVO07j/x4qE+cyntP7sqknaHeus/jl/mEz+g6T/EJNLsJJDnPxigrAdKOuU/2GcOMQ6E4j9yIKrX0nPeP0Y5aMexr9U/",
        "encoding": "base64",
        "path": [
         "_data",
         0,
         "y",
         "value"
        ]
       }
      ],
      "model_module": "plotlywidget",
      "model_module_version": "^0.5.1",
      "model_name": "FigureModel",
      "state": {
       "_data": [
        {
         "type": "scatter",
         "uid": "abe42872-f646-489c-a6db-335a54940494",
         "x": {
          "dtype": "float64",
          "shape": [
           198
          ]
         },
         "y": {
          "dtype": "float64",
          "shape": [
           198
          ]
         }
        }
       ],
       "_js2py_pointsCallback": {},
       "_js2py_relayout": {},
       "_js2py_restyle": {},
       "_js2py_update": {},
       "_layout": {
        "template": {},
        "title": "Beta function with a=2.40, b=1.50",
        "yaxis": {
         "range": [
          0,
          2
         ]
        }
       },
       "_py2js_addTraces": {},
       "_py2js_animate": {},
       "_py2js_deleteTraces": {},
       "_py2js_moveTraces": {},
       "_py2js_removeLayoutProps": {},
       "_py2js_removeTraceProps": {},
       "_py2js_restyle": {},
       "_py2js_update": {},
       "_view_count": 0
      }
     },
     "b618dc2bde914c379caeade7afcddde5": {
      "buffers": [
       {
        "data": "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",
        "encoding": "base64",
        "path": [
         "_data",
         0,
         "x",
         "value"
        ]
       },
       {
        "data": "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",
        "encoding": "base64",
        "path": [
         "_data",
         0,
         "y",
         "value"
        ]
       }
      ],
      "model_module": "plotlywidget",
      "model_module_version": "^0.5.1",
      "model_name": "FigureModel",
      "state": {
       "_data": [
        {
         "type": "scatter",
         "uid": "be69f831-c628-4d9c-a3ce-3f3d02693cda",
         "x": {
          "dtype": "float64",
          "shape": [
           198
          ]
         },
         "y": {
          "dtype": "float64",
          "shape": [
           198
          ]
         }
        }
       ],
       "_js2py_pointsCallback": {},
       "_js2py_relayout": {},
       "_js2py_restyle": {},
       "_js2py_update": {},
       "_layout": {
        "template": {},
        "title": "Beta function with a=2.50, b=3.70",
        "yaxis": {
         "range": [
          0,
          2
         ]
        }
       },
       "_py2js_addTraces": {},
       "_py2js_animate": {},
       "_py2js_deleteTraces": {},
       "_py2js_moveTraces": {},
       "_py2js_removeLayoutProps": {},
       "_py2js_removeTraceProps": {},
       "_py2js_restyle": {},
       "_py2js_update": {},
       "_view_count": 0
      }
     },
     "c50450300b59467fa9c17eaf54d49915": {
      "buffers": [
       {
        "data": "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",
        "encoding": "base64",
        "path": [
         "_data",
         0,
         "x",
         "value"
        ]
       },
       {
        "data": "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",
        "encoding": "base64",
        "path": [
         "_data",
         0,
         "y",
         "value"
        ]
       }
      ],
      "model_module": "plotlywidget",
      "model_module_version": "^0.5.1",
      "model_name": "FigureModel",
      "state": {
       "_data": [
        {
         "type": "scatter",
         "uid": "f3087812-ec7e-4ed9-af5d-6a45a3ebb399",
         "x": {
          "dtype": "float64",
          "shape": [
           198
          ]
         },
         "y": {
          "dtype": "float64",
          "shape": [
           198
          ]
         }
        }
       ],
       "_js2py_pointsCallback": {},
       "_js2py_relayout": {},
       "_js2py_restyle": {},
       "_js2py_update": {},
       "_layout": {
        "template": {},
        "title": "Beta function with a=2.50, b=3.40",
        "yaxis": {
         "range": [
          0,
          2
         ]
        }
       },
       "_py2js_addTraces": {},
       "_py2js_animate": {},
       "_py2js_deleteTraces": {},
       "_py2js_moveTraces": {},
       "_py2js_removeLayoutProps": {},
       "_py2js_removeTraceProps": {},
       "_py2js_restyle": {},
       "_py2js_update": {},
       "_view_count": 0
      }
     },
     "cae70e039ffb4be08aa18a6c637462c1": {
      "buffers": [
       {
        "data": "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",
        "encoding": "base64",
        "path": [
         "_data",
         0,
         "x",
         "value"
        ]
       },
       {
        "data": "yN1fY9lnaT/nh7JisN+BP8vhQRm0VZA/O4E7Vk4FmT9r8ur942ShP6DC8dtNv6Y/WEy5HS6ErD8otYjyU1SxP90SR47mkbQ/Brf+JQn3tz/vV5J3eoC7P9r/j35fK78/HsQJGZd6wT9meeIHz23DP0EI5EZObsU/9A6qISJ7xz8fWw0Ba5PJP/QQ0a1Ztss/RH9sGy3jzT9GB0FNmAzQP2a5yi3dK9E/TYthGBVP0j865MhA9HXTP3L5iLMyoNQ/ZItf9IvN1T+mQiGqvv3WP5q0ulWMMNg/Awh5Erll2T9C8B5eC53aP76ZkudL1ts/TGcpY0UR3T9B1MJjxE3eP6g3BziXi98/E8qd5UZl4D/KT5nEPAXhP+bzeqKWpeE/d6rokD5G4j/u+Ds/H+fiPz+yAfEjiOM/FSBMdTgp5D+lWcAeScrkP6OfSrxCa+U/1DFokhIM5j88S/dUpqzmP+bWfyHsTOc/YQ7pedLs5z9DmJE/SIzoP9fwwK48K+k/rvFpWp/J6T9fNDcoYGfqPzfW2kxvBOs/6dKbSL2g6z+YxhvkOjzsPxFvUC3Z1uw/orusdIlw7T8tpHVKPQnuP91dP3zmoO4/G9aPEnc37z+QpqNO4czvPx57KdSLMPA/RPsJZgZ68D+/b4zM2cLwP6a+w4//CvE/zEVkT3FS8T+FoPbBKJnxP8/HFLQf3/E/ut6wB1Ak8j+/CmWzs2jyP4jEy8FErPI/BBngUP3u8j8dXWWR1zDzPxDgVcbNcfM/rDBYRNqx8z8dkjpx9/DzP7FDdMMfL/Q/6UWswU1s9D8fTUUCfKj0P2mX7iql4/Q/0GA58MMd9T9OtTIV01b1P3dkAWvNjvU/wt6H0K3F9T++xwkyb/v1P1gM1YgMMPY//k7u2oBj9j+YfsA6x5X2P/dvz8baxvY/nVNtqbb29j9u5HIYViX3P5Mt+lS0Uvc/Fcgbq8x+9z+dcq5xmqn3PyTnCAoZ0/c/cNTF30P79z9X4oloFiL4P06pyyOMR/g/J4edmqBr+D/0O3lfT474PzU7DQ6Ur/g/o54LS2rP+D+0qPrDze34PwzGBi+6Cvk/9P3VSism+T+OwlzeHED5P4kStLiKWPk/mN7wsHBv+T/BpfylyoT5PyQ8b36UmPk/lrBpKMqq+T/URXKZZ7v5P7B0Uc5oyvk/Oe3vysnX+T8TjTWahuP5P+1B6U2b7fk/Q8+R/gP2+T8kb1fLvPz5P+RF5tnBAfo/NqFRVg8F+j9m+/dyoQb6P667Z2h0Bvo/Ba1EdYQE+j8nJS7ezQD6P5PVpe1M+/k/0UD38/3z+T9azh9H3er5P9h3t0Ln3/k/hgraRxjT+T/z9xC9bMT5P0GxPQ7hs/k/goiErHGh+T/aEzgOG435PxkOxa7Zdvk/FbGeDqpe+T+ahSuziET5P4qlsiZyKPk/f2xJ+GIK+T96k8G7V+r4P4i0lwlNyPg/AzPifj+k+D+PhUC9K374P8feymoOVvg/5zECMuQr+D+zkMDBqf/3P/rfKc1b0fc/M+CcC/eg9z/bh6Q4eG73Pxit6RPcOfc/mfwkYR8D9z9GOxHoPsr2P9nQXXQ3j/Y/Qpmh1QVS9j/w+k3fphL2PwpAomgX0fU/3TCfTFSN9T+j7fppWkf1PwYGFaMm//Q/r8zq3bW09D9D5QsEBWj0P2ILjwIRGfQ//hAHytbH8z/EEnhOU3TzPxzhTIeDHvM/aZxMb2TG8j9Kg5AE82vyP4HxeUgsD/I/XI6oPw2w8T9nqfDxkk7xPzbEUWq66vA/V0jttoCE8D8VaP3o4hvwP3NSmCm8Ye8/UzFVo96G7j/TS9BzJ6ftP1ZLlNWQwuw/mPQGCRXZ6z8Fw1hUrurqP6rMdANX9+k/zOzwZwn/6D8ANP7YvwHoP5ibWbN0/+Y/SPs8WSL45T9KP1Ayw+vkP47dmqtR2uM/x4h1N8jD4j+SH3xNIajhP6fWf2pXh+A/ZjnzIMrC3j/3bPmMiWzcP8IkUzHiC9o/OKNBMMmg1z+/DO21MyvVP0BLS/gWq9I/nFYHN2gg0D8SwdF2ORbLP5jBeLBT1sU/CAF30wmBwD/4iNdVjSy2P/Un0lHUV6Y/",
        "encoding": "base64",
        "path": [
         "_data",
         0,
         "y",
         "value"
        ]
       }
      ],
      "model_module": "plotlywidget",
      "model_module_version": "^0.5.1",
      "model_name": "FigureModel",
      "state": {
       "_data": [
        {
         "type": "scatter",
         "uid": "2081142d-8ac9-420c-9053-bd8892b9fe58",
         "x": {
          "dtype": "float64",
          "shape": [
           198
          ]
         },
         "y": {
          "dtype": "float64",
          "shape": [
           198
          ]
         }
        }
       ],
       "_js2py_pointsCallback": {},
       "_js2py_relayout": {},
       "_js2py_restyle": {},
       "_js2py_update": {},
       "_layout": {
        "template": {},
        "title": "Beta function with a=2.50, b=2.00",
        "yaxis": {
         "range": [
          0,
          2
         ]
        }
       },
       "_py2js_addTraces": {},
       "_py2js_animate": {},
       "_py2js_deleteTraces": {},
       "_py2js_moveTraces": {},
       "_py2js_removeLayoutProps": {},
       "_py2js_removeTraceProps": {},
       "_py2js_restyle": {},
       "_py2js_update": {},
       "_view_count": 0
      }
     },
     "cb540306363b456b8bd6c979fc1c5ed3": {
      "buffers": [
       {
        "data": "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",
        "encoding": "base64",
        "path": [
         "_data",
         0,
         "x",
         "value"
        ]
       },
       {
        "data": "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",
        "encoding": "base64",
        "path": [
         "_data",
         0,
         "y",
         "value"
        ]
       }
      ],
      "model_module": "plotlywidget",
      "model_module_version": "^0.5.1",
      "model_name": "FigureModel",
      "state": {
       "_data": [
        {
         "type": "scatter",
         "uid": "9a0b88f9-be0d-4fdc-a755-e61a7a9efae0",
         "x": {
          "dtype": "float64",
          "shape": [
           198
          ]
         },
         "y": {
          "dtype": "float64",
          "shape": [
           198
          ]
         }
        }
       ],
       "_js2py_pointsCallback": {},
       "_js2py_relayout": {},
       "_js2py_restyle": {},
       "_js2py_update": {},
       "_layout": {
        "template": {},
        "title": "Beta function with a=2.50, b=2.40",
        "yaxis": {
         "range": [
          0,
          2
         ]
        }
       },
       "_py2js_addTraces": {},
       "_py2js_animate": {},
       "_py2js_deleteTraces": {},
       "_py2js_moveTraces": {},
       "_py2js_removeLayoutProps": {},
       "_py2js_removeTraceProps": {},
       "_py2js_restyle": {},
       "_py2js_update": {},
       "_view_count": 0
      }
     },
     "d361d7c081db472a8368b11f8fbb6d84": {
      "buffers": [
       {
        "data": "Z9Cy4zmVdD9n0LLjOZWEP5o4jNXW344/Z9Cy4zmVlD+BhJ9ciLqZP5o4jNXW354/WnY8p5ICoj9n0LLjOZWkP3QqKSDhJ6c/gYSfXIi6qT+O3hWZL02sP5o4jNXW364/VEkBCT+5sD9adjynkgKyP2Gjd0XmS7M/Z9Cy4zmVtD9t/e2Bjd61P3QqKSDhJ7c/eldkvjRxuD+BhJ9ciLq5P4ex2vrbA7s/jt4VmS9NvD+UC1E3g5a9P5o4jNXW374/0LLjOZUUwD9USQEJP7nAP9ffHtjoXcE/WnY8p5ICwj/dDFp2PKfCP2Gjd0XmS8M/5DmVFJDwwz9n0LLjOZXEP+pm0LLjOcU/bf3tgY3exT/xkwtRN4PGP3QqKSDhJ8c/98BG74rMxz96V2S+NHHIP/7tgY3eFck/gYSfXIi6yT8EG70rMl/KP4ex2vrbA8s/Ckj4yYWoyz+O3hWZL03MPxF1M2jZ8cw/lAtRN4OWzT8Xom4GLTvOP5o4jNXW384/Hs+ppICEzz/QsuM5lRTQPxJ+ciHqZtA/VEkBCT+50D+VFJDwkwvRP9ffHtjoXdE/Gautvz2w0T9adjynkgLSP5xBy47nVNI/3Qxadjyn0j8f2OhdkfnSP2Gjd0XmS9M/om4GLTue0z/kOZUUkPDTPyUFJPzkQtQ/Z9Cy4zmV1D+pm0HLjufUP+pm0LLjOdU/LDJfmjiM1T9t/e2Bjd7VP6/IfGniMNY/8ZMLUTeD1j8yX5o4jNXWP3QqKSDhJ9c/tfW3BzZ61z/3wEbviszXPzmM1dbfHtg/eldkvjRx2D+8IvOlicPYP/7tgY3eFdk/P7kQdTNo2T+BhJ9ciLrZP8JPLkTdDNo/BBu9KzJf2j9G5ksTh7HaP4ex2vrbA9s/yXxp4jBW2z8KSPjJhajbP0wTh7Ha+ts/jt4VmS9N3D/PqaSAhJ/cPxF1M2jZ8dw/UkDCTy5E3T+UC1E3g5bdP9bW3x7Y6N0/F6JuBi073j9Zbf3tgY3eP5o4jNXW394/3AMbvSsy3z8ez6mkgITfP1+aOIzV1t8/0LLjOZUU4D9xGKutvz3gPxJ+ciHqZuA/s+M5lRSQ4D9USQEJP7ngP/SuyHxp4uA/lRSQ8JML4T82eldkvjThP9ffHtjoXeE/eEXmSxOH4T8Zq62/PbDhP7kQdTNo2eE/WnY8p5IC4j/72wMbvSviP5xBy47nVOI/PaeSAhJ+4j/dDFp2PKfiP35yIepm0OI/H9joXZH54j/APbDRuyLjP2Gjd0XmS+M/AQk/uRB14z+ibgYtO57jP0PUzaBlx+M/5DmVFJDw4z+Fn1yIuhnkPyUFJPzkQuQ/xmrrbw9s5D9n0LLjOZXkPwg2eldkvuQ/qZtBy47n5D9JAQk/uRDlP+pm0LLjOeU/i8yXJg5j5T8sMl+aOIzlP82XJg5jteU/bf3tgY3e5T8OY7X1twfmP6/IfGniMOY/UC5E3Qxa5j/xkwtRN4PmP5H50sRhrOY/Ml+aOIzV5j/TxGGstv7mP3QqKSDhJ+c/FZDwkwtR5z+19bcHNnrnP1Zbf3tgo+c/98BG74rM5z+YJg5jtfXnPzmM1dbfHug/2vGcSgpI6D96V2S+NHHoPxu9KzJfmug/vCLzpYnD6D9diLoZtOzoP/7tgY3eFek/nlNJAQk/6T8/uRB1M2jpP+Ae2Ohdkek/gYSfXIi66T8i6mbQsuPpP8JPLkTdDOo/Y7X1twc26j8EG70rMl/qP6WAhJ9ciOo/RuZLE4ex6j/mSxOHsdrqP4ex2vrbA+s/KBeibgYt6z/JfGniMFbrP2riMFZbf+s/Ckj4yYWo6z+rrb89sNHrP0wTh7Ha+us/7XhOJQUk7D+O3hWZL03sPy5E3Qxaduw/z6mkgISf7D9wD2z0rsjsPxF1M2jZ8ew/str62wMb7T9SQMJPLkTtP/OlicNYbe0/lAtRN4OW7T81cRirrb/tP9bW3x7Y6O0/djynkgIS7j8Xom4GLTvuP7gHNnpXZO4/WW397YGN7j/60sRhrLbuP5o4jNXW3+4/O55TSQEJ7z/cAxu9KzLvP31p4jBWW+8/Hs+ppICE7z+/NHEYq63vP1+aOIzV1u8/",
        "encoding": "base64",
        "path": [
         "_data",
         0,
         "x",
         "value"
        ]
       },
       {
        "data": "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",
        "encoding": "base64",
        "path": [
         "_data",
         0,
         "y",
         "value"
        ]
       }
      ],
      "model_module": "plotlywidget",
      "model_module_version": "^0.5.1",
      "model_name": "FigureModel",
      "state": {
       "_data": [
        {
         "type": "scatter",
         "uid": "e07910f6-25fc-4a35-9259-5fb4aba198c0",
         "x": {
          "dtype": "float64",
          "shape": [
           198
          ]
         },
         "y": {
          "dtype": "float64",
          "shape": [
           198
          ]
         }
        }
       ],
       "_js2py_relayout": {},
       "_js2py_restyle": {},
       "_js2py_update": {},
       "_layout": {
        "template": {},
        "title": "Beta function with a=2.50, b=2.50",
        "yaxis": {
         "range": [
          0,
          2
         ]
        }
       },
       "_py2js_addTraces": {},
       "_py2js_animate": {},
       "_py2js_deleteTraces": {},
       "_py2js_moveTraces": {},
       "_py2js_removeLayoutProps": {},
       "_py2js_removeTraceProps": {},
       "_py2js_restyle": {},
       "_py2js_update": {},
       "_view_count": 0
      }
     },
     "de0d9923a06249b5a61b69c651c75c8a": {
      "buffers": [
       {
        "data": "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",
        "encoding": "base64",
        "path": [
         "_data",
         0,
         "x",
         "value"
        ]
       },
       {
        "data": "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",
        "encoding": "base64",
        "path": [
         "_data",
         0,
         "y",
         "value"
        ]
       }
      ],
      "model_module": "plotlywidget",
      "model_module_version": "^0.5.1",
      "model_name": "FigureModel",
      "state": {
       "_data": [
        {
         "type": "scatter",
         "uid": "489ac31f-0cf7-45c5-8583-a820abce3c00",
         "x": {
          "dtype": "float64",
          "shape": [
           198
          ]
         },
         "y": {
          "dtype": "float64",
          "shape": [
           198
          ]
         }
        }
       ],
       "_js2py_pointsCallback": {},
       "_js2py_relayout": {},
       "_js2py_restyle": {},
       "_js2py_update": {},
       "_layout": {
        "template": {},
        "title": "Beta function with a=2.50, b=4.20",
        "yaxis": {
         "range": [
          0,
          2
         ]
        }
       },
       "_py2js_addTraces": {},
       "_py2js_animate": {},
       "_py2js_deleteTraces": {},
       "_py2js_moveTraces": {},
       "_py2js_removeLayoutProps": {},
       "_py2js_removeTraceProps": {},
       "_py2js_restyle": {},
       "_py2js_update": {},
       "_view_count": 0
      }
     },
     "ded7e2d12a2444ec899da693517f63a7": {
      "buffers": [
       {
        "data": "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",
        "encoding": "base64",
        "path": [
         "_data",
         0,
         "x",
         "value"
        ]
       },
       {
        "data": "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",
        "encoding": "base64",
        "path": [
         "_data",
         0,
         "y",
         "value"
        ]
       }
      ],
      "model_module": "plotlywidget",
      "model_module_version": "^0.5.1",
      "model_name": "FigureModel",
      "state": {
       "_data": [
        {
         "type": "scatter",
         "uid": "3c4ac37e-34cf-47c5-8ec7-eb0bc3786ba1",
         "x": {
          "dtype": "float64",
          "shape": [
           198
          ]
         },
         "y": {
          "dtype": "float64",
          "shape": [
           198
          ]
         }
        }
       ],
       "_js2py_pointsCallback": {},
       "_js2py_relayout": {},
       "_js2py_restyle": {},
       "_js2py_update": {},
       "_layout": {
        "template": {},
        "title": "Beta function with a=1.80, b=1.50",
        "yaxis": {
         "range": [
          0,
          2
         ]
        }
       },
       "_py2js_addTraces": {},
       "_py2js_animate": {},
       "_py2js_deleteTraces": {},
       "_py2js_moveTraces": {},
       "_py2js_removeLayoutProps": {},
       "_py2js_removeTraceProps": {},
       "_py2js_restyle": {},
       "_py2js_update": {},
       "_view_count": 0
      }
     },
     "e4f6738761f64bd493295980bb8a7daf": {
      "model_module": "@jupyter-widgets/controls",
      "model_module_version": "1.4.0",
      "model_name": "SliderStyleModel",
      "state": {
       "description_width": ""
      }
     },
     "e89623ae452b47558375e28b0af5dee2": {
      "buffers": [
       {
        "data": "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",
        "encoding": "base64",
        "path": [
         "_data",
         0,
         "x",
         "value"
        ]
       },
       {
        "data": "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",
        "encoding": "base64",
        "path": [
         "_data",
         0,
         "y",
         "value"
        ]
       }
      ],
      "model_module": "plotlywidget",
      "model_module_version": "^0.5.1",
      "model_name": "FigureModel",
      "state": {
       "_data": [
        {
         "type": "scatter",
         "uid": "025ad58b-2f9a-41a9-8620-5d9279f7e7fa",
         "x": {
          "dtype": "float64",
          "shape": [
           198
          ]
         },
         "y": {
          "dtype": "float64",
          "shape": [
           198
          ]
         }
        }
       ],
       "_js2py_pointsCallback": {},
       "_js2py_relayout": {},
       "_js2py_restyle": {},
       "_js2py_update": {},
       "_layout": {
        "template": {},
        "title": "Beta function with a=2.50, b=4.20",
        "yaxis": {
         "range": [
          0,
          2
         ]
        }
       },
       "_py2js_addTraces": {},
       "_py2js_animate": {},
       "_py2js_deleteTraces": {},
       "_py2js_moveTraces": {},
       "_py2js_removeLayoutProps": {},
       "_py2js_removeTraceProps": {},
       "_py2js_restyle": {},
       "_py2js_update": {},
       "_view_count": 0
      }
     },
     "efa31aa20dcc43fcb7febd7d42f10778": {
      "buffers": [
       {
        "data": "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",
        "encoding": "base64",
        "path": [
         "_data",
         0,
         "x",
         "value"
        ]
       },
       {
        "data": "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",
        "encoding": "base64",
        "path": [
         "_data",
         0,
         "y",
         "value"
        ]
       }
      ],
      "model_module": "plotlywidget",
      "model_module_version": "^0.5.1",
      "model_name": "FigureModel",
      "state": {
       "_data": [
        {
         "type": "scatter",
         "uid": "9bfe797c-8efc-4927-b134-4551198945df",
         "x": {
          "dtype": "float64",
          "shape": [
           198
          ]
         },
         "y": {
          "dtype": "float64",
          "shape": [
           198
          ]
         }
        }
       ],
       "_js2py_pointsCallback": {},
       "_js2py_relayout": {},
       "_js2py_restyle": {},
       "_js2py_update": {},
       "_layout": {
        "template": {},
        "title": "Beta function with a=2.60, b=1.50",
        "yaxis": {
         "range": [
          0,
          2
         ]
        }
       },
       "_py2js_addTraces": {},
       "_py2js_animate": {},
       "_py2js_deleteTraces": {},
       "_py2js_moveTraces": {},
       "_py2js_removeLayoutProps": {},
       "_py2js_removeTraceProps": {},
       "_py2js_restyle": {},
       "_py2js_update": {},
       "_view_count": 0
      }
     },
     "f24954c0f49048a49fe6024001bc9893": {
      "buffers": [
       {
        "data": "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",
        "encoding": "base64",
        "path": [
         "_data",
         0,
         "x",
         "value"
        ]
       },
       {
        "data": "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",
        "encoding": "base64",
        "path": [
         "_data",
         0,
         "y",
         "value"
        ]
       }
      ],
      "model_module": "plotlywidget",
      "model_module_version": "^0.5.1",
      "model_name": "FigureModel",
      "state": {
       "_data": [
        {
         "type": "scatter",
         "uid": "b83eaa69-b1c2-43a8-8287-92cce45d10b0",
         "x": {
          "dtype": "float64",
          "shape": [
           198
          ]
         },
         "y": {
          "dtype": "float64",
          "shape": [
           198
          ]
         }
        }
       ],
       "_js2py_pointsCallback": {},
       "_js2py_relayout": {},
       "_js2py_restyle": {},
       "_js2py_update": {},
       "_layout": {
        "template": {},
        "title": "Beta function with a=3.20, b=1.50",
        "yaxis": {
         "range": [
          0,
          2
         ]
        }
       },
       "_py2js_addTraces": {},
       "_py2js_animate": {},
       "_py2js_deleteTraces": {},
       "_py2js_moveTraces": {},
       "_py2js_removeLayoutProps": {},
       "_py2js_removeTraceProps": {},
       "_py2js_restyle": {},
       "_py2js_update": {},
       "_view_count": 0
      }
     },
     "f2d26281e7624596b6e4d3859a5dcc9e": {
      "buffers": [
       {
        "data": "Z9Cy4zmVdD9n0LLjOZWEP5o4jNXW344/Z9Cy4zmVlD+BhJ9ciLqZP5o4jNXW354/WnY8p5ICoj9n0LLjOZWkP3QqKSDhJ6c/gYSfXIi6qT+O3hWZL02sP5o4jNXW364/VEkBCT+5sD9adjynkgKyP2Gjd0XmS7M/Z9Cy4zmVtD9t/e2Bjd61P3QqKSDhJ7c/eldkvjRxuD+BhJ9ciLq5P4ex2vrbA7s/jt4VmS9NvD+UC1E3g5a9P5o4jNXW374/0LLjOZUUwD9USQEJP7nAP9ffHtjoXcE/WnY8p5ICwj/dDFp2PKfCP2Gjd0XmS8M/5DmVFJDwwz9n0LLjOZXEP+pm0LLjOcU/bf3tgY3exT/xkwtRN4PGP3QqKSDhJ8c/98BG74rMxz96V2S+NHHIP/7tgY3eFck/gYSfXIi6yT8EG70rMl/KP4ex2vrbA8s/Ckj4yYWoyz+O3hWZL03MPxF1M2jZ8cw/lAtRN4OWzT8Xom4GLTvOP5o4jNXW384/Hs+ppICEzz/QsuM5lRTQPxJ+ciHqZtA/VEkBCT+50D+VFJDwkwvRP9ffHtjoXdE/Gautvz2w0T9adjynkgLSP5xBy47nVNI/3Qxadjyn0j8f2OhdkfnSP2Gjd0XmS9M/om4GLTue0z/kOZUUkPDTPyUFJPzkQtQ/Z9Cy4zmV1D+pm0HLjufUP+pm0LLjOdU/LDJfmjiM1T9t/e2Bjd7VP6/IfGniMNY/8ZMLUTeD1j8yX5o4jNXWP3QqKSDhJ9c/tfW3BzZ61z/3wEbviszXPzmM1dbfHtg/eldkvjRx2D+8IvOlicPYP/7tgY3eFdk/P7kQdTNo2T+BhJ9ciLrZP8JPLkTdDNo/BBu9KzJf2j9G5ksTh7HaP4ex2vrbA9s/yXxp4jBW2z8KSPjJhajbP0wTh7Ha+ts/jt4VmS9N3D/PqaSAhJ/cPxF1M2jZ8dw/UkDCTy5E3T+UC1E3g5bdP9bW3x7Y6N0/F6JuBi073j9Zbf3tgY3eP5o4jNXW394/3AMbvSsy3z8ez6mkgITfP1+aOIzV1t8/0LLjOZUU4D9xGKutvz3gPxJ+ciHqZuA/s+M5lRSQ4D9USQEJP7ngP/SuyHxp4uA/lRSQ8JML4T82eldkvjThP9ffHtjoXeE/eEXmSxOH4T8Zq62/PbDhP7kQdTNo2eE/WnY8p5IC4j/72wMbvSviP5xBy47nVOI/PaeSAhJ+4j/dDFp2PKfiP35yIepm0OI/H9joXZH54j/APbDRuyLjP2Gjd0XmS+M/AQk/uRB14z+ibgYtO57jP0PUzaBlx+M/5DmVFJDw4z+Fn1yIuhnkPyUFJPzkQuQ/xmrrbw9s5D9n0LLjOZXkPwg2eldkvuQ/qZtBy47n5D9JAQk/uRDlP+pm0LLjOeU/i8yXJg5j5T8sMl+aOIzlP82XJg5jteU/bf3tgY3e5T8OY7X1twfmP6/IfGniMOY/UC5E3Qxa5j/xkwtRN4PmP5H50sRhrOY/Ml+aOIzV5j/TxGGstv7mP3QqKSDhJ+c/FZDwkwtR5z+19bcHNnrnP1Zbf3tgo+c/98BG74rM5z+YJg5jtfXnPzmM1dbfHug/2vGcSgpI6D96V2S+NHHoPxu9KzJfmug/vCLzpYnD6D9diLoZtOzoP/7tgY3eFek/nlNJAQk/6T8/uRB1M2jpP+Ae2Ohdkek/gYSfXIi66T8i6mbQsuPpP8JPLkTdDOo/Y7X1twc26j8EG70rMl/qP6WAhJ9ciOo/RuZLE4ex6j/mSxOHsdrqP4ex2vrbA+s/KBeibgYt6z/JfGniMFbrP2riMFZbf+s/Ckj4yYWo6z+rrb89sNHrP0wTh7Ha+us/7XhOJQUk7D+O3hWZL03sPy5E3Qxaduw/z6mkgISf7D9wD2z0rsjsPxF1M2jZ8ew/str62wMb7T9SQMJPLkTtP/OlicNYbe0/lAtRN4OW7T81cRirrb/tP9bW3x7Y6O0/djynkgIS7j8Xom4GLTvuP7gHNnpXZO4/WW397YGN7j/60sRhrLbuP5o4jNXW3+4/O55TSQEJ7z/cAxu9KzLvP31p4jBWW+8/Hs+ppICE7z+/NHEYq63vP1+aOIzV1u8/",
        "encoding": "base64",
        "path": [
         "_data",
         0,
         "x",
         "value"
        ]
       },
       {
        "data": "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",
        "encoding": "base64",
        "path": [
         "_data",
         0,
         "y",
         "value"
        ]
       }
      ],
      "model_module": "plotlywidget",
      "model_module_version": "^0.5.1",
      "model_name": "FigureModel",
      "state": {
       "_data": [
        {
         "type": "scatter",
         "uid": "327310d6-e599-4c5b-831c-16391916729d",
         "x": {
          "dtype": "float64",
          "shape": [
           198
          ]
         },
         "y": {
          "dtype": "float64",
          "shape": [
           198
          ]
         }
        }
       ],
       "_js2py_pointsCallback": {},
       "_js2py_relayout": {},
       "_js2py_restyle": {},
       "_js2py_update": {},
       "_layout": {
        "template": {},
        "title": "Beta function with a=2.50, b=4.00",
        "yaxis": {
         "range": [
          0,
          2
         ]
        }
       },
       "_py2js_addTraces": {},
       "_py2js_animate": {},
       "_py2js_deleteTraces": {},
       "_py2js_moveTraces": {},
       "_py2js_removeLayoutProps": {},
       "_py2js_removeTraceProps": {},
       "_py2js_restyle": {},
       "_py2js_update": {},
       "_view_count": 0
      }
     },
     "f75d77b5879f453e9008e2d51fb19a0b": {
      "buffers": [
       {
        "data": "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",
        "encoding": "base64",
        "path": [
         "_data",
         0,
         "x",
         "value"
        ]
       },
       {
        "data": "SxCnZSFPgT9jy/acAjKYP0Fn4rha96U/RGVmEju2sD9KWHX4uBS3PwPgcbdw+70/rCiiXqSqwj+8GiK3rYjGP0kznnPTkMo/DZDhfSG9zj/csuTDN4TRPxQX8Goat9M/b9kPeDT11T8XipRZtjzYPxaji4X8i9o/uB2u0Yjh3D+NPl03/TvfP5iU0tELzeA/L85bSFf94T9xz88cVy7jP9Ap9iKLX+Q/AjkC6nuQ5T9DGZDnucDmPwvNNcHc7+c/MhQPr4Id6T8lneLyT0nqPzuXaWDucus/ROP08wya7D/INTR1X77tPzAUTiSe3+4/DUbLb4X97z/AUQ3Z6ovwPxCT03opF/E/oGdSX2Kg8T8yy+3seifyP7Pt6RdarPI/EI3vTegu8z/ObEVjD6/zP0bpjYG6LPQ/nlXeF9an9D/KcwvMTyD1P/8WC20WlvU/0whP5hkJ9j91uQA0S3n2Py40CFic5vY/01fLTwBR9z/RgJQKa7j3P8e0kWDRHPg/aAJfCil++D/CNRCZaNz4PyE/r26HN/k/1sIlt32P+T8vPYlhROT5P2z+wRnVNfo/ywGGQiqE+j9vS6HvPs/6PysQhuAOF/s/224fe5Zb+z8F++HG0pz7P8XCFWjB2vs/StlVm2AV/D9yxUExr0z8Py6AXYqsgPw/ovQck1ix/D/vMRjAs978Pz23ZQq/CP0/XnYY7Hsv/T/eVt9c7FL9P3YuxM4Sc/0/zUkIK/KP/T8VwxzPjan9P8EEtYnpv/0/1vLxlwnT/T+LUKSi8uL9PyQQpbup7/0/81BCWzT5/T/V5L9dmP/9Pw5I6gDcAv4/9Ai74QUD/j8NrA36HAD+Pw4oZJ4o+v0/NiO6ezDx/T8NJ2aVPOX9PzAMCENV1v0/vOmDLoPE/T/U3QhSz6/9P64OI/ZCmP0/i0rYr+d9/T+Dts5ex2D9P9UBfSvsQP0/IptjhWAe/T++ak4hL/n8PwCbnvdi0fw/Af2bQgen/D8gnc18J3r8P+keWV/PSvw/2Hxo4AoZ/D+Vy5Ux5uT7P2KkXL5trvs/u92QKq51+z/ZO9pQtDr7PzHGNEGN/fo/zHB1P0a++j95y9LB7Hz6P0tqcW+OOfo/Hb3zHjn0+T+FDQ3V+qz5P8dbF8PhY/k/MNWrRfwY+T/knj3jWMz4P4mxtkoGfvg/oYIWUhMu+D9hORL1jtz3P9gstlOIifc/7GkIsQ419z96/6txMd/2P9jOhBoAiPY/CJ9bT4ov9j8LMILR39X1P1oLd34Qe/U/+c2ITiwf9T8Ep3hTQ8L0PyHFG7dlZPQ/G2v7uaMF9D/VYvOxDabzP7aDzgi0RfM/W//gOqfk8j95JaDV94LyP6ZMN3a2IPI/LIsZyPO98T+Z54+DwFrxPxKlQ2wt9/A/tkvET0uT8D9zCAkEKy/wP6r22cu6le8/iAtMr+bM7j9uSGt++wPuP1OxpgkbO+0/skegImdy7D83B+WYAarrP1XIlDYM4uo/UNH4vKga6j8nygfh+FPpP0iw1Ucejug/ik7ugjrJ5z/hoZgMbwXnP210AUTdQuY/TldLaaaB5T8i/YGZ68HkPyjObsrNA+Q/WGBMxm1H4z/8SVYn7IziP8CLMlNp1OE/5o4xdgUe4T+Aa2F+4GngP02z4Sw0cN8/Uqq7QKMR3j/HJtdfTLjcPwfttQltZNs/sUfACUIW2j/ml55qB87YP0AM9Gj4i9c/ebRrZU9Q1j8yYAfWRRvVPwGnnTYU7dM/uhVy+PHF0j/XtM9wFabRP/LbisazjdA/XeqWvAH6zj/+oPiKXujMP9GbbTfg5so/i4T39OX1yD9JngW2yxXHP21EwPPpRsU/yZJqcJWJwz+I7Sf0Ht7BPwT2UAPTRMA/JdCxGvN7vT9Onx0mq5O6P4v0g4VJ0bc/nTnzED41tT/86Psf7L+yP9+otmupcbA/yKr8jnmVrD+gO/pNuZaoP0pxcspa56Q/551FeH6HoT/eA3JYL+6cP7BI/mfNa5c/IDFmEeOGkj85TslV6nuMP8QWkQvTHYU/DWqWxZvbfT80LoizoshzPzfhRcnn3Wc/LJW87NvRWD8klsXPVK9DP58utj1qHCA/",
        "encoding": "base64",
        "path": [
         "_data",
         0,
         "y",
         "value"
        ]
       }
      ],
      "model_module": "plotlywidget",
      "model_module_version": "^0.5.1",
      "model_name": "FigureModel",
      "state": {
       "_data": [
        {
         "type": "scatter",
         "uid": "2dfa18b5-b58f-432c-9b33-e35b6a90cc2b",
         "x": {
          "dtype": "float64",
          "shape": [
           198
          ]
         },
         "y": {
          "dtype": "float64",
          "shape": [
           198
          ]
         }
        }
       ],
       "_js2py_pointsCallback": {},
       "_js2py_relayout": {},
       "_js2py_restyle": {},
       "_js2py_update": {},
       "_layout": {
        "template": {},
        "title": "Beta function with a=2.50, b=3.30",
        "yaxis": {
         "range": [
          0,
          2
         ]
        }
       },
       "_py2js_addTraces": {},
       "_py2js_animate": {},
       "_py2js_deleteTraces": {},
       "_py2js_moveTraces": {},
       "_py2js_removeLayoutProps": {},
       "_py2js_removeTraceProps": {},
       "_py2js_restyle": {},
       "_py2js_update": {},
       "_view_count": 0
      }
     },
     "f99a944a77654c3dbaabfdb103a7ddb3": {
      "buffers": [
       {
        "data": "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",
        "encoding": "base64",
        "path": [
         "_data",
         0,
         "x",
         "value"
        ]
       },
       {
        "data": "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",
        "encoding": "base64",
        "path": [
         "_data",
         0,
         "y",
         "value"
        ]
       }
      ],
      "model_module": "plotlywidget",
      "model_module_version": "^0.5.1",
      "model_name": "FigureModel",
      "state": {
       "_data": [
        {
         "type": "scatter",
         "uid": "591ad0d1-a133-4a9d-a4c9-6cabf9ac37d1",
         "x": {
          "dtype": "float64",
          "shape": [
           198
          ]
         },
         "y": {
          "dtype": "float64",
          "shape": [
           198
          ]
         }
        }
       ],
       "_js2py_pointsCallback": {},
       "_js2py_relayout": {},
       "_js2py_restyle": {},
       "_js2py_update": {},
       "_layout": {
        "template": {},
        "title": "Beta function with a=2.50, b=3.10",
        "yaxis": {
         "range": [
          0,
          2
         ]
        }
       },
       "_py2js_addTraces": {},
       "_py2js_animate": {},
       "_py2js_deleteTraces": {},
       "_py2js_moveTraces": {},
       "_py2js_removeLayoutProps": {},
       "_py2js_removeTraceProps": {},
       "_py2js_restyle": {},
       "_py2js_update": {},
       "_view_count": 0
      }
     },
     "febb1e38631f4c20a577895582817d2f": {
      "buffers": [
       {
        "data": "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",
        "encoding": "base64",
        "path": [
         "_data",
         0,
         "x",
         "value"
        ]
       },
       {
        "data": "MyUx+T6UiD+W38+FbyChP0LYIbG4AK8/APR/4rqDtz+mJTFeKTDAPyx8cTGb9sQ/cAPHnJQFyj+wjzsLkVDPP62m8JqYZtI/aGxE4FM51T9n+b/zrBzYPx+P2T5PDds/iRDV2UcI3j/CzUdGeoXgP53+AXp7CeI/Eip3RxWP4z/5dPFwThXlP7mFTJNDm+Y/GduEkiQg6D+ZHZB4MqPpP965Vq29I+s/kZowdSSh7D84PeKn0RruP0lPZpU7kO8/0kkdiHGA8D8XxlhLKTbxPzSrEcsO6fE/XW3v4e+Y8j8DaENEnkXzPzTWkT3v7vM/ZMTXdLuU9D+9qqG23jb1P1u5LcQ31fU/Pp70Jqhv9j+JWA0IFAb3PxjH9QpimPc/JQJbK3sm+D+b9YqdSrD4PxixRLG9Nfk/0O+mtsO2+T9C0ATlTTP6P03db0NPq/o/DJ/Mkrwe+z/mG0w5jI37P+4lKS+29/s/QySM7DNd/D86WHtYAL78P8R6wLgXGv0/Tg2vondx/T9K5rjsHsT9PyhowKANEv4/IX4Z70Rb/j/R8Ssix5/+P4j5qpKX3/4/MQVXnLoa/z/a0z+TNVH/P17FfbkOg/8/2ihaNU2w/z+AAt8H+dj/P3JoxwMb/f8/HBVlYl4OAEB2fpxT9BsAQHhu999UJwBA1WFE6oUwAEClGPKpjTcAQHqxb6dyPABArq+ruDs/AEDNJbD97z8AQNNeWt2WPgBANH8sAjg7AEDysTdX2zUAQA+QHQWJLgBAFYcnb0klAEAsGXMwJRoAQKDkMRklDQBAkuT4V6T8/z/Vtm02a9v/PzTMDI2xtv8/kouucIqO/z9rdONGCWP/P+alO8FBNP8/MVKq2EcC/z/b1APJL83+P5M2lQwOlf4/IfrTV/dZ/j9fHiWVABz+PzhRuuA+2/0/Z1yEhMeX/T9X4zn0r1H9P7+UcckNCf0/iP7Ov/a9/D9HPUGxgHD8PzjKUpLBIPw/YrSJbs/O+z8OmtdkwHr7P9q/GKSqJPs/xaqhZ6TM+j/zqNrzw3L6P3+86JIfF/o/X2Fjkc25+T9wrRY75Fr5P51P0dd5+vg/m/c9qKSY+D9DtcfiejX4P9LiiLAS0fc/gjFEKoJr9z9ydGdV3wT3PwnJFyFAnfY//79GY7o09j9cLdDVY8v1P9FIoBNSYfU/4crhlZr29D8GtjOxUov0P1p95pKPH/Q/Bj1APmaz8z+suseJ60bzPy7mlRw02vI/QJWta1Rt8j+9NVm3YADyP3s0jghtk/E/BthVLo0m8T+qTzu71LnwP+y4vgJXTfA/aryZLU7C7z/W5XaKr+ruP2ojkyr3E+4/VoVIikk+7T+Ln92OymnsP4tcnYGdlus/7oj1CuXE6j9gppstw/TpP6GVt0FZJuk//qYT8MdZ6D8uoFEtL4/nP59GJDWuxuY/C/yMhWMA5j8h+hzabDzlPzS5OSfneuQ/Xgtkle674z8+dIF8nv/iP6BCJ18RRuI/uO7m5WCP4T+BPJvapdvgP8KdtSP4KuA/8ZYWf9363j/xEkN/P6bdP4ED8YdAWNw/kT6o7AgR2z8GkgQLv9DZP16tO0GHl9g/ZiGb5INl1z+3Bf031TrWP/i+MWKZF9U/bEpdZOz70z9MWEYQ6OfSP/Bilf6j29E/ls8BhTXX0D+qA9ZYX7XPP9BEtk1GzM0/ulfiijzzyz/tOV/cWSrKP6DsWSOxccg/QM5FQVDJxj8ZhrECQDHFPxYLywmEqcM/n46KuBoywj9BNnsa/crAPwwgL5w96L4/PRBd29tavD/HoIjvpe25Pwc9wm1hoLc/Lql7UchytT9WC3nJiGSzP2mEMANFdbE/xVrS6CVJrz8SO8ZF+OOrPzngktP6uag/1GhJeQ3KpT9FkO7O9RKjP9hAOpdek6A/i1LSY66TnD+4PfIKpmmYP2+L0b1RpZQ/u4B/iyRDkT8Aft0Iq36MP/3LJ0u8K4c/XVCiNvGEgj/N7x9MdwJ9P5sabTwNLnY/xpTPsmJ4cD/CdsYeJphnP+sHjf4RJWA/KWNoxbfPVD/BEHOzqrhIP5bRhf8XFjo/ES7WhcLTJj9YALSmzGMMPzt3c/bRqN4+",
        "encoding": "base64",
        "path": [
         "_data",
         0,
         "y",
         "value"
        ]
       }
      ],
      "model_module": "plotlywidget",
      "model_module_version": "^0.5.1",
      "model_name": "FigureModel",
      "state": {
       "_data": [
        {
         "type": "scatter",
         "uid": "27a15574-0868-43e3-8692-b478c0b903c0",
         "x": {
          "dtype": "float64",
          "shape": [
           198
          ]
         },
         "y": {
          "dtype": "float64",
          "shape": [
           198
          ]
         }
        }
       ],
       "_js2py_pointsCallback": {},
       "_js2py_relayout": {},
       "_js2py_restyle": {},
       "_js2py_update": {},
       "_layout": {
        "template": {},
        "title": "Beta function with a=2.50, b=3.90",
        "yaxis": {
         "range": [
          0,
          2
         ]
        }
       },
       "_py2js_addTraces": {},
       "_py2js_animate": {},
       "_py2js_deleteTraces": {},
       "_py2js_moveTraces": {},
       "_py2js_removeLayoutProps": {},
       "_py2js_removeTraceProps": {},
       "_py2js_restyle": {},
       "_py2js_update": {},
       "_view_count": 0
      }
     }
    },
    "version_major": 2,
    "version_minor": 0
   }
  }
 },
 "nbformat": 4,
 "nbformat_minor": 2
}
