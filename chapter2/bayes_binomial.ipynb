{
 "cells": [
  {
   "cell_type": "markdown",
   "metadata": {},
   "source": [
    "# Bayesian Treatment of Density Estimation\n",
    "## the binomial distribution case\n",
    "\n",
    "The goal of density estimation is to find a probability distribution $p(x)$ given some data $D$. Under a Bayesian treatment we consider bayes theorem\n",
    "\n",
    "$$\n",
    "    p(x|\\mathcal D) = \\frac{p(x) p(\\mathcal D | x)}{p(\\mathcal D)}\n",
    "$$\n",
    "\n",
    "With assumed prior $p(x)$ and likelyhood function $p(\\mathcal D | x)$ (both chosen by the scientist performing the experiment).\n",
    "\n",
    "---\n",
    "\n",
    "\n",
    "The goal of this notebook is to understand density estimation as a *sequential* learning model, i.e., under a Bayeisan POV. For this, we consider the pmf of a binomial distribution given by:\n",
    "\n",
    "$$\n",
    "    p(m|N, \\mu) = {N\\choose m}\\mu^m(1 - \\mu)^{N - m} \n",
    "$$\n",
    "\n",
    "For a binomial distribution, the pmf is the likelyhood function.\n",
    "\n",
    "As a prior distribution of the parameter $\\mu$, we consider the _beta_ distribution, which is given by:\n",
    "$$\n",
    "    \\text{Beta}(\\mu|a,b) = \\frac{\\Gamma(a + b)}{\\Gamma(a) \\Gamma(b)} \\mu^{a-1}(1 - \\mu)^{b-1}\n",
    "$$"
   ]
  },
  {
   "cell_type": "code",
   "execution_count": 1,
   "metadata": {},
   "outputs": [],
   "source": [
    "import matplotlib.pyplot as plt\n",
    "import numpy as np\n",
    "from scipy.special import gamma"
   ]
  },
  {
   "cell_type": "code",
   "execution_count": 3,
   "metadata": {},
   "outputs": [],
   "source": [
    "def beta_pmf(mu, a, b): return gamma(a + b) / (gamma(a) * gamma(b)) * mu ** (a - 1) * (1 - mu) ** (b - 1)"
   ]
  }
 ],
 "metadata": {
  "kernelspec": {
   "display_name": "Python 3",
   "language": "python",
   "name": "python3"
  },
  "language_info": {
   "codemirror_mode": {
    "name": "ipython",
    "version": 3
   },
   "file_extension": ".py",
   "mimetype": "text/x-python",
   "name": "python",
   "nbconvert_exporter": "python",
   "pygments_lexer": "ipython3",
   "version": "3.6.6"
  }
 },
 "nbformat": 4,
 "nbformat_minor": 2
}
