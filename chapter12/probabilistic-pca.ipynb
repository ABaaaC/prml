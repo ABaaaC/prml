{
 "cells": [
  {
   "cell_type": "markdown",
   "metadata": {},
   "source": [
    "# Probabilistic Principal Component Analysis (PPCA)"
   ]
  },
  {
   "cell_type": "code",
   "execution_count": 1,
   "metadata": {},
   "outputs": [],
   "source": [
    "import numpy as np\n",
    "import matplotlib.pyplot as plt\n",
    "from sklearn.datasets import load_iris"
   ]
  },
  {
   "cell_type": "markdown",
   "metadata": {},
   "source": [
    "* <span style=\"color:crimson\">PPCA correctly captures the variance of the data along the principal axes, and approximates the varianace in all remaining directions with a single average value $\\sigma^2$</span>\n",
    "\n",
    "* PPCA is principal component analysis as the Maximum Likelihood solution of a probabilistic latent variable model\n",
    "\n",
    "* In PPCA, we map from latent space to data space given by\n",
    "\n",
    "$$\n",
    "    {\\bf x}\\vert{\\bf z} = W{\\bf z} + {\\boldsymbol\\mu} + \\boldsymbol\\epsilon\n",
    "$$\n",
    "\n",
    "Where\n",
    "\n",
    "1. ${\\bf z}$ is a latent variable that models the <span style=\"color:crimson\">principal-component subspace</span>.\n",
    "2. ${\\bf x}$ is the observed variable \n",
    "3. $\\boldsymbol\\epsilon \\sim \\mathcal{N}\\left({\\bf 0}, \\sigma^2{\\bf I}\\right)$\n",
    "\n",
    "and we assume \n",
    "\n",
    "$$\n",
    "    p({\\bf z}) = \\mathcal{N}\\left(z\\vert{\\bf 0}, {\\bf I}\\right)\n",
    "$$\n",
    "\n",
    "$$\n",
    "    p({\\bf x} \\vert {\\bf z}) = \\mathcal{N}\\left({\\bf x} \\vert W{\\bf z} + {\\boldsymbol\\mu}, \\sigma^2{\\bf I}\\right)\n",
    "$$"
   ]
  },
  {
   "cell_type": "markdown",
   "metadata": {},
   "source": [
    "## Maximum Likelihood PCA\n",
    "\n",
    "For probabilistic PCA, the maximum likelihood parameters are given by\n",
    "\n",
    "$$\n",
    "    {\\boldsymbol\\mu}_{ML} = \\bar{\\bf x}\n",
    "$$\n",
    "\n",
    "$$\n",
    "    {\\bf W}_{ML} = {\\bf U}_M({\\bf L}_M - \\sigma^2{\\bf I})^{1/2}{\\bf R}\n",
    "$$\n",
    "\n",
    "$$\n",
    "    \\sigma^2_{ML} = \\frac{1}{D - M}\\sum_{m=M+1}^D\\lambda_m\n",
    "$$\n",
    "\n",
    "Where:\n",
    "*  ${\\bf U}_M$ is an $D \\times M$ matrix whose columns are given by the $M$ eigenvectors with corresponding largest $M$ eigenvalues\n",
    "* ${\\bf L}_M$ is a diagonal $M\\times M$ matrix of the corresponding eigenvectors\n",
    "* ${\\bf R}$ is an arbitrary $M\\times M$ matrix"
   ]
  }
 ],
 "metadata": {
  "kernelspec": {
   "display_name": "Python 3",
   "language": "python",
   "name": "python3"
  },
  "language_info": {
   "codemirror_mode": {
    "name": "ipython",
    "version": 3
   },
   "file_extension": ".py",
   "mimetype": "text/x-python",
   "name": "python",
   "nbconvert_exporter": "python",
   "pygments_lexer": "ipython3",
   "version": "3.7.6"
  }
 },
 "nbformat": 4,
 "nbformat_minor": 4
}
