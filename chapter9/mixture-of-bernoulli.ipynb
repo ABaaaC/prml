{
 "cells": [
  {
   "cell_type": "markdown",
   "metadata": {},
   "source": [
    "# Mixture of Bernoulli Distributions"
   ]
  },
  {
   "cell_type": "markdown",
   "metadata": {},
   "source": [
    "## Background\n",
    "\n",
    "**E-step**:  \n",
    "Compute the posterior probability distribution considering the _old_ parameters:\n",
    "\n",
    "$$\n",
    "    p(z_{\\hat k} = 1 | {\\bf x}) = \\frac{\\left[\\pi_{\\hat k}p({\\bf x}|\\mu_{\\hat k})\\right]^{z_{\\hat k}}}{\\sum_{k=1}^K \\pi_kp({\\bf x}|\\mu_k)}\n",
    "$$\n",
    "\n",
    "The expectation of $z_{\\hat k}$ is given by\n",
    "\n",
    "$$\n",
    "    \\mathbb{E}[z_k] = \\frac{\\pi_{\\hat k}p({\\bf x}|\\mu_{\\hat k})}{\\sum_{k=1}^K \\pi_kp({\\bf x}|\\mu_k)} =: \\gamma(z_k)\n",
    "$$\n",
    "\n",
    "**M-step**:  \n",
    "Maximize the expectation of the complete-data log-likelihood over the latent posterior distribution $Q$ with respect to the parameters $\\boldsymbol\\pi$, $\\boldsymbol \\mu$\n",
    "\n",
    "$$\n",
    "    Q = \\sum_{n=1}^N\\sum_{k=1}^K \\gamma(z_{nk})\\left[\\log \\pi_k + \\sum_{d=1}^D \\left[{\\bf x}_{n,d} \\log \\mu_{k,d} + (1 - {\\bf x}_{n,d}) \\log(1 - \\mu_{k,d})\\right] \\right]\n",
    "$$\n",
    "\n",
    "---\n",
    "\n",
    "**Note**: In maximizing $Q$ w.r.t. $\\mu$ and $\\pi$ we are ommiting the effect of the derivative over $\\gamma$ –which depends on $\\mu$ and $\\pi$– since $\\gamma$ considers only its _old_ values, which are given constants.\n",
    "\n",
    "---\n",
    "\n",
    "Maximizing $Q$ w.r.t. $\\pi$ and $\\mu$ we arrive at the equations:\n",
    "\n",
    "$$\n",
    "\\mu_k = \\bar{\\bf x}_k\n",
    "$$\n",
    "\n",
    "$$\n",
    "    \\pi_k = \\frac{N_k}{N}\n",
    "$$\n",
    "\n",
    "Where\n",
    "\n",
    "* $N_k = \\sum_{n=1}^N \\gamma(z_{nk})$\n",
    "* $\\bar{\\bf x}_k = \\frac{1}{N_k}\\sum{n=1}^N \\gamma(z_{nk})x_n$"
   ]
  },
  {
   "cell_type": "code",
   "execution_count": 27,
   "metadata": {},
   "outputs": [],
   "source": [
    "import numpy as np\n",
    "import matplotlib.pyplot as plt\n",
    "from numpy.random import seed, choice\n",
    "from tensorflow.keras.datasets import mnist"
   ]
  },
  {
   "cell_type": "markdown",
   "metadata": {},
   "source": [
    "## The Bernoulli Mixture Model on Digits\n",
    "\n",
    "In the following example, we use a bernoilli mixture to model handwritten digits."
   ]
  },
  {
   "cell_type": "code",
   "execution_count": 12,
   "metadata": {},
   "outputs": [],
   "source": [
    "(X_train, y_train), (X_test, y_test) = mnist.load_data()"
   ]
  },
  {
   "cell_type": "markdown",
   "metadata": {},
   "source": [
    "We fit a dataset of $N=600$ digits, compresing the digits `2`, `3`, and `4`, with a mixture of $K=3$ Bernoulli distributions by running 10 iterations of the EM algorithm."
   ]
  },
  {
   "cell_type": "code",
   "execution_count": 50,
   "metadata": {},
   "outputs": [],
   "source": [
    "target_ix = (y_train == 2) | (y_train == 3) | (y_train == 4)\n",
    "X, y = X_train[target_ix], y_train[target_ix]"
   ]
  },
  {
   "cell_type": "code",
   "execution_count": 49,
   "metadata": {},
   "outputs": [
    {
     "data": {
      "image/png": "[encoded data removed]",
      "text/plain": [
       "<Figure size 288x288 with 4 Axes>"
      ]
     },
     "metadata": {
      "needs_background": "light"
     },
     "output_type": "display_data"
    }
   ],
   "source": [
    "seed(314)\n",
    "show_ix = choice(np.arange(len(y)), size=4, replace=False)\n",
    "fig, ax = plt.subplots(2, 2, figsize=(4,4))\n",
    "ax = ax.ravel()\n",
    "\n",
    "for axi, ix in zip(ax, show_ix):\n",
    "    axi.imshow(X[ix], cmap=\"bone\")\n",
    "    axi.set_title(y[ix])\n",
    "    axi.axis(\"off\")"
   ]
  },
  {
   "cell_type": "code",
   "execution_count": null,
   "metadata": {},
   "outputs": [],
   "source": []
  }
 ],
 "metadata": {
  "kernelspec": {
   "display_name": "Python 3",
   "language": "python",
   "name": "python3"
  },
  "language_info": {
   "codemirror_mode": {
    "name": "ipython",
    "version": 3
   },
   "file_extension": ".py",
   "mimetype": "text/x-python",
   "name": "python",
   "nbconvert_exporter": "python",
   "pygments_lexer": "ipython3",
   "version": "3.7.6"
  }
 },
 "nbformat": 4,
 "nbformat_minor": 4
}
