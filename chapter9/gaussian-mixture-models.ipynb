{
 "cells": [
  {
   "cell_type": "markdown",
   "metadata": {},
   "source": [
    "# Gaussian Mixture Models\n",
    "\n",
    "$$\n",
    "\\begin{align}\n",
    "    p({\\bf x}) &= \\sum_{{\\bf z}}p({\\bf z})p({\\bf x}|{\\bf z})\\\\\n",
    "               &= \\sum_{k}\\pi_k \\mathcal{N}({\\bf x}|{\\boldsymbol \\mu}_k, {\\boldsymbol \\Sigma}_k)\n",
    "\\end{align}\n",
    "$$"
   ]
  },
  {
   "cell_type": "code",
   "execution_count": null,
   "metadata": {},
   "outputs": [],
   "source": []
  }
 ],
 "metadata": {
  "kernelspec": {
   "display_name": "Python 3",
   "language": "python",
   "name": "python3"
  },
  "language_info": {
   "codemirror_mode": {
    "name": "ipython",
    "version": 3
   },
   "file_extension": ".py",
   "mimetype": "text/x-python",
   "name": "python",
   "nbconvert_exporter": "python",
   "pygments_lexer": "ipython3",
   "version": "3.7.4"
  }
 },
 "nbformat": 4,
 "nbformat_minor": 2
}
