{
 "cells": [
  {
   "cell_type": "markdown",
   "metadata": {},
   "source": [
    "# A General Framework for Linear Models"
   ]
  },
  {
   "cell_type": "code",
   "execution_count": 1,
   "metadata": {},
   "outputs": [],
   "source": [
    "import sympy\n",
    "from sympy import init_printing\n",
    "init_printing()"
   ]
  },
  {
   "cell_type": "markdown",
   "metadata": {},
   "source": [
    "A simple enlightment on the fact that\n",
    "$$\n",
    "    \\Phi^T \\Phi = \\sum_{i=0}^{N-1} \\phi(x_i) \\phi(x_i)^T\n",
    "$$"
   ]
  },
  {
   "cell_type": "code",
   "execution_count": 2,
   "metadata": {},
   "outputs": [],
   "source": [
    "phi_01 = sympy.symbols(\"\\phi_{0}(x_1)\")\n",
    "phi_02 = sympy.symbols(\"\\phi_{0}(x_2)\")\n",
    "phi_11 = sympy.symbols(\"\\phi_{1}(x_1)\")\n",
    "phi_12 = sympy.symbols(\"\\phi_{1}(x_2)\")"
   ]
  },
  {
   "cell_type": "code",
   "execution_count": 3,
   "metadata": {},
   "outputs": [],
   "source": [
    "Phi = sympy.Matrix([\n",
    "    [phi_01, phi_11],\n",
    "    [phi_02, phi_12],\n",
    "])"
   ]
  },
  {
   "cell_type": "code",
   "execution_count": 4,
   "metadata": {},
   "outputs": [
    {
     "data": {
      "image/png": "[encoded data removed]",
      "text/latex": [
       "$$\\left[\\begin{matrix}\\phi_{0}(x_1) & \\phi_{1}(x_1)\\\\\\phi_{0}(x_2) & \\phi_{1}(x_2)\\end{matrix}\\right]$$"
      ],
      "text/plain": [
       "⎡\\phi_{0}(x_1)  \\phi_{1}(x_1)⎤\n",
       "⎢                            ⎥\n",
       "⎣\\phi_{0}(x_2)  \\phi_{1}(x_2)⎦"
      ]
     },
     "execution_count": 4,
     "metadata": {},
     "output_type": "execute_result"
    }
   ],
   "source": [
    "Phi"
   ]
  },
  {
   "cell_type": "code",
   "execution_count": 5,
   "metadata": {},
   "outputs": [
    {
     "data": {
      "image/png": "[encoded data removed]",
      "text/latex": [
       "$$\\left[\\begin{matrix}\\phi_{0}(x_1)^{2} + \\phi_{0}(x_2)^{2} & \\phi_{0}(x_1) \\phi_{1}(x_1) + \\phi_{0}(x_2) \\phi_{1}(x_2)\\\\\\phi_{0}(x_1) \\phi_{1}(x_1) + \\phi_{0}(x_2) \\phi_{1}(x_2) & \\phi_{1}(x_1)^{2} + \\phi_{1}(x_2)^{2}\\end{matrix}\\right]$$"
      ],
      "text/plain": [
       "⎡                          2                2                                 \n",
       "⎢             \\phi_{0}(x_1)  + \\phi_{0}(x_2)                \\phi_{0}(x_1)⋅\\phi\n",
       "⎢                                                                             \n",
       "⎢                                                                             \n",
       "⎣\\phi_{0}(x_1)⋅\\phi_{1}(x_1) + \\phi_{0}(x_2)⋅\\phi_{1}(x_2)               \\phi_\n",
       "\n",
       "                                       ⎤\n",
       "_{1}(x_1) + \\phi_{0}(x_2)⋅\\phi_{1}(x_2)⎥\n",
       "                                       ⎥\n",
       "        2                2             ⎥\n",
       "{1}(x_1)  + \\phi_{1}(x_2)              ⎦"
      ]
     },
     "execution_count": 5,
     "metadata": {},
     "output_type": "execute_result"
    }
   ],
   "source": [
    "Phi.T @ Phi"
   ]
  },
  {
   "cell_type": "code",
   "execution_count": 6,
   "metadata": {},
   "outputs": [],
   "source": [
    "phi_1 = sympy.Matrix([[phi_01, phi_11]]).T\n",
    "phi_2 = sympy.Matrix([[phi_02, phi_12]]).T"
   ]
  },
  {
   "cell_type": "code",
   "execution_count": 7,
   "metadata": {},
   "outputs": [
    {
     "data": {
      "image/png": "[encoded data removed]",
      "text/latex": [
       "$$\\left[\\begin{matrix}\\phi_{0}(x_1)^{2} + \\phi_{0}(x_2)^{2} & \\phi_{0}(x_1) \\phi_{1}(x_1) + \\phi_{0}(x_2) \\phi_{1}(x_2)\\\\\\phi_{0}(x_1) \\phi_{1}(x_1) + \\phi_{0}(x_2) \\phi_{1}(x_2) & \\phi_{1}(x_1)^{2} + \\phi_{1}(x_2)^{2}\\end{matrix}\\right]$$"
      ],
      "text/plain": [
       "⎡                          2                2                                 \n",
       "⎢             \\phi_{0}(x_1)  + \\phi_{0}(x_2)                \\phi_{0}(x_1)⋅\\phi\n",
       "⎢                                                                             \n",
       "⎢                                                                             \n",
       "⎣\\phi_{0}(x_1)⋅\\phi_{1}(x_1) + \\phi_{0}(x_2)⋅\\phi_{1}(x_2)               \\phi_\n",
       "\n",
       "                                       ⎤\n",
       "_{1}(x_1) + \\phi_{0}(x_2)⋅\\phi_{1}(x_2)⎥\n",
       "                                       ⎥\n",
       "        2                2             ⎥\n",
       "{1}(x_1)  + \\phi_{1}(x_2)              ⎦"
      ]
     },
     "execution_count": 7,
     "metadata": {},
     "output_type": "execute_result"
    }
   ],
   "source": [
    "phi_1 @ phi_1.T + phi_2 @ phi_2.T"
   ]
  }
 ],
 "metadata": {
  "kernelspec": {
   "display_name": "Python 3",
   "language": "python",
   "name": "python3"
  },
  "language_info": {
   "codemirror_mode": {
    "name": "ipython",
    "version": 3
   },
   "file_extension": ".py",
   "mimetype": "text/x-python",
   "name": "python",
   "nbconvert_exporter": "python",
   "pygments_lexer": "ipython3",
   "version": "3.6.8"
  }
 },
 "nbformat": 4,
 "nbformat_minor": 2
}
