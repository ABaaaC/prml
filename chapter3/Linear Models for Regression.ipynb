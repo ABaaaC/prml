{
 "cells": [
  {
   "cell_type": "markdown",
   "metadata": {},
   "source": [
    "# A General Framework for Linear Models"
   ]
  },
  {
   "cell_type": "code",
   "execution_count": 1,
   "metadata": {},
   "outputs": [],
   "source": [
    "import sympy\n",
    "from sympy import init_printing\n",
    "import numpy as np\n",
    "from numpy.linalg import inv\n",
    "\n",
    "init_printing()\n",
    "np.set_printoptions(precision=3, suppress=True)"
   ]
  },
  {
   "cell_type": "markdown",
   "metadata": {},
   "source": [
    "A simple enlightment on the fact that\n",
    "$$\n",
    "    \\Phi^T \\Phi = \\sum_{i=1}^{N} \\phi(x_i) \\phi(x_i)^T\n",
    "$$\n",
    "\n",
    "Consider\n",
    "* $\\Phi \\in \\mathbb{R}^{N\\times M}$\n",
    "* $\\phi(x_i) \\in \\mathbb{R}^{M\\times 1}$"
   ]
  },
  {
   "cell_type": "code",
   "execution_count": 2,
   "metadata": {},
   "outputs": [],
   "source": [
    "phi_01 = sympy.symbols(\"\\phi_{0}(x_1)\")\n",
    "phi_02 = sympy.symbols(\"\\phi_{0}(x_2)\")\n",
    "\n",
    "phi_11 = sympy.symbols(\"\\phi_{1}(x_1)\")\n",
    "phi_12 = sympy.symbols(\"\\phi_{1}(x_2)\")\n",
    "\n",
    "phi_21 = sympy.symbols(\"\\phi_{2}(x_1)\")\n",
    "phi_22 = sympy.symbols(\"\\phi_{2}(x_2)\")"
   ]
  },
  {
   "cell_type": "code",
   "execution_count": 3,
   "metadata": {},
   "outputs": [],
   "source": [
    "Phi = sympy.Matrix([\n",
    "    [phi_01, phi_02],\n",
    "    [phi_11, phi_12],\n",
    "    [phi_21, phi_22]\n",
    "])"
   ]
  },
  {
   "cell_type": "code",
   "execution_count": 4,
   "metadata": {},
   "outputs": [
    {
     "data": {
      "image/png": "[encoded data removed]",
      "text/latex": [
       "$$\\left[\\begin{matrix}\\phi_{0}(x_1) & \\phi_{0}(x_2)\\\\\\phi_{1}(x_1) & \\phi_{1}(x_2)\\\\\\phi_{2}(x_1) & \\phi_{2}(x_2)\\end{matrix}\\right]$$"
      ],
      "text/plain": [
       "⎡\\phi_{0}(x_1)  \\phi_{0}(x_2)⎤\n",
       "⎢                            ⎥\n",
       "⎢\\phi_{1}(x_1)  \\phi_{1}(x_2)⎥\n",
       "⎢                            ⎥\n",
       "⎣\\phi_{2}(x_1)  \\phi_{2}(x_2)⎦"
      ]
     },
     "execution_count": 4,
     "metadata": {},
     "output_type": "execute_result"
    }
   ],
   "source": [
    "# N: number of datapoints\n",
    "# M: number of basis functions\n",
    "Phi"
   ]
  },
  {
   "cell_type": "code",
   "execution_count": 5,
   "metadata": {},
   "outputs": [
    {
     "data": {
      "image/png": "[encoded data removed]",
      "text/latex": [
       "$$\\left[\\begin{matrix}\\phi_{0}(x_1)^{2} + \\phi_{1}(x_1)^{2} + \\phi_{2}(x_1)^{2} & \\phi_{0}(x_1) \\phi_{0}(x_2) + \\phi_{1}(x_1) \\phi_{1}(x_2) + \\phi_{2}(x_1) \\phi_{2}(x_2)\\\\\\phi_{0}(x_1) \\phi_{0}(x_2) + \\phi_{1}(x_1) \\phi_{1}(x_2) + \\phi_{2}(x_1) \\phi_{2}(x_2) & \\phi_{0}(x_2)^{2} + \\phi_{1}(x_2)^{2} + \\phi_{2}(x_2)^{2}\\end{matrix}\\right]$$"
      ],
      "text/plain": [
       "⎡                                2                2                2          \n",
       "⎢                   \\phi_{0}(x_1)  + \\phi_{1}(x_1)  + \\phi_{2}(x_1)           \n",
       "⎢                                                                             \n",
       "⎢                                                                             \n",
       "⎣\\phi_{0}(x_1)⋅\\phi_{0}(x_2) + \\phi_{1}(x_1)⋅\\phi_{1}(x_2) + \\phi_{2}(x_1)⋅\\ph\n",
       "\n",
       "                                                                              \n",
       "            \\phi_{0}(x_1)⋅\\phi_{0}(x_2) + \\phi_{1}(x_1)⋅\\phi_{1}(x_2) + \\phi_{\n",
       "                                                                              \n",
       "                                            2                2                \n",
       "i_{2}(x_2)                     \\phi_{0}(x_2)  + \\phi_{1}(x_2)  + \\phi_{2}(x_2)\n",
       "\n",
       "                     ⎤\n",
       "2}(x_1)⋅\\phi_{2}(x_2)⎥\n",
       "                     ⎥\n",
       "2                    ⎥\n",
       "                     ⎦"
      ]
     },
     "execution_count": 5,
     "metadata": {},
     "output_type": "execute_result"
    }
   ],
   "source": [
    "E1 = Phi.T @ Phi\n",
    "E1"
   ]
  },
  {
   "cell_type": "code",
   "execution_count": 6,
   "metadata": {},
   "outputs": [],
   "source": [
    "phi_0 = sympy.Matrix([[phi_01, phi_02]]).T\n",
    "phi_1 = sympy.Matrix([[phi_11, phi_12]]).T\n",
    "phi_2 = sympy.Matrix([[phi_21, phi_22]]).T"
   ]
  },
  {
   "cell_type": "code",
   "execution_count": 7,
   "metadata": {},
   "outputs": [
    {
     "data": {
      "image/png": "[encoded data removed]",
      "text/latex": [
       "$$\\left[\\begin{matrix}\\phi_{0}(x_1)^{2} + \\phi_{1}(x_1)^{2} + \\phi_{2}(x_1)^{2} & \\phi_{0}(x_1) \\phi_{0}(x_2) + \\phi_{1}(x_1) \\phi_{1}(x_2) + \\phi_{2}(x_1) \\phi_{2}(x_2)\\\\\\phi_{0}(x_1) \\phi_{0}(x_2) + \\phi_{1}(x_1) \\phi_{1}(x_2) + \\phi_{2}(x_1) \\phi_{2}(x_2) & \\phi_{0}(x_2)^{2} + \\phi_{1}(x_2)^{2} + \\phi_{2}(x_2)^{2}\\end{matrix}\\right]$$"
      ],
      "text/plain": [
       "⎡                                2                2                2          \n",
       "⎢                   \\phi_{0}(x_1)  + \\phi_{1}(x_1)  + \\phi_{2}(x_1)           \n",
       "⎢                                                                             \n",
       "⎢                                                                             \n",
       "⎣\\phi_{0}(x_1)⋅\\phi_{0}(x_2) + \\phi_{1}(x_1)⋅\\phi_{1}(x_2) + \\phi_{2}(x_1)⋅\\ph\n",
       "\n",
       "                                                                              \n",
       "            \\phi_{0}(x_1)⋅\\phi_{0}(x_2) + \\phi_{1}(x_1)⋅\\phi_{1}(x_2) + \\phi_{\n",
       "                                                                              \n",
       "                                            2                2                \n",
       "i_{2}(x_2)                     \\phi_{0}(x_2)  + \\phi_{1}(x_2)  + \\phi_{2}(x_2)\n",
       "\n",
       "                     ⎤\n",
       "2}(x_1)⋅\\phi_{2}(x_2)⎥\n",
       "                     ⎥\n",
       "2                    ⎥\n",
       "                     ⎦"
      ]
     },
     "execution_count": 7,
     "metadata": {},
     "output_type": "execute_result"
    }
   ],
   "source": [
    "E2 = phi_0 @ phi_0.T + phi_1 @ phi_1.T + phi_2 @ phi_2.T\n",
    "E2"
   ]
  },
  {
   "cell_type": "code",
   "execution_count": 8,
   "metadata": {},
   "outputs": [
    {
     "data": {
      "text/plain": [
       "True"
      ]
     },
     "execution_count": 8,
     "metadata": {},
     "output_type": "execute_result"
    }
   ],
   "source": [
    "E1 == E2"
   ]
  },
  {
   "cell_type": "markdown",
   "metadata": {},
   "source": [
    "## Geometrical Representation for least squares"
   ]
  },
  {
   "cell_type": "code",
   "execution_count": 10,
   "metadata": {},
   "outputs": [],
   "source": [
    "def pseudoinverse(phi):\n",
    "    return inv(phi.T @ phi) @ phi.T"
   ]
  },
  {
   "cell_type": "code",
   "execution_count": 22,
   "metadata": {},
   "outputs": [
    {
     "data": {
      "text/plain": [
       "array([[ 1., -0., -0., -0.,  0.],\n",
       "       [-0.,  1., -0.,  0.,  0.],\n",
       "       [-0.,  0.,  1., -0.,  0.],\n",
       "       [ 0.,  0.,  0.,  1.,  0.],\n",
       "       [-0., -0.,  0., -0.,  1.]])"
      ]
     },
     "execution_count": 22,
     "metadata": {},
     "output_type": "execute_result"
    }
   ],
   "source": [
    "N, M = 5, 5\n",
    "Phi = np.random.randn(N, M)\n",
    "Phi @ pseudoinverse(Phi)"
   ]
  },
  {
   "cell_type": "code",
   "execution_count": 18,
   "metadata": {},
   "outputs": [
    {
     "data": {
      "text/plain": [
       "array([[2],\n",
       "       [1],\n",
       "       [4],\n",
       "       [1],\n",
       "       [5],\n",
       "       [7],\n",
       "       [1]])"
      ]
     },
     "execution_count": 18,
     "metadata": {},
     "output_type": "execute_result"
    }
   ],
   "source": [
    "v = np.array([2, 1, 4, 1, 5, 7, 1]).reshape(-1, 1)\n",
    "v"
   ]
  },
  {
   "cell_type": "code",
   "execution_count": 19,
   "metadata": {},
   "outputs": [
    {
     "data": {
      "text/plain": [
       "array([[ 0.377],\n",
       "       [-0.539],\n",
       "       [ 5.032],\n",
       "       [ 2.076],\n",
       "       [ 2.962],\n",
       "       [ 6.791],\n",
       "       [ 0.752]])"
      ]
     },
     "execution_count": 19,
     "metadata": {},
     "output_type": "execute_result"
    }
   ],
   "source": [
    "Phi @ pseudoinverse(Phi) @ v"
   ]
  }
 ],
 "metadata": {
  "kernelspec": {
   "display_name": "Python 3",
   "language": "python",
   "name": "python3"
  },
  "language_info": {
   "codemirror_mode": {
    "name": "ipython",
    "version": 3
   },
   "file_extension": ".py",
   "mimetype": "text/x-python",
   "name": "python",
   "nbconvert_exporter": "python",
   "pygments_lexer": "ipython3",
   "version": "3.6.8"
  }
 },
 "nbformat": 4,
 "nbformat_minor": 2
}
