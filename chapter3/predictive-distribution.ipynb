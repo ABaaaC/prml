{
 "cells": [
  {
   "cell_type": "markdown",
   "metadata": {},
   "source": [
    "# The predictive distribution\n",
    "\n",
    "Under the bayesian point of view of a regression of linear basis functions, we are interested in making predictions of $t$ given an unseed value $\\bf x$.\n",
    "\n",
    "Consider\n",
    "$$\n",
    "    p(t | {\\bf t}, {\\bf x}, \\alpha, \\beta) = \\mathcal{N}({\\bf w} | m_N, S_N) \\mathcal{N}(t | {\\bf w}^T {\\bf \\phi(x)}, \\beta^{-1})\n",
    "$$\n",
    "\n"
   ]
  },
  {
   "cell_type": "code",
   "execution_count": 1,
   "metadata": {},
   "outputs": [],
   "source": [
    "import numpy as np\n",
    "import matplotlib.pyplot as plt"
   ]
  },
  {
   "cell_type": "markdown",
   "metadata": {},
   "source": []
  }
 ],
 "metadata": {
  "kernelspec": {
   "display_name": "Python 3",
   "language": "python",
   "name": "python3"
  },
  "language_info": {
   "codemirror_mode": {
    "name": "ipython",
    "version": 3
   },
   "file_extension": ".py",
   "mimetype": "text/x-python",
   "name": "python",
   "nbconvert_exporter": "python",
   "pygments_lexer": "ipython3",
   "version": "3.6.8"
  }
 },
 "nbformat": 4,
 "nbformat_minor": 2
}
