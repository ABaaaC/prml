{
 "cells": [
  {
   "cell_type": "markdown",
   "metadata": {},
   "source": [
    "# Bayesian Linear Regression"
   ]
  },
  {
   "cell_type": "markdown",
   "metadata": {},
   "source": [
    "Estimating $w$ under a Bayesian apprroach"
   ]
  },
  {
   "cell_type": "code",
   "execution_count": 21,
   "metadata": {},
   "outputs": [],
   "source": [
    "import sympy as sym\n",
    "from sympy import init_printing\n",
    "init_printing()"
   ]
  },
  {
   "cell_type": "code",
   "execution_count": 7,
   "metadata": {},
   "outputs": [],
   "source": [
    "N, M = 5, 3\n",
    "Phi = sym.MatrixSymbol(\"Phi\", M, N)\n",
    "t = sym.MatrixSymbol(\"t\", N, 1)\n",
    "w = sym.MatrixSymbol(\"w\", M, 1) "
   ]
  },
  {
   "cell_type": "code",
   "execution_count": 22,
   "metadata": {},
   "outputs": [
    {
     "data": {
      "image/png": "[encoded data removed]",
      "text/latex": [
       "$$t^T \\Phi^T w$$"
      ],
      "text/plain": [
       " T  T  \n",
       "t ⋅Φ ⋅w"
      ]
     },
     "execution_count": 22,
     "metadata": {},
     "output_type": "execute_result"
    }
   ],
   "source": [
    "t.T @ Phi.T @ w"
   ]
  },
  {
   "cell_type": "code",
   "execution_count": 64,
   "metadata": {},
   "outputs": [],
   "source": [
    "M, N = 3, 5\n",
    "t = sym.symbols(f\"t1:{N + 1}\")\n",
    "t = sym.Matrix(t).reshape(N, 1)\n",
    "\n",
    "w = sym.symbols(f\"w1:{M + 1}\")\n",
    "w = sym.Matrix(w).reshape(M, 1)\n",
    "\n",
    "phi = sym.symbols(\"phi1:6(1:4)\")\n",
    "phi = sym.Matrix(phi).reshape(N, M)"
   ]
  },
  {
   "cell_type": "code",
   "execution_count": 126,
   "metadata": {},
   "outputs": [],
   "source": [
    "def f(i): return (t[i] - (w.T @ phi[i, :].T)[0]) ** 2"
   ]
  },
  {
   "cell_type": "code",
   "execution_count": 127,
   "metadata": {},
   "outputs": [
    {
     "data": {
      "image/png": "[encoded data removed]",
      "text/latex": [
       "$$\\left(- \\phi_{11} w_{1} - \\phi_{12} w_{2} - \\phi_{13} w_{3} + t_{1}\\right)^{2}$$"
      ],
      "text/plain": [
       "                                2\n",
       "(-φ₁₁⋅w₁ - φ₁₂⋅w₂ - φ₁₃⋅w₃ + t₁) "
      ]
     },
     "execution_count": 127,
     "metadata": {},
     "output_type": "execute_result"
    }
   ],
   "source": [
    "f(0)"
   ]
  },
  {
   "cell_type": "code",
   "execution_count": 129,
   "metadata": {},
   "outputs": [
    {
     "data": {
      "image/png": "[encoded data removed]",
      "text/latex": [
       "$$\\left(- \\phi_{11} w_{1} - \\phi_{12} w_{2} - \\phi_{13} w_{3} + t_{1}\\right)^{2} + \\left(- \\phi_{21} w_{1} - \\phi_{22} w_{2} - \\phi_{23} w_{3} + t_{2}\\right)^{2} + \\left(- \\phi_{31} w_{1} - \\phi_{32} w_{2} - \\phi_{33} w_{3} + t_{3}\\right)^{2} + \\left(- \\phi_{41} w_{1} - \\phi_{42} w_{2} - \\phi_{43} w_{3} + t_{4}\\right)^{2} + \\left(- \\phi_{51} w_{1} - \\phi_{52} w_{2} - \\phi_{53} w_{3} + t_{5}\\right)^{2}$$"
      ],
      "text/plain": [
       "                                2                                   2         \n",
       "(-φ₁₁⋅w₁ - φ₁₂⋅w₂ - φ₁₃⋅w₃ + t₁)  + (-φ₂₁⋅w₁ - φ₂₂⋅w₂ - φ₂₃⋅w₃ + t₂)  + (-φ₃₁⋅\n",
       "\n",
       "                          2                                   2               \n",
       "w₁ - φ₃₂⋅w₂ - φ₃₃⋅w₃ + t₃)  + (-φ₄₁⋅w₁ - φ₄₂⋅w₂ - φ₄₃⋅w₃ + t₄)  + (-φ₅₁⋅w₁ - φ\n",
       "\n",
       "                    2\n",
       "₅₂⋅w₂ - φ₅₃⋅w₃ + t₅) "
      ]
     },
     "execution_count": 129,
     "metadata": {},
     "output_type": "execute_result"
    }
   ],
   "source": [
    "sum([f(i) for i in range(N)])"
   ]
  },
  {
   "cell_type": "code",
   "execution_count": 111,
   "metadata": {},
   "outputs": [
    {
     "data": {
      "image/png": "[encoded data removed]",
      "text/latex": [
       "$$\\left[\\begin{matrix}\\left(- \\phi_{11} w_{1} - \\phi_{12} w_{2} - \\phi_{13} w_{3} + t_{1}\\right)^{2} + \\left(- \\phi_{21} w_{1} - \\phi_{22} w_{2} - \\phi_{23} w_{3} + t_{2}\\right)^{2} + \\left(- \\phi_{31} w_{1} - \\phi_{32} w_{2} - \\phi_{33} w_{3} + t_{3}\\right)^{2} + \\left(- \\phi_{41} w_{1} - \\phi_{42} w_{2} - \\phi_{43} w_{3} + t_{4}\\right)^{2} + \\left(- \\phi_{51} w_{1} - \\phi_{52} w_{2} - \\phi_{53} w_{3} + t_{5}\\right)^{2}\\end{matrix}\\right]$$"
      ],
      "text/plain": [
       "⎡                                2                                   2        \n",
       "⎣(-φ₁₁⋅w₁ - φ₁₂⋅w₂ - φ₁₃⋅w₃ + t₁)  + (-φ₂₁⋅w₁ - φ₂₂⋅w₂ - φ₂₃⋅w₃ + t₂)  + (-φ₃₁\n",
       "\n",
       "                           2                                   2              \n",
       "⋅w₁ - φ₃₂⋅w₂ - φ₃₃⋅w₃ + t₃)  + (-φ₄₁⋅w₁ - φ₄₂⋅w₂ - φ₄₃⋅w₃ + t₄)  + (-φ₅₁⋅w₁ - \n",
       "\n",
       "                     2⎤\n",
       "φ₅₂⋅w₂ - φ₅₃⋅w₃ + t₅) ⎦"
      ]
     },
     "execution_count": 111,
     "metadata": {},
     "output_type": "execute_result"
    }
   ],
   "source": [
    "(t.T - w.T @ phi.T) @ (t.T - w.T @ phi.T).T"
   ]
  }
 ],
 "metadata": {
  "kernelspec": {
   "display_name": "Python 3",
   "language": "python",
   "name": "python3"
  },
  "language_info": {
   "codemirror_mode": {
    "name": "ipython",
    "version": 3
   },
   "file_extension": ".py",
   "mimetype": "text/x-python",
   "name": "python",
   "nbconvert_exporter": "python",
   "pygments_lexer": "ipython3",
   "version": "3.6.8"
  }
 },
 "nbformat": 4,
 "nbformat_minor": 2
}
