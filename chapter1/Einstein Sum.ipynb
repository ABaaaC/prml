{
 "cells": [
  {
   "cell_type": "markdown",
   "metadata": {},
   "source": [
    "# Einsums"
   ]
  },
  {
   "cell_type": "code",
   "execution_count": 1,
   "metadata": {},
   "outputs": [],
   "source": [
    "import numpy as np \n",
    "from numpy.random import seed, randint\n",
    "from numpy.linalg import inv"
   ]
  },
  {
   "cell_type": "markdown",
   "metadata": {},
   "source": [
    "http://ajcr.net/Basic-guide-to-einsum/"
   ]
  },
  {
   "cell_type": "code",
   "execution_count": 2,
   "metadata": {},
   "outputs": [
    {
     "data": {
      "text/plain": [
       "array([[5, 9],\n",
       "       [6, 2]])"
      ]
     },
     "execution_count": 2,
     "metadata": {},
     "output_type": "execute_result"
    }
   ],
   "source": [
    "seed(1643)\n",
    "A = randint(0, 10, 4).reshape(2, 2)\n",
    "A"
   ]
  },
  {
   "cell_type": "markdown",
   "metadata": {},
   "source": [
    "$\\sum_{i} A_{i,i}$"
   ]
  },
  {
   "cell_type": "code",
   "execution_count": 3,
   "metadata": {},
   "outputs": [
    {
     "data": {
      "text/plain": [
       "7"
      ]
     },
     "execution_count": 3,
     "metadata": {},
     "output_type": "execute_result"
    }
   ],
   "source": [
    "# Sum over the diagonal (the trace)\n",
    "np.einsum(\"ii->\", A)"
   ]
  },
  {
   "cell_type": "code",
   "execution_count": 4,
   "metadata": {},
   "outputs": [
    {
     "data": {
      "text/plain": [
       "22"
      ]
     },
     "execution_count": 4,
     "metadata": {},
     "output_type": "execute_result"
    }
   ],
   "source": [
    "# Sum all of the elements of A\n",
    "np.einsum(\"ij->\", A)"
   ]
  },
  {
   "cell_type": "code",
   "execution_count": 5,
   "metadata": {},
   "outputs": [
    {
     "data": {
      "text/plain": [
       "array([11, 11])"
      ]
     },
     "execution_count": 5,
     "metadata": {},
     "output_type": "execute_result"
    }
   ],
   "source": [
    "# ∀ col, sum over rows\n",
    "np.einsum(\"ij->j\", A)"
   ]
  },
  {
   "cell_type": "code",
   "execution_count": 6,
   "metadata": {},
   "outputs": [
    {
     "data": {
      "text/plain": [
       "array([14,  8])"
      ]
     },
     "execution_count": 6,
     "metadata": {},
     "output_type": "execute_result"
    }
   ],
   "source": [
    "# ∀ row, sum over columns\n",
    "np.einsum(\"ij->i\", A)"
   ]
  },
  {
   "cell_type": "code",
   "execution_count": 7,
   "metadata": {},
   "outputs": [
    {
     "data": {
      "text/plain": [
       "array([[5, 6],\n",
       "       [9, 2]])"
      ]
     },
     "execution_count": 7,
     "metadata": {},
     "output_type": "execute_result"
    }
   ],
   "source": [
    "# Transpose a matrix\n",
    "np.einsum(\"ij->ji\", A)"
   ]
  },
  {
   "cell_type": "markdown",
   "metadata": {},
   "source": [
    "$\\sum_{i} a_i  b_i$"
   ]
  },
  {
   "cell_type": "code",
   "execution_count": 8,
   "metadata": {},
   "outputs": [],
   "source": [
    "a, b = np.array([1,2,3]), np.array([1, 1, 1])"
   ]
  },
  {
   "cell_type": "code",
   "execution_count": 9,
   "metadata": {},
   "outputs": [
    {
     "data": {
      "text/plain": [
       "6"
      ]
     },
     "execution_count": 9,
     "metadata": {},
     "output_type": "execute_result"
    }
   ],
   "source": [
    "# Dot product\n",
    "np.einsum(\"i,i->\", a, b)"
   ]
  },
  {
   "cell_type": "code",
   "execution_count": 10,
   "metadata": {},
   "outputs": [
    {
     "data": {
      "text/plain": [
       "array([3, 6, 9])"
      ]
     },
     "execution_count": 10,
     "metadata": {},
     "output_type": "execute_result"
    }
   ],
   "source": [
    "# Sum over 'b' and multiply by each entry of i\n",
    "np.einsum(\"i,j->i\", a,b)"
   ]
  },
  {
   "cell_type": "code",
   "execution_count": 11,
   "metadata": {},
   "outputs": [
    {
     "data": {
      "text/plain": [
       "array([[1, 2, 3],\n",
       "       [2, 4, 6],\n",
       "       [3, 6, 9]])"
      ]
     },
     "execution_count": 11,
     "metadata": {},
     "output_type": "execute_result"
    }
   ],
   "source": [
    "# The outer-product of 'a'\n",
    "np.einsum(\"i,j->ij\", a, a)"
   ]
  },
  {
   "cell_type": "markdown",
   "metadata": {},
   "source": [
    "## Matrix Multiplication"
   ]
  },
  {
   "cell_type": "markdown",
   "metadata": {},
   "source": [
    "$(AB)_{i,k} = A_{i,:}\\cdot B_{:,k} = \\sum_{j=1}^n A_{i,j} B_{j, k}$"
   ]
  },
  {
   "cell_type": "code",
   "execution_count": 12,
   "metadata": {},
   "outputs": [],
   "source": [
    "A = np.array([[1, 1, 1],\n",
    "              [2, 2, 2],\n",
    "              [5, 5, 5]])\n",
    "\n",
    "B = np.array([[0, 1, 0],\n",
    "              [1, 1, 0],\n",
    "              [1, 1, 1]])"
   ]
  },
  {
   "cell_type": "code",
   "execution_count": 13,
   "metadata": {},
   "outputs": [
    {
     "data": {
      "text/plain": [
       "array([[ 2,  3,  1],\n",
       "       [ 4,  6,  2],\n",
       "       [10, 15,  5]])"
      ]
     },
     "execution_count": 13,
     "metadata": {},
     "output_type": "execute_result"
    }
   ],
   "source": [
    "# Since the resulting term does not contain 'j', we are implicity stating that\n",
    "# we should sum over indices j\n",
    "np.einsum(\"ij,jk -> ik\", A, B)"
   ]
  },
  {
   "cell_type": "markdown",
   "metadata": {},
   "source": [
    "## The Squared Mahalanobis Distance\n",
    "\n",
    "The Mahalanobis distance of a vector $\\bf x$ with covariance matrix $\\bf S$ is defined as\n",
    "\n",
    "$$\n",
    "D_M({\\bf x}) = \\left({\\bf x}^T{\\bf S}^{-1}{\\bf x}\\right)^{1/2}\n",
    "$$"
   ]
  },
  {
   "cell_type": "code",
   "execution_count": 14,
   "metadata": {},
   "outputs": [
    {
     "data": {
      "text/plain": [
       "array([1.89039944, 0.16621811, 0.94338245])"
      ]
     },
     "execution_count": 14,
     "metadata": {},
     "output_type": "execute_result"
    }
   ],
   "source": [
    "seed(1643)\n",
    "x = np.random.randint(-10, 10, 3)\n",
    "S = np.random.randn(3)\n",
    "S = np.exp(-1 / 2 * (S[:, np.newaxis] - S[np.newaxis, :])**2)\n",
    "np.linalg.eigvals(S) # Not a singular matrix / positive semidefinite"
   ]
  },
  {
   "cell_type": "code",
   "execution_count": 15,
   "metadata": {},
   "outputs": [
    {
     "data": {
      "text/plain": [
       "array([-5.81794629, -7.32889192,  6.15102389])"
      ]
     },
     "execution_count": 15,
     "metadata": {},
     "output_type": "execute_result"
    }
   ],
   "source": [
    "x.T @ S"
   ]
  },
  {
   "cell_type": "code",
   "execution_count": 16,
   "metadata": {},
   "outputs": [
    {
     "data": {
      "text/plain": [
       "array([-5.81794629, -7.32889192,  6.15102389])"
      ]
     },
     "execution_count": 16,
     "metadata": {},
     "output_type": "execute_result"
    }
   ],
   "source": [
    "np.einsum(\"i,ik->k\", x, S)"
   ]
  },
  {
   "cell_type": "code",
   "execution_count": 17,
   "metadata": {},
   "outputs": [
    {
     "data": {
      "text/plain": [
       "132.46814131578864"
      ]
     },
     "execution_count": 17,
     "metadata": {},
     "output_type": "execute_result"
    }
   ],
   "source": [
    "x.T @ inv(S) @ x"
   ]
  },
  {
   "cell_type": "code",
   "execution_count": 18,
   "metadata": {},
   "outputs": [
    {
     "data": {
      "text/plain": [
       "132.4681413157886"
      ]
     },
     "execution_count": 18,
     "metadata": {},
     "output_type": "execute_result"
    }
   ],
   "source": [
    "np.einsum(\"i,ik,k->\", x, inv(S), x)"
   ]
  },
  {
   "cell_type": "markdown",
   "metadata": {},
   "source": [
    "## In Higher Dimensions\n",
    "Given the following 5x3 matrix of integers, suppose we want to compute the outer-product of each column.\n",
    "The resulting array should be of shape `(3, 5, 5)`"
   ]
  },
  {
   "cell_type": "code",
   "execution_count": 19,
   "metadata": {},
   "outputs": [
    {
     "data": {
      "text/plain": [
       "array([[8, 9, 3],\n",
       "       [6, 0, 7],\n",
       "       [2, 8, 6],\n",
       "       [7, 0, 3],\n",
       "       [6, 7, 8]])"
      ]
     },
     "execution_count": 19,
     "metadata": {},
     "output_type": "execute_result"
    }
   ],
   "source": [
    "seed(314)\n",
    "Phi = np.random.randint(0, 10, (5, 3))\n",
    "Phi"
   ]
  },
  {
   "cell_type": "markdown",
   "metadata": {},
   "source": [
    "#### For a single column"
   ]
  },
  {
   "cell_type": "markdown",
   "metadata": {},
   "source": [
    "In matrix notation, the outer-product of a vector is given by the product $aa^T$"
   ]
  },
  {
   "cell_type": "code",
   "execution_count": 20,
   "metadata": {},
   "outputs": [
    {
     "data": {
      "text/plain": [
       "array([[64, 48, 16, 56, 48],\n",
       "       [48, 36, 12, 42, 36],\n",
       "       [16, 12,  4, 14, 12],\n",
       "       [56, 42, 14, 49, 42],\n",
       "       [48, 36, 12, 42, 36]])"
      ]
     },
     "execution_count": 20,
     "metadata": {},
     "output_type": "execute_result"
    }
   ],
   "source": [
    "Phi[:, [0]] @ Phi[:, [0]].T"
   ]
  },
  {
   "cell_type": "markdown",
   "metadata": {},
   "source": [
    "Under `einsum`, we can express the outer-product of any two unidimensional arrays $a$, $b$ by specifying the indices of $a$ and $b$."
   ]
  },
  {
   "cell_type": "code",
   "execution_count": 21,
   "metadata": {},
   "outputs": [
    {
     "data": {
      "text/plain": [
       "array([[64, 48, 16, 56, 48],\n",
       "       [48, 36, 12, 42, 36],\n",
       "       [16, 12,  4, 14, 12],\n",
       "       [56, 42, 14, 49, 42],\n",
       "       [48, 36, 12, 42, 36]])"
      ]
     },
     "execution_count": 21,
     "metadata": {},
     "output_type": "execute_result"
    }
   ],
   "source": [
    "vPhi_i = Phi[:, 0]\n",
    "np.einsum(\"i,j->ij\", vPhi_i, vPhi_i)"
   ]
  },
  {
   "cell_type": "code",
   "execution_count": 22,
   "metadata": {},
   "outputs": [
    {
     "data": {
      "text/plain": [
       "array([[[64, 48, 16, 56, 48],\n",
       "        [48, 36, 12, 42, 36],\n",
       "        [16, 12,  4, 14, 12],\n",
       "        [56, 42, 14, 49, 42],\n",
       "        [48, 36, 12, 42, 36]]])"
      ]
     },
     "execution_count": 22,
     "metadata": {},
     "output_type": "execute_result"
    }
   ],
   "source": [
    "vPhi_i = Phi[:, [0]]\n",
    "np.einsum(\"ik,jk->kij\", vPhi_i, vPhi_i)"
   ]
  },
  {
   "cell_type": "markdown",
   "metadata": {},
   "source": [
    "#### For every column"
   ]
  },
  {
   "cell_type": "code",
   "execution_count": 23,
   "metadata": {
    "scrolled": false
   },
   "outputs": [
    {
     "data": {
      "text/plain": [
       "array([[[64, 48, 16, 56, 48],\n",
       "        [48, 36, 12, 42, 36],\n",
       "        [16, 12,  4, 14, 12],\n",
       "        [56, 42, 14, 49, 42],\n",
       "        [48, 36, 12, 42, 36]],\n",
       "\n",
       "       [[81,  0, 72,  0, 63],\n",
       "        [ 0,  0,  0,  0,  0],\n",
       "        [72,  0, 64,  0, 56],\n",
       "        [ 0,  0,  0,  0,  0],\n",
       "        [63,  0, 56,  0, 49]],\n",
       "\n",
       "       [[ 9, 21, 18,  9, 24],\n",
       "        [21, 49, 42, 21, 56],\n",
       "        [18, 42, 36, 18, 48],\n",
       "        [ 9, 21, 18,  9, 24],\n",
       "        [24, 56, 48, 24, 64]]])"
      ]
     },
     "execution_count": 23,
     "metadata": {},
     "output_type": "execute_result"
    }
   ],
   "source": [
    "# For every column 'k', compute the matrix resulting\n",
    "# in evaluating every pair of value multiplication\n",
    "# (i,j)\n",
    "np.einsum(\"ik,jk->kij\", Phi, Phi)"
   ]
  },
  {
   "cell_type": "markdown",
   "metadata": {},
   "source": [
    "### The Mahalanobis distance in a multidimensional array\n",
    "\n",
    "We are interested in computing the squared Mahalanobis distance between a set of vectors $\\bf X$ and a covariance matrix $\\bf S$."
   ]
  },
  {
   "cell_type": "code",
   "execution_count": 24,
   "metadata": {},
   "outputs": [],
   "source": [
    "seed(1643)\n",
    "x = np.random.randint(-10, 10, (2, 3))\n",
    "S = np.random.randn(3)\n",
    "S = np.exp(-1 / 2 * (S[:, np.newaxis] - S[np.newaxis, :])**2)"
   ]
  },
  {
   "cell_type": "markdown",
   "metadata": {},
   "source": [
    "Recall, for a unidemensional array, the Mahalanobis distance under an einsum is given by `i,ik,k->`"
   ]
  },
  {
   "cell_type": "code",
   "execution_count": 25,
   "metadata": {},
   "outputs": [
    {
     "data": {
      "text/plain": [
       "array([[-5.81794629, -7.32889192,  6.15102389],\n",
       "       [ 2.37852468,  1.74367502, -5.94610877]])"
      ]
     },
     "execution_count": 25,
     "metadata": {},
     "output_type": "execute_result"
    }
   ],
   "source": [
    "# wE fix the row and sum over the columns\n",
    "np.einsum(\"ji,ik->jk\", x, S)"
   ]
  },
  {
   "cell_type": "code",
   "execution_count": 26,
   "metadata": {},
   "outputs": [
    {
     "data": {
      "text/plain": [
       "array([132.46814132, 640.35662576])"
      ]
     },
     "execution_count": 26,
     "metadata": {},
     "output_type": "execute_result"
    }
   ],
   "source": [
    "# 'j' represents each of the rows of x.\n",
    "#    ji,ik represents the inner product of each row with S.\n",
    "#    The resulting vector can be multiplied by each row of x\n",
    "#    and the result should be the number of rows\n",
    "np.einsum(\"ji,ik,jk->j\", x, inv(S), x)"
   ]
  },
  {
   "cell_type": "markdown",
   "metadata": {},
   "source": [
    "**The Mahalanobis distance for a collection of vectors under a multidimensional array**  \n",
    "\n",
    "Suppose we want to compute the Mahalanobis distance for a collection of arrays and covariance matrices. In this example, we have our target array ${\\bf x} \\in \\mathbb{R}^{2\\times3}$ and a multidimensional array ${\\bf S} \\in \\mathbb{R}^{2\\times 3\\times 3}$. What we want is to find an einsum expression that returns a vector with two entries."
   ]
  },
  {
   "cell_type": "code",
   "execution_count": 27,
   "metadata": {},
   "outputs": [
    {
     "data": {
      "text/plain": [
       "(2, 3, 3)"
      ]
     },
     "execution_count": 27,
     "metadata": {},
     "output_type": "execute_result"
    }
   ],
   "source": [
    "seed(1643)\n",
    "x = np.random.randint(-10, 10, (2, 3)) * 1. # cast to float64\n",
    "\n",
    "S1 = np.random.randn(3)\n",
    "S1 = np.exp(-1 / 2 * (S1[:, np.newaxis] - S1[np.newaxis, :])**2)\n",
    "\n",
    "S2 = np.random.randn(3)\n",
    "S2 = np.exp(-1 / 2 * (S2[:, np.newaxis] - S2[np.newaxis, :])**2)\n",
    "\n",
    "S = np.stack((S1, S2))\n",
    "S.shape"
   ]
  },
  {
   "cell_type": "code",
   "execution_count": 28,
   "metadata": {},
   "outputs": [
    {
     "data": {
      "text/plain": [
       "132.4681413157886"
      ]
     },
     "execution_count": 28,
     "metadata": {},
     "output_type": "execute_result"
    }
   ],
   "source": [
    "np.einsum(\"i,ik,k->\", x[0], inv(S1), x[0])"
   ]
  },
  {
   "cell_type": "code",
   "execution_count": 29,
   "metadata": {},
   "outputs": [
    {
     "data": {
      "text/plain": [
       "2332.058020928929"
      ]
     },
     "execution_count": 29,
     "metadata": {},
     "output_type": "execute_result"
    }
   ],
   "source": [
    "np.einsum(\"i,ik,k->\", x[1], inv(S2), x[1])"
   ]
  },
  {
   "cell_type": "code",
   "execution_count": 30,
   "metadata": {},
   "outputs": [
    {
     "data": {
      "text/plain": [
       "array([ 132.46814132, 2332.05802093])"
      ]
     },
     "execution_count": 30,
     "metadata": {},
     "output_type": "execute_result"
    }
   ],
   "source": [
    "np.einsum(\"ji,jik,jk->j\", x, inv(S), x)"
   ]
  }
 ],
 "metadata": {
  "kernelspec": {
   "display_name": "Python 3",
   "language": "python",
   "name": "python3"
  },
  "language_info": {
   "codemirror_mode": {
    "name": "ipython",
    "version": 3
   },
   "file_extension": ".py",
   "mimetype": "text/x-python",
   "name": "python",
   "nbconvert_exporter": "python",
   "pygments_lexer": "ipython3",
   "version": "3.7.5"
  }
 },
 "nbformat": 4,
 "nbformat_minor": 2
}
