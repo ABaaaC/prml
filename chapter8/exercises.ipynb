{
 "cells": [
  {
   "cell_type": "markdown",
   "metadata": {},
   "source": [
    "# Chapter 8 exercises"
   ]
  },
  {
   "cell_type": "code",
   "execution_count": 1,
   "metadata": {},
   "outputs": [],
   "source": [
    "import pandas as pd\n",
    "import numpy as np\n",
    "import itertools as it"
   ]
  },
  {
   "cell_type": "code",
   "execution_count": 84,
   "metadata": {},
   "outputs": [],
   "source": [
    "class bcolors:\n",
    "    HEADER = '\\033[95m'\n",
    "    OKBLUE = '\\033[94m'\n",
    "    OKGREEN = '\\033[92m'\n",
    "    WARNING = '\\033[93m'\n",
    "    FAIL = '\\033[91m'\n",
    "    ENDC = '\\033[0m'\n",
    "    BOLD = '\\033[1m'\n",
    "    UNDERLINE = '\\033[4m'\n",
    "\n",
    "def color_print(string, bcolor=bcolors.WARNING):\n",
    "    print(bcolor + string + bcolors.ENDC)"
   ]
  },
  {
   "cell_type": "markdown",
   "metadata": {},
   "source": [
    "## 8.3\n",
    "\n",
    "Consider three binary variables $a, b, c \\in \\{0, 1\\}$ having the joint distribution given by the table below. Show by direct evaluation that this distribution has the property that $a$ and $b$s are marginally dependent, so that $p(a,b) \\neq p(a)p(b)$, but that they become independent when conditioned on $c$ so that $p(a,b|c) = p(a|c)p(b|c)$ fo both $c=0$ and $c=1$"
   ]
  },
  {
   "cell_type": "code",
   "execution_count": 2,
   "metadata": {},
   "outputs": [],
   "source": [
    "p = np.array([\n",
    "    [0, 0, 0, 0.192],\n",
    "    [0, 0, 1, 0.144],\n",
    "    [0, 1, 0, 0.048],\n",
    "    [0, 1, 1, 0.216],\n",
    "    [1, 0, 0, 0.192],\n",
    "    [1, 0, 1, 0.064],\n",
    "    [1, 1, 0, 0.048],\n",
    "    [1, 1, 1, 0.096],\n",
    "])\n",
    "\n",
    "p = pd.DataFrame(p, columns=[\"a\", \"b\", \"c\", \"p_abc\"])\n",
    "p = p.set_index([\"a\", \"b\", \"c\"])"
   ]
  },
  {
   "cell_type": "markdown",
   "metadata": {},
   "source": [
    "#### Factorization without conditioning"
   ]
  },
  {
   "cell_type": "code",
   "execution_count": 3,
   "metadata": {},
   "outputs": [
    {
     "data": {
      "text/html": [
       "<div>\n",
       "<style scoped>\n",
       "    .dataframe tbody tr th:only-of-type {\n",
       "        vertical-align: middle;\n",
       "    }\n",
       "\n",
       "    .dataframe tbody tr th {\n",
       "        vertical-align: top;\n",
       "    }\n",
       "\n",
       "    .dataframe thead th {\n",
       "        text-align: right;\n",
       "    }\n",
       "</style>\n",
       "<table border=\"1\" class=\"dataframe\">\n",
       "  <thead>\n",
       "    <tr style=\"text-align: right;\">\n",
       "      <th></th>\n",
       "      <th></th>\n",
       "      <th>p_abc</th>\n",
       "    </tr>\n",
       "    <tr>\n",
       "      <th>a</th>\n",
       "      <th>b</th>\n",
       "      <th></th>\n",
       "    </tr>\n",
       "  </thead>\n",
       "  <tbody>\n",
       "    <tr>\n",
       "      <th rowspan=\"2\" valign=\"top\">0.0</th>\n",
       "      <th>0.0</th>\n",
       "      <td>0.336</td>\n",
       "    </tr>\n",
       "    <tr>\n",
       "      <th>1.0</th>\n",
       "      <td>0.264</td>\n",
       "    </tr>\n",
       "    <tr>\n",
       "      <th rowspan=\"2\" valign=\"top\">1.0</th>\n",
       "      <th>0.0</th>\n",
       "      <td>0.256</td>\n",
       "    </tr>\n",
       "    <tr>\n",
       "      <th>1.0</th>\n",
       "      <td>0.144</td>\n",
       "    </tr>\n",
       "  </tbody>\n",
       "</table>\n",
       "</div>"
      ],
      "text/plain": [
       "         p_abc\n",
       "a   b         \n",
       "0.0 0.0  0.336\n",
       "    1.0  0.264\n",
       "1.0 0.0  0.256\n",
       "    1.0  0.144"
      ]
     },
     "execution_count": 3,
     "metadata": {},
     "output_type": "execute_result"
    }
   ],
   "source": [
    "# p(a, b)\n",
    "p.xs(0, level=2) + p.xs(1, level=2)"
   ]
  },
  {
   "cell_type": "code",
   "execution_count": 4,
   "metadata": {},
   "outputs": [
    {
     "data": {
      "text/plain": [
       "a    b  \n",
       "0.0  0.0    0.3552\n",
       "     1.0    0.2448\n",
       "1.0  0.0    0.2368\n",
       "     1.0    0.1632\n",
       "dtype: float64"
      ]
     },
     "execution_count": 4,
     "metadata": {},
     "output_type": "execute_result"
    }
   ],
   "source": [
    "# p(a)p(b)\n",
    "p_marg = p.xs(0, level=2) + p.xs(1, level=2)\n",
    "p_a = p_marg.xs(0, level=-1) + p_marg.xs(1, level=-1)\n",
    "p_b = p_marg.xs(0, level=0) + p_marg.xs(1, level=0)\n",
    "\n",
    "p_a[\"key\"] = 1\n",
    "p_b[\"key\"] = 1\n",
    "\n",
    "p_marg = pd.merge(p_a.reset_index(), p_b.reset_index(), on=\"key\",\n",
    "         suffixes=(\"_a\", \"_b\")).drop(\"key\", axis=1)\n",
    "\n",
    "p_marg.set_index([\"a\", \"b\"]).prod(axis=1)"
   ]
  },
  {
   "cell_type": "markdown",
   "metadata": {},
   "source": [
    "#### Factorization with conditioning"
   ]
  },
  {
   "cell_type": "code",
   "execution_count": 5,
   "metadata": {},
   "outputs": [
    {
     "data": {
      "text/html": [
       "<div>\n",
       "<style scoped>\n",
       "    .dataframe tbody tr th:only-of-type {\n",
       "        vertical-align: middle;\n",
       "    }\n",
       "\n",
       "    .dataframe tbody tr th {\n",
       "        vertical-align: top;\n",
       "    }\n",
       "\n",
       "    .dataframe thead th {\n",
       "        text-align: right;\n",
       "    }\n",
       "</style>\n",
       "<table border=\"1\" class=\"dataframe\">\n",
       "  <thead>\n",
       "    <tr style=\"text-align: right;\">\n",
       "      <th></th>\n",
       "      <th></th>\n",
       "      <th>p_abc</th>\n",
       "    </tr>\n",
       "    <tr>\n",
       "      <th>a</th>\n",
       "      <th>b</th>\n",
       "      <th></th>\n",
       "    </tr>\n",
       "  </thead>\n",
       "  <tbody>\n",
       "    <tr>\n",
       "      <th rowspan=\"2\" valign=\"top\">0.0</th>\n",
       "      <th>0.0</th>\n",
       "      <td>0.4</td>\n",
       "    </tr>\n",
       "    <tr>\n",
       "      <th>1.0</th>\n",
       "      <td>0.1</td>\n",
       "    </tr>\n",
       "    <tr>\n",
       "      <th rowspan=\"2\" valign=\"top\">1.0</th>\n",
       "      <th>0.0</th>\n",
       "      <td>0.4</td>\n",
       "    </tr>\n",
       "    <tr>\n",
       "      <th>1.0</th>\n",
       "      <td>0.1</td>\n",
       "    </tr>\n",
       "  </tbody>\n",
       "</table>\n",
       "</div>"
      ],
      "text/plain": [
       "         p_abc\n",
       "a   b         \n",
       "0.0 0.0    0.4\n",
       "    1.0    0.1\n",
       "1.0 0.0    0.4\n",
       "    1.0    0.1"
      ]
     },
     "execution_count": 5,
     "metadata": {},
     "output_type": "execute_result"
    }
   ],
   "source": [
    "# p(a,b|c=0)\n",
    "p_marg = p.xs(0, level=-1)\n",
    "p_marg = p_marg / p_marg.sum()\n",
    "p_marg"
   ]
  },
  {
   "cell_type": "code",
   "execution_count": 6,
   "metadata": {},
   "outputs": [
    {
     "data": {
      "text/plain": [
       "a    b  \n",
       "0.0  0.0    0.4\n",
       "     1.0    0.1\n",
       "1.0  0.0    0.4\n",
       "     1.0    0.1\n",
       "dtype: float64"
      ]
     },
     "execution_count": 6,
     "metadata": {},
     "output_type": "execute_result"
    }
   ],
   "source": [
    "# p(a|c=0)p(b|c=0)\n",
    "p_a = p_marg.sum(level=0)\n",
    "p_b = p_marg.sum(level=1)\n",
    "\n",
    "p_a = p_a.reset_index().assign(key=1)\n",
    "p_b = p_b.reset_index().assign(key=1)\n",
    "\n",
    "p_fact = (pd.merge(p_a, p_b, on=\"key\", suffixes=(\"_a\", \"_b\"))\n",
    "            .drop(\"key\", axis=1)\n",
    "            .set_index([\"a\", \"b\"]))\n",
    "\n",
    "p_fact.prod(axis=1)"
   ]
  },
  {
   "cell_type": "markdown",
   "metadata": {},
   "source": [
    "## 8.4\n",
    "\n",
    "Evaluate the distributions $p(a)$, $p(b | c)$, and $p(c | a)$ corresponding to the joint distribution given in Table 8.2. Hence show by direct evaluation that $p(a, b, c) = p(a)p(c | a)p(b | c)$. Draw the corresponding directed graph."
   ]
  },
  {
   "cell_type": "code",
   "execution_count": 7,
   "metadata": {},
   "outputs": [],
   "source": [
    "p_a = p.sum(level=0)"
   ]
  },
  {
   "cell_type": "code",
   "execution_count": 8,
   "metadata": {},
   "outputs": [
    {
     "data": {
      "text/html": [
       "<div>\n",
       "<style scoped>\n",
       "    .dataframe tbody tr th:only-of-type {\n",
       "        vertical-align: middle;\n",
       "    }\n",
       "\n",
       "    .dataframe tbody tr th {\n",
       "        vertical-align: top;\n",
       "    }\n",
       "\n",
       "    .dataframe thead th {\n",
       "        text-align: right;\n",
       "    }\n",
       "</style>\n",
       "<table border=\"1\" class=\"dataframe\">\n",
       "  <thead>\n",
       "    <tr style=\"text-align: right;\">\n",
       "      <th></th>\n",
       "      <th>p_abc</th>\n",
       "      <th>key</th>\n",
       "    </tr>\n",
       "    <tr>\n",
       "      <th>a</th>\n",
       "      <th></th>\n",
       "      <th></th>\n",
       "    </tr>\n",
       "  </thead>\n",
       "  <tbody>\n",
       "    <tr>\n",
       "      <th>0.0</th>\n",
       "      <td>0.6</td>\n",
       "      <td>1</td>\n",
       "    </tr>\n",
       "    <tr>\n",
       "      <th>1.0</th>\n",
       "      <td>0.4</td>\n",
       "      <td>2</td>\n",
       "    </tr>\n",
       "  </tbody>\n",
       "</table>\n",
       "</div>"
      ],
      "text/plain": [
       "     p_abc  key\n",
       "a              \n",
       "0.0    0.6    1\n",
       "1.0    0.4    2"
      ]
     },
     "execution_count": 8,
     "metadata": {},
     "output_type": "execute_result"
    }
   ],
   "source": [
    "a = 1\n",
    "p_a[\"key\"] = [1,2]\n",
    "p_a"
   ]
  },
  {
   "cell_type": "code",
   "execution_count": 9,
   "metadata": {},
   "outputs": [
    {
     "data": {
      "text/html": [
       "<div>\n",
       "<style scoped>\n",
       "    .dataframe tbody tr th:only-of-type {\n",
       "        vertical-align: middle;\n",
       "    }\n",
       "\n",
       "    .dataframe tbody tr th {\n",
       "        vertical-align: top;\n",
       "    }\n",
       "\n",
       "    .dataframe thead th {\n",
       "        text-align: right;\n",
       "    }\n",
       "</style>\n",
       "<table border=\"1\" class=\"dataframe\">\n",
       "  <thead>\n",
       "    <tr style=\"text-align: right;\">\n",
       "      <th></th>\n",
       "      <th></th>\n",
       "      <th>p_abc</th>\n",
       "      <th>key</th>\n",
       "    </tr>\n",
       "    <tr>\n",
       "      <th>a</th>\n",
       "      <th>c</th>\n",
       "      <th></th>\n",
       "      <th></th>\n",
       "    </tr>\n",
       "  </thead>\n",
       "  <tbody>\n",
       "    <tr>\n",
       "      <th rowspan=\"2\" valign=\"top\">0.0</th>\n",
       "      <th>0.0</th>\n",
       "      <td>0.4</td>\n",
       "      <td>1</td>\n",
       "    </tr>\n",
       "    <tr>\n",
       "      <th>1.0</th>\n",
       "      <td>0.6</td>\n",
       "      <td>1</td>\n",
       "    </tr>\n",
       "    <tr>\n",
       "      <th rowspan=\"2\" valign=\"top\">1.0</th>\n",
       "      <th>0.0</th>\n",
       "      <td>0.6</td>\n",
       "      <td>2</td>\n",
       "    </tr>\n",
       "    <tr>\n",
       "      <th>1.0</th>\n",
       "      <td>0.4</td>\n",
       "      <td>2</td>\n",
       "    </tr>\n",
       "  </tbody>\n",
       "</table>\n",
       "</div>"
      ],
      "text/plain": [
       "         p_abc  key\n",
       "a   c              \n",
       "0.0 0.0    0.4    1\n",
       "    1.0    0.6    1\n",
       "1.0 0.0    0.6    2\n",
       "    1.0    0.4    2"
      ]
     },
     "execution_count": 9,
     "metadata": {},
     "output_type": "execute_result"
    }
   ],
   "source": [
    "# p(c|a)\n",
    "p_c_giv_a = p.sum(level=[\"a\", \"c\"]) / p.sum(level=[\"a\", \"c\"]).sum(level=0)\n",
    "p_c_giv_a[\"key\"] = [1, 1, 2, 2]\n",
    "p_c_giv_a"
   ]
  },
  {
   "cell_type": "code",
   "execution_count": 10,
   "metadata": {},
   "outputs": [
    {
     "data": {
      "text/html": [
       "<div>\n",
       "<style scoped>\n",
       "    .dataframe tbody tr th:only-of-type {\n",
       "        vertical-align: middle;\n",
       "    }\n",
       "\n",
       "    .dataframe tbody tr th {\n",
       "        vertical-align: top;\n",
       "    }\n",
       "\n",
       "    .dataframe thead th {\n",
       "        text-align: right;\n",
       "    }\n",
       "</style>\n",
       "<table border=\"1\" class=\"dataframe\">\n",
       "  <thead>\n",
       "    <tr style=\"text-align: right;\">\n",
       "      <th></th>\n",
       "      <th></th>\n",
       "      <th>p_abc</th>\n",
       "      <th>key</th>\n",
       "    </tr>\n",
       "    <tr>\n",
       "      <th>b</th>\n",
       "      <th>c</th>\n",
       "      <th></th>\n",
       "      <th></th>\n",
       "    </tr>\n",
       "  </thead>\n",
       "  <tbody>\n",
       "    <tr>\n",
       "      <th rowspan=\"2\" valign=\"top\">0.0</th>\n",
       "      <th>0.0</th>\n",
       "      <td>0.8</td>\n",
       "      <td>1</td>\n",
       "    </tr>\n",
       "    <tr>\n",
       "      <th>1.0</th>\n",
       "      <td>0.4</td>\n",
       "      <td>2</td>\n",
       "    </tr>\n",
       "    <tr>\n",
       "      <th rowspan=\"2\" valign=\"top\">1.0</th>\n",
       "      <th>0.0</th>\n",
       "      <td>0.2</td>\n",
       "      <td>1</td>\n",
       "    </tr>\n",
       "    <tr>\n",
       "      <th>1.0</th>\n",
       "      <td>0.6</td>\n",
       "      <td>2</td>\n",
       "    </tr>\n",
       "  </tbody>\n",
       "</table>\n",
       "</div>"
      ],
      "text/plain": [
       "         p_abc  key\n",
       "b   c              \n",
       "0.0 0.0    0.8    1\n",
       "    1.0    0.4    2\n",
       "1.0 0.0    0.2    1\n",
       "    1.0    0.6    2"
      ]
     },
     "execution_count": 10,
     "metadata": {},
     "output_type": "execute_result"
    }
   ],
   "source": [
    "# p(b|c)\n",
    "p_b_giv_c = p.sum(level=[\"b\", \"c\"]) / p.sum(level=[\"b\", \"c\"]).sum(level=1)\n",
    "p_b_giv_c[\"key\"] = [1, 2, 1, 2]\n",
    "p_b_giv_c"
   ]
  },
  {
   "cell_type": "code",
   "execution_count": 11,
   "metadata": {},
   "outputs": [],
   "source": [
    "fact = p_a.merge(p_c_giv_a.reset_index(), on=\"key\")\n",
    "fact = fact.drop([\"key\"], axis=1).set_index([\"a\", \"c\"])\n",
    "fact = fact.prod(axis=1)\n",
    "fact = pd.DataFrame(fact, columns=[\"p\"])\n",
    "fact[\"key\"] = [1, 2, 1, 2]\n",
    "\n",
    "fact = fact.reset_index().merge(p_b_giv_c.reset_index(), on=\"key\")\n",
    "fact = fact.rename({\"c_x\": \"c\"}, axis=1).drop([\"key\", \"c_y\"], axis=1)\n",
    "fact = fact.groupby([\"a\", \"c\", \"b\"]).sum().prod(axis=1)\n",
    "\n",
    "fact.name=\"p_factorized\""
   ]
  },
  {
   "cell_type": "markdown",
   "metadata": {},
   "source": [
    "Final Answer:\n",
    "\n",
    "Contains a bug: c-level is swapped"
   ]
  },
  {
   "cell_type": "code",
   "execution_count": 338,
   "metadata": {},
   "outputs": [
    {
     "data": {
      "text/html": [
       "<div>\n",
       "<style scoped>\n",
       "    .dataframe tbody tr th:only-of-type {\n",
       "        vertical-align: middle;\n",
       "    }\n",
       "\n",
       "    .dataframe tbody tr th {\n",
       "        vertical-align: top;\n",
       "    }\n",
       "\n",
       "    .dataframe thead th {\n",
       "        text-align: right;\n",
       "    }\n",
       "</style>\n",
       "<table border=\"1\" class=\"dataframe\">\n",
       "  <thead>\n",
       "    <tr style=\"text-align: right;\">\n",
       "      <th></th>\n",
       "      <th></th>\n",
       "      <th></th>\n",
       "      <th>p_abc</th>\n",
       "      <th>p_factorized</th>\n",
       "    </tr>\n",
       "    <tr>\n",
       "      <th>a</th>\n",
       "      <th>b</th>\n",
       "      <th>c</th>\n",
       "      <th></th>\n",
       "      <th></th>\n",
       "    </tr>\n",
       "  </thead>\n",
       "  <tbody>\n",
       "    <tr>\n",
       "      <th rowspan=\"4\" valign=\"top\">0.0</th>\n",
       "      <th rowspan=\"2\" valign=\"top\">0.0</th>\n",
       "      <th>0.0</th>\n",
       "      <td>0.192</td>\n",
       "      <td>0.192</td>\n",
       "    </tr>\n",
       "    <tr>\n",
       "      <th>1.0</th>\n",
       "      <td>0.144</td>\n",
       "      <td>0.048</td>\n",
       "    </tr>\n",
       "    <tr>\n",
       "      <th rowspan=\"2\" valign=\"top\">1.0</th>\n",
       "      <th>0.0</th>\n",
       "      <td>0.048</td>\n",
       "      <td>0.144</td>\n",
       "    </tr>\n",
       "    <tr>\n",
       "      <th>1.0</th>\n",
       "      <td>0.216</td>\n",
       "      <td>0.216</td>\n",
       "    </tr>\n",
       "    <tr>\n",
       "      <th rowspan=\"4\" valign=\"top\">1.0</th>\n",
       "      <th rowspan=\"2\" valign=\"top\">0.0</th>\n",
       "      <th>0.0</th>\n",
       "      <td>0.192</td>\n",
       "      <td>0.192</td>\n",
       "    </tr>\n",
       "    <tr>\n",
       "      <th>1.0</th>\n",
       "      <td>0.064</td>\n",
       "      <td>0.048</td>\n",
       "    </tr>\n",
       "    <tr>\n",
       "      <th rowspan=\"2\" valign=\"top\">1.0</th>\n",
       "      <th>0.0</th>\n",
       "      <td>0.048</td>\n",
       "      <td>0.064</td>\n",
       "    </tr>\n",
       "    <tr>\n",
       "      <th>1.0</th>\n",
       "      <td>0.096</td>\n",
       "      <td>0.096</td>\n",
       "    </tr>\n",
       "  </tbody>\n",
       "</table>\n",
       "</div>"
      ],
      "text/plain": [
       "             p_abc  p_factorized\n",
       "a   b   c                       \n",
       "0.0 0.0 0.0  0.192         0.192\n",
       "        1.0  0.144         0.048\n",
       "    1.0 0.0  0.048         0.144\n",
       "        1.0  0.216         0.216\n",
       "1.0 0.0 0.0  0.192         0.192\n",
       "        1.0  0.064         0.048\n",
       "    1.0 0.0  0.048         0.064\n",
       "        1.0  0.096         0.096"
      ]
     },
     "execution_count": 338,
     "metadata": {},
     "output_type": "execute_result"
    }
   ],
   "source": [
    "p.join(fact, on=[\"a\", \"b\", \"c\"])"
   ]
  },
  {
   "cell_type": "markdown",
   "metadata": {},
   "source": [
    "## 8.8\n",
    "Consider the graphical model represented by the *noist*-OR\n",
    "$$\n",
    "    p(y=1|x_1, \\ldots, x_M) = 1 - (1 - \\mu_0)\\prod_{n=1}^N(1 - \\mu_i)^{x_i}\n",
    "$$\n",
    "\n",
    "Show that $p$ can be interpreted as a \"soft\" (probabilisitc) form of the logical OR function (i.e, the function that gives $y=1$ whenever at least on the $x_i=1$). Discuss the interpretation of $\\mu_0$"
   ]
  },
  {
   "cell_type": "code",
   "execution_count": 62,
   "metadata": {},
   "outputs": [
    {
     "name": "stdout",
     "output_type": "stream",
     "text": [
      "p(y|mu_1=0, mu_2=0)=0\n",
      "p(y|mu_1=0, mu_2=1)=1\n",
      "p(y|mu_1=1, mu_2=0)=1\n",
      "p(y|mu_1=1, mu_2=1)=1\n"
     ]
    }
   ],
   "source": [
    "# ** Considering two parameters plus the null term: mu_0, mu_1, mu_2 **\n",
    "mu_0, mu_1, mu_2 = 0, 0, 0\n",
    "# We consider x1 and x2 as variables to consider inside the OR\n",
    "for mu_1, mu_2 in it.product([0, 1], repeat=2):\n",
    "    p_y = 1 - (1 - mu_0) * (1 - mu_1) ** x1 * (1 - mu_2) ** x2\n",
    "    print(f\"p(y|mu_1={mu_1}, mu_2={mu_2})={p_y}\")"
   ]
  },
  {
   "cell_type": "code",
   "execution_count": 70,
   "metadata": {},
   "outputs": [
    {
     "name": "stdout",
     "output_type": "stream",
     "text": [
      "p(y|mu_1=0, mu_2=0, mu_3=0, mu_4=0)=0\n",
      "p(y|mu_1=0, mu_2=0, mu_3=0, mu_4=1)=1\n",
      "p(y|mu_1=0, mu_2=0, mu_3=1, mu_4=0)=1\n",
      "p(y|mu_1=0, mu_2=0, mu_3=1, mu_4=1)=1\n",
      "p(y|mu_1=0, mu_2=1, mu_3=0, mu_4=0)=1\n",
      "p(y|mu_1=0, mu_2=1, mu_3=0, mu_4=1)=1\n",
      "p(y|mu_1=0, mu_2=1, mu_3=1, mu_4=0)=1\n",
      "p(y|mu_1=0, mu_2=1, mu_3=1, mu_4=1)=1\n",
      "p(y|mu_1=1, mu_2=0, mu_3=0, mu_4=0)=1\n",
      "p(y|mu_1=1, mu_2=0, mu_3=0, mu_4=1)=1\n",
      "p(y|mu_1=1, mu_2=0, mu_3=1, mu_4=0)=1\n",
      "p(y|mu_1=1, mu_2=0, mu_3=1, mu_4=1)=1\n",
      "p(y|mu_1=1, mu_2=1, mu_3=0, mu_4=0)=1\n",
      "p(y|mu_1=1, mu_2=1, mu_3=0, mu_4=1)=1\n",
      "p(y|mu_1=1, mu_2=1, mu_3=1, mu_4=0)=1\n",
      "p(y|mu_1=1, mu_2=1, mu_3=1, mu_4=1)=1\n"
     ]
    }
   ],
   "source": [
    "# ** Considering four parameters plus the null term: mu_0, mu_1, mu_2, mu_3, mu_4 **\n",
    "\n",
    "x1, x2, x3, x4 = 1, 1, 1, 1\n",
    "# We consider x1 and x2 as variables to consider inside the OR\n",
    "for mu_1, mu_2, mu_3, mu_4 in it.product([0, 1], repeat=4):\n",
    "    p_y = 1 - (1 - mu_0) * (1 - mu_1) ** x1 * (1 - mu_2) ** x2 * (1 - mu_3) ** x3 * (1 - mu_4) ** x4\n",
    "    print(f\"p(y|mu_1={mu_1}, mu_2={mu_2}, mu_3={mu_3}, mu_4={mu_4})={p_y}\")"
   ]
  },
  {
   "cell_type": "markdown",
   "metadata": {},
   "source": [
    "First remarks: \n",
    "\n",
    "* The $\\{x_n\\}_{n=1}^N$ elements control for which variables are we interested in computing the *soft*-OR fuction\n",
    "* If the model considers $\\forall n\\geq 1. \\mu_n\\in\\{0,1\\}$ and $\\mu_0 = 0$, then the model corresponds to the *hard* OR function"
   ]
  },
  {
   "cell_type": "code",
   "execution_count": 93,
   "metadata": {
    "scrolled": true
   },
   "outputs": [
    {
     "name": "stdout",
     "output_type": "stream",
     "text": [
      "\u001b[93mp(y|mu_1=0, mu_2=0, mu_3=0, mu_4=0)=0\u001b[0m\n",
      "p(y|mu_1=0, mu_2=0, mu_3=0, mu_4=1)=1\n",
      "\u001b[93mp(y|mu_1=0, mu_2=0, mu_3=1, mu_4=0)=0\u001b[0m\n",
      "p(y|mu_1=0, mu_2=0, mu_3=1, mu_4=1)=1\n",
      "p(y|mu_1=0, mu_2=1, mu_3=0, mu_4=0)=1\n",
      "p(y|mu_1=0, mu_2=1, mu_3=0, mu_4=1)=1\n",
      "p(y|mu_1=0, mu_2=1, mu_3=1, mu_4=0)=1\n",
      "p(y|mu_1=0, mu_2=1, mu_3=1, mu_4=1)=1\n",
      "\u001b[93mp(y|mu_1=1, mu_2=0, mu_3=0, mu_4=0)=0\u001b[0m\n",
      "p(y|mu_1=1, mu_2=0, mu_3=0, mu_4=1)=1\n",
      "\u001b[93mp(y|mu_1=1, mu_2=0, mu_3=1, mu_4=0)=0\u001b[0m\n",
      "p(y|mu_1=1, mu_2=0, mu_3=1, mu_4=1)=1\n",
      "p(y|mu_1=1, mu_2=1, mu_3=0, mu_4=0)=1\n",
      "p(y|mu_1=1, mu_2=1, mu_3=0, mu_4=1)=1\n",
      "p(y|mu_1=1, mu_2=1, mu_3=1, mu_4=0)=1\n",
      "p(y|mu_1=1, mu_2=1, mu_3=1, mu_4=1)=1\n"
     ]
    }
   ],
   "source": [
    "# In this example, we \"turn off\" x1 and x3, meaning that the OR\n",
    "# function is computing using only x2 and x4 \n",
    "\n",
    "x1, x2, x3, x4 = 0, 1, 0, 1\n",
    "# We consider x1 and x2 as variables to consider inside the OR\n",
    "for mu_1, mu_2, mu_3, mu_4 in it.product([0, 1], repeat=4):\n",
    "    p_y = 1 - (1 - mu_0) * (1 - mu_1) ** x1 * (1 - mu_2) ** x2 * (1 - mu_3) ** x3 * (1 - mu_4) ** x4\n",
    "    p_y_str = f\"p(y|mu_1={mu_1}, mu_2={mu_2}, mu_3={mu_3}, mu_4={mu_4})={p_y}\"\n",
    "    if (mu_2 == 0 or mu_3 == 0) and p_y == 0:\n",
    "        color_print(p_y_str)\n",
    "    else:\n",
    "        print(p_y_str)"
   ]
  },
  {
   "cell_type": "markdown",
   "metadata": {},
   "source": [
    "**The more general case**\n",
    "\n",
    "$\\mu_0$ controls the level of the *null* term: the bigger it is, the more the null terms (0) converge to 1"
   ]
  },
  {
   "cell_type": "code",
   "execution_count": 146,
   "metadata": {},
   "outputs": [
    {
     "name": "stdout",
     "output_type": "stream",
     "text": [
      "p(y|mu_1=0, mu_2=0, mu_3=0, mu_4=1)=0.45\n",
      "p(y|mu_1=0, mu_2=0, mu_3=1, mu_4=1)=0.45\n",
      "p(y|mu_1=0, mu_2=1, mu_3=0, mu_4=1)=1.0\n",
      "p(y|mu_1=0, mu_2=1, mu_3=1, mu_4=1)=1.0\n",
      "p(y|mu_1=1, mu_2=0, mu_3=0, mu_4=1)=0.45\n",
      "p(y|mu_1=1, mu_2=0, mu_3=1, mu_4=1)=0.45\n",
      "p(y|mu_1=1, mu_2=1, mu_3=0, mu_4=1)=1.0\n",
      "p(y|mu_1=1, mu_2=1, mu_3=1, mu_4=1)=1.0\n"
     ]
    }
   ],
   "source": [
    "x1, x2, x3 = 0, 1, 0\n",
    "\n",
    "mu_0 = 0.45\n",
    "# We consider x1 and x2 as variables to consider inside the OR\n",
    "for mu_1, mu_2, mu_3 in it.product([0, 1], repeat=3):\n",
    "    p_y = 1 - (1 - mu_0) * (1 - mu_1) ** x1 * (1 - mu_2) ** x2 * (1 - mu_3) ** x3\n",
    "    p_y_str = f\"p(y|mu_1={mu_1}, mu_2={mu_2}, mu_3={mu_3}, mu_4={mu_4})={p_y:.2}\"\n",
    "    print(p_y_str)"
   ]
  },
  {
   "cell_type": "markdown",
   "metadata": {},
   "source": [
    "$\\forall n\\geq 1.\\mu_n$ controls the value of the positive terms"
   ]
  },
  {
   "cell_type": "code",
   "execution_count": 147,
   "metadata": {},
   "outputs": [
    {
     "name": "stdout",
     "output_type": "stream",
     "text": [
      "p(y|x1=0, x2=0, x3=0)=0.00\n",
      "p(y|x1=0, x2=0, x3=1)=0.50\n",
      "p(y|x1=0, x2=1, x3=0)=0.20\n",
      "p(y|x1=0, x2=1, x3=1)=0.60\n",
      "p(y|x1=1, x2=0, x3=0)=0.30\n",
      "p(y|x1=1, x2=0, x3=1)=0.65\n",
      "p(y|x1=1, x2=1, x3=0)=0.44\n",
      "p(y|x1=1, x2=1, x3=1)=0.72\n"
     ]
    }
   ],
   "source": [
    "\n",
    "mu_1, mu_2, mu_3 = 0.3, 0.2, 0.5\n",
    "mu_0 = 0\n",
    "# We consider x1 and x2 as variables to consider inside the OR\n",
    "for x1, x2, x3 in it.product([0, 1], repeat=3):\n",
    "    p_y = 1 - (1 - mu_0) * (1 - mu_1) ** x1 * (1 - mu_2) ** x2 * (1 - mu_3) ** x3\n",
    "    p_y_str = f\"p(y|x1={x1}, x2={x2}, x3={x3})={p_y:.2f}\"\n",
    "    print(p_y_str)"
   ]
  }
 ],
 "metadata": {
  "kernelspec": {
   "display_name": "Python 3",
   "language": "python",
   "name": "python3"
  },
  "language_info": {
   "codemirror_mode": {
    "name": "ipython",
    "version": 3
   },
   "file_extension": ".py",
   "mimetype": "text/x-python",
   "name": "python",
   "nbconvert_exporter": "python",
   "pygments_lexer": "ipython3",
   "version": "3.7.4"
  }
 },
 "nbformat": 4,
 "nbformat_minor": 2
}
