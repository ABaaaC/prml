{
 "cells": [
  {
   "cell_type": "markdown",
   "metadata": {},
   "source": [
    "# Relevance Vector Machine "
   ]
  },
  {
   "cell_type": "code",
   "execution_count": 1,
   "metadata": {},
   "outputs": [],
   "source": [
    "from sympy import symbols, Matrix, MatrixSymbol, Identity"
   ]
  },
  {
   "cell_type": "code",
   "execution_count": 2,
   "metadata": {},
   "outputs": [],
   "source": [
    "a1, a2, a3 = symbols(\"alpha1 alpha2 alpha3\")\n",
    "beta = symbols(\"beta\")"
   ]
  },
  {
   "cell_type": "code",
   "execution_count": 3,
   "metadata": {},
   "outputs": [],
   "source": [
    "Phi = MatrixSymbol(\"Phi\", 3, 3)\n",
    "A = Matrix([[a1, 0, 0], [0, a2, 0], [0, 0, a3]])\n",
    "C = beta * Identity(3) + Phi @ A.inv() @ Phi"
   ]
  },
  {
   "cell_type": "code",
   "execution_count": 4,
   "metadata": {},
   "outputs": [
    {
     "data": {
      "text/latex": [
       "$\\displaystyle \\left[\\begin{matrix}\\Phi_{0, 0}^{2} & \\Phi_{0, 0} \\Phi_{1, 0} & \\Phi_{0, 0} \\Phi_{2, 0}\\\\\\Phi_{0, 0} \\Phi_{1, 0} & \\Phi_{1, 0}^{2} & \\Phi_{1, 0} \\Phi_{2, 0}\\\\\\Phi_{0, 0} \\Phi_{2, 0} & \\Phi_{1, 0} \\Phi_{2, 0} & \\Phi_{2, 0}^{2}\\end{matrix}\\right]$"
      ],
      "text/plain": [
       "Matrix([\n",
       "[       Phi[0, 0]**2, Phi[0, 0]*Phi[1, 0], Phi[0, 0]*Phi[2, 0]],\n",
       "[Phi[0, 0]*Phi[1, 0],        Phi[1, 0]**2, Phi[1, 0]*Phi[2, 0]],\n",
       "[Phi[0, 0]*Phi[2, 0], Phi[1, 0]*Phi[2, 0],        Phi[2, 0]**2]])"
      ]
     },
     "execution_count": 4,
     "metadata": {},
     "output_type": "execute_result"
    }
   ],
   "source": [
    "Ad = Matrix([[1, 0, 0], [0, 0, 0], [0, 0, 0]])\n",
    "(Phi @ Ad @ Phi.T).as_explicit()"
   ]
  },
  {
   "cell_type": "code",
   "execution_count": 26,
   "metadata": {},
   "outputs": [
    {
     "data": {
      "text/latex": [
       "$\\displaystyle \\left[\\begin{matrix}\\Phi_{0, 0}^{2} & \\Phi_{0, 0} \\Phi_{1, 0} & \\Phi_{0, 0} \\Phi_{2, 0}\\\\\\Phi_{0, 0} \\Phi_{1, 0} & \\Phi_{1, 0}^{2} & \\Phi_{1, 0} \\Phi_{2, 0}\\\\\\Phi_{0, 0} \\Phi_{2, 0} & \\Phi_{1, 0} \\Phi_{2, 0} & \\Phi_{2, 0}^{2}\\end{matrix}\\right]$"
      ],
      "text/plain": [
       "Matrix([\n",
       "[       Phi[0, 0]**2, Phi[0, 0]*Phi[1, 0], Phi[0, 0]*Phi[2, 0]],\n",
       "[Phi[0, 0]*Phi[1, 0],        Phi[1, 0]**2, Phi[1, 0]*Phi[2, 0]],\n",
       "[Phi[0, 0]*Phi[2, 0], Phi[1, 0]*Phi[2, 0],        Phi[2, 0]**2]])"
      ]
     },
     "execution_count": 26,
     "metadata": {},
     "output_type": "execute_result"
    }
   ],
   "source": [
    "(Phi @ Ad @ Phi.T).as_explicit()"
   ]
  },
  {
   "cell_type": "code",
   "execution_count": 18,
   "metadata": {},
   "outputs": [
    {
     "data": {
      "text/latex": [
       "$\\displaystyle \\left[\\begin{matrix}\\alpha_{1}\\\\0\\\\0\\end{matrix}\\right]$"
      ],
      "text/plain": [
       "Matrix([\n",
       "[alpha1],\n",
       "[     0],\n",
       "[     0]])"
      ]
     },
     "execution_count": 18,
     "metadata": {},
     "output_type": "execute_result"
    }
   ],
   "source": [
    "Ad = Matrix([[1, 0, 0], [0, 0, 0], [0, 0, 0]])\n",
    "Ad @ Matrix([[a1, a2, a3]]).T"
   ]
  }
 ],
 "metadata": {
  "kernelspec": {
   "display_name": "Python 3",
   "language": "python",
   "name": "python3"
  },
  "language_info": {
   "codemirror_mode": {
    "name": "ipython",
    "version": 3
   },
   "file_extension": ".py",
   "mimetype": "text/x-python",
   "name": "python",
   "nbconvert_exporter": "python",
   "pygments_lexer": "ipython3",
   "version": "3.7.5"
  }
 },
 "nbformat": 4,
 "nbformat_minor": 2
}
