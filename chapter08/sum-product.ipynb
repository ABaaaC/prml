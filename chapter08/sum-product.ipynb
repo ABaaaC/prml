{
 "cells": [
  {
   "cell_type": "markdown",
   "metadata": {},
   "source": [
    "# The Sum-Product *Message* Algorithm\n",
    "\n",
    "1. Arbitrarly pick any node as the root\n",
    "2. Propagate messages from the leaves to the root node\n",
    "3. After propagation, the root node will have received messages from all of its neighbors, thus allowing the root to send messages to its neighbors\n",
    "4. Each neighboring node of the root will have already recieved all of the messages thus allowing it to send out messages along the links going away  frm the root and so on."
   ]
  }
 ],
 "metadata": {
  "kernelspec": {
   "display_name": "Python 3",
   "language": "python",
   "name": "python3"
  },
  "language_info": {
   "codemirror_mode": {
    "name": "ipython",
    "version": 3
   },
   "file_extension": ".py",
   "mimetype": "text/x-python",
   "name": "python",
   "nbconvert_exporter": "python",
   "pygments_lexer": "ipython3",
   "version": "3.7.4"
  }
 },
 "nbformat": 4,
 "nbformat_minor": 2
}
